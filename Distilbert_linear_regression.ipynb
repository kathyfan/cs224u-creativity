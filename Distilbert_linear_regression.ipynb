{
 "cells": [
  {
   "cell_type": "markdown",
   "metadata": {
    "id": "p270iyuaIsPb"
   },
   "source": [
    "This notebook is written based on [this reference implementation](https://github.com/bentrevett/pytorch-sentiment-analysis/blob/master/6%20-%20Transformers%20for%20Sentiment%20Analysis.ipynb).\n",
    "\n",
    "Other refs for model:\n",
    "* https://stackoverflow.com/questions/65205582/how-can-i-add-a-bi-lstm-layer-on-top-of-bert-model\n",
    "* https://discuss.pytorch.org/t/how-to-connect-hook-two-or-even-more-models-together/21033\n",
    "* https://pytorch.org/tutorials/beginner/transformer_tutorial.html\n",
    "* https://pytorch.org/tutorials/beginner/basics/buildmodel_tutorial.html\n",
    "\n",
    "Other refs for torchtext:\n",
    "* https://towardsdatascience.com/use-torchtext-to-load-nlp-datasets-part-i-5da6f1c89d84\n",
    "* https://towardsdatascience.com/use-torchtext-to-load-nlp-datasets-part-ii-f146c8b9a496\n",
    "* http://anie.me/On-Torchtext/"
   ]
  },
  {
   "cell_type": "markdown",
   "metadata": {
    "id": "FRXm2FfxzC9A"
   },
   "source": [
    "# Imports and setup"
   ]
  },
  {
   "cell_type": "code",
   "execution_count": 3,
   "metadata": {
    "executionInfo": {
     "elapsed": 5222,
     "status": "ok",
     "timestamp": 1621625578255,
     "user": {
      "displayName": "Xubo Cao",
      "photoUrl": "",
      "userId": "10438589586656072815"
     },
     "user_tz": 420
    },
    "id": "QtVQ8yVAzMTS"
   },
   "outputs": [],
   "source": [
    "import pandas as pd\n",
    "import numpy as np\n",
    "import os\n",
    "import random\n",
    "# random.seed(1)\n",
    "import re\n",
    "\n",
    "# Data processing.\n",
    "import constants # constants.py\n",
    "import dataset # dataset.py\n",
    "import torch\n",
    "\n",
    "# Model.\n",
    "import models # models.py\n",
    "import torch.nn as nn\n",
    "\n",
    "# Training.\n",
    "import training # training.py\n",
    "import utils # utils.py\n",
    "\n",
    "# If you make a code change that doesn't get picked up by\n",
    "# Jupyter notebook, try reloading like below:\n",
    "# import imp\n",
    "# imp.reload(training)"
   ]
  },
  {
   "cell_type": "markdown",
   "metadata": {
    "id": "PL4p_28SzGCv"
   },
   "source": [
    "# Read the data\n",
    "Skip this section if you've already ran the notebook once and have the csvs locally."
   ]
  },
  {
   "cell_type": "code",
   "execution_count": 3,
   "metadata": {
    "executionInfo": {
     "elapsed": 2809,
     "status": "ok",
     "timestamp": 1621625592336,
     "user": {
      "displayName": "Xubo Cao",
      "photoUrl": "",
      "userId": "10438589586656072815"
     },
     "user_tz": 420
    },
    "id": "HwNKmWDey-q9"
   },
   "outputs": [],
   "source": [
    "# data_df = dataset.read_multiple_datasets([1,2,3], 'Creativity_Combined', shuffle=True)"
   ]
  },
  {
   "cell_type": "code",
   "execution_count": 4,
   "metadata": {
    "executionInfo": {
     "elapsed": 1002,
     "status": "ok",
     "timestamp": 1621625593325,
     "user": {
      "displayName": "Xubo Cao",
      "photoUrl": "",
      "userId": "10438589586656072815"
     },
     "user_tz": 420
    },
    "id": "wvWVLrupUEnt"
   },
   "outputs": [],
   "source": [
    "'''This cell is commented out because the csvs should already exist in the directory.\n",
    "If you are running the notebook for the first time, run them to generate the csvs.'''\n",
    "# split into train, test sets. (Train set will be further split into \n",
    "# train+validation sets, via k-fold CV.)\n",
    "# train_df = data_df[:1000]\n",
    "# test_df = data_df[1000:] # roughly 203 test examples set aside\n",
    "\n",
    "# write them to CSV files\n",
    "# train_df.to_csv('ktrain.csv', index=False, header=False)\n",
    "# test_df.to_csv('ktest.csv', index=False, header=False)"
   ]
  },
  {
   "cell_type": "markdown",
   "metadata": {
    "id": "eXVH4t-UC_wD"
   },
   "source": [
    "## Preprocessing and transform into torchtext Dataset format.\n",
    "\n",
    "From what I understand, some preprocessing is done when data.Field() is applied."
   ]
  },
  {
   "cell_type": "code",
   "execution_count": 21,
   "metadata": {
    "executionInfo": {
     "elapsed": 2679,
     "status": "ok",
     "timestamp": 1621625596002,
     "user": {
      "displayName": "Xubo Cao",
      "photoUrl": "",
      "userId": "10438589586656072815"
     },
     "user_tz": 420
    },
    "id": "ifqSE8yj76Vb"
   },
   "outputs": [],
   "source": [
    "train_dataset, test_dataset = dataset.get_train_test_datasets()"
   ]
  },
  {
   "cell_type": "code",
   "execution_count": 22,
   "metadata": {
    "executionInfo": {
     "elapsed": 15,
     "status": "ok",
     "timestamp": 1621625596006,
     "user": {
      "displayName": "Xubo Cao",
      "photoUrl": "",
      "userId": "10438589586656072815"
     },
     "user_tz": 420
    },
    "id": "zfxEmIj65PFa"
   },
   "outputs": [],
   "source": [
    "# Transform train_dataset into an np array representation.\n",
    "# This will be used for generating the K folds.\n",
    "train_exs_arr = np.array(train_dataset.examples)"
   ]
  },
  {
   "cell_type": "markdown",
   "metadata": {
    "id": "wb9qlt-_0xlO"
   },
   "source": [
    "# Training pipeline begins here\n"
   ]
  },
  {
   "cell_type": "code",
   "execution_count": 32,
   "metadata": {},
   "outputs": [
    {
     "name": "stdout",
     "output_type": "stream",
     "text": [
      "training on fold 0\n"
     ]
    },
    {
     "name": "stderr",
     "output_type": "stream",
     "text": [
      "Some weights of the model checkpoint at distilbert-base-uncased were not used when initializing DistilBertModel: ['vocab_projector.bias', 'vocab_layer_norm.bias', 'vocab_layer_norm.weight', 'vocab_transform.bias', 'vocab_projector.weight', 'vocab_transform.weight']\n",
      "- This IS expected if you are initializing DistilBertModel from the checkpoint of a model trained on another task or with another architecture (e.g. initializing a BertForSequenceClassification model from a BertForPreTraining model).\n",
      "- This IS NOT expected if you are initializing DistilBertModel from the checkpoint of a model that you expect to be exactly identical (initializing a BertForSequenceClassification model from a BertForSequenceClassification model).\n"
     ]
    },
    {
     "name": "stdout",
     "output_type": "stream",
     "text": [
      "Epoch: 00 | Epoch Time: 0m 49s\n",
      "\t Train Loss: 8.622 | Train Corr: 0.22\n",
      "\t Val. Loss: 4.616 |  Val. Corr: 0.48\n",
      "Epoch: 01 | Epoch Time: 0m 46s\n",
      "\t Train Loss: 2.875 | Train Corr: 0.62\n",
      "\t Val. Loss: 3.015 |  Val. Corr: 0.62\n",
      "Epoch: 02 | Epoch Time: 0m 45s\n",
      "\t Train Loss: 2.238 | Train Corr: 0.72\n",
      "\t Val. Loss: 3.333 |  Val. Corr: 0.62\n",
      "training on fold 1\n"
     ]
    },
    {
     "name": "stderr",
     "output_type": "stream",
     "text": [
      "Some weights of the model checkpoint at distilbert-base-uncased were not used when initializing DistilBertModel: ['vocab_projector.bias', 'vocab_layer_norm.bias', 'vocab_layer_norm.weight', 'vocab_transform.bias', 'vocab_projector.weight', 'vocab_transform.weight']\n",
      "- This IS expected if you are initializing DistilBertModel from the checkpoint of a model trained on another task or with another architecture (e.g. initializing a BertForSequenceClassification model from a BertForPreTraining model).\n",
      "- This IS NOT expected if you are initializing DistilBertModel from the checkpoint of a model that you expect to be exactly identical (initializing a BertForSequenceClassification model from a BertForSequenceClassification model).\n"
     ]
    },
    {
     "name": "stdout",
     "output_type": "stream",
     "text": [
      "Epoch: 00 | Epoch Time: 0m 48s\n",
      "\t Train Loss: 9.848 | Train Corr: 0.20\n",
      "\t Val. Loss: 5.443 |  Val. Corr: 0.58\n",
      "Epoch: 01 | Epoch Time: 0m 47s\n",
      "\t Train Loss: 3.330 | Train Corr: 0.53\n",
      "\t Val. Loss: 5.027 |  Val. Corr: 0.68\n",
      "Epoch: 02 | Epoch Time: 0m 47s\n",
      "\t Train Loss: 2.496 | Train Corr: 0.67\n",
      "\t Val. Loss: 4.269 |  Val. Corr: 0.65\n",
      "training on fold 2\n"
     ]
    },
    {
     "name": "stderr",
     "output_type": "stream",
     "text": [
      "Some weights of the model checkpoint at distilbert-base-uncased were not used when initializing DistilBertModel: ['vocab_projector.bias', 'vocab_layer_norm.bias', 'vocab_layer_norm.weight', 'vocab_transform.bias', 'vocab_projector.weight', 'vocab_transform.weight']\n",
      "- This IS expected if you are initializing DistilBertModel from the checkpoint of a model trained on another task or with another architecture (e.g. initializing a BertForSequenceClassification model from a BertForPreTraining model).\n",
      "- This IS NOT expected if you are initializing DistilBertModel from the checkpoint of a model that you expect to be exactly identical (initializing a BertForSequenceClassification model from a BertForSequenceClassification model).\n"
     ]
    },
    {
     "name": "stdout",
     "output_type": "stream",
     "text": [
      "Epoch: 00 | Epoch Time: 0m 48s\n",
      "\t Train Loss: 8.632 | Train Corr: 0.22\n",
      "\t Val. Loss: 5.713 |  Val. Corr: 0.50\n",
      "Epoch: 01 | Epoch Time: 0m 46s\n",
      "\t Train Loss: 3.621 | Train Corr: 0.51\n",
      "\t Val. Loss: 5.273 |  Val. Corr: 0.65\n",
      "Epoch: 02 | Epoch Time: 0m 46s\n",
      "\t Train Loss: 2.775 | Train Corr: 0.65\n",
      "\t Val. Loss: 4.530 |  Val. Corr: 0.78\n",
      "training on fold 3\n"
     ]
    },
    {
     "name": "stderr",
     "output_type": "stream",
     "text": [
      "Some weights of the model checkpoint at distilbert-base-uncased were not used when initializing DistilBertModel: ['vocab_projector.bias', 'vocab_layer_norm.bias', 'vocab_layer_norm.weight', 'vocab_transform.bias', 'vocab_projector.weight', 'vocab_transform.weight']\n",
      "- This IS expected if you are initializing DistilBertModel from the checkpoint of a model trained on another task or with another architecture (e.g. initializing a BertForSequenceClassification model from a BertForPreTraining model).\n",
      "- This IS NOT expected if you are initializing DistilBertModel from the checkpoint of a model that you expect to be exactly identical (initializing a BertForSequenceClassification model from a BertForSequenceClassification model).\n"
     ]
    },
    {
     "name": "stdout",
     "output_type": "stream",
     "text": [
      "Epoch: 00 | Epoch Time: 0m 46s\n",
      "\t Train Loss: 8.578 | Train Corr: 0.19\n",
      "\t Val. Loss: 5.422 |  Val. Corr: 0.50\n",
      "Epoch: 01 | Epoch Time: 0m 46s\n",
      "\t Train Loss: 3.370 | Train Corr: 0.52\n",
      "\t Val. Loss: 3.712 |  Val. Corr: 0.66\n",
      "Epoch: 02 | Epoch Time: 0m 46s\n",
      "\t Train Loss: 2.759 | Train Corr: 0.63\n",
      "\t Val. Loss: 3.492 |  Val. Corr: 0.72\n",
      "training on fold 4\n"
     ]
    },
    {
     "name": "stderr",
     "output_type": "stream",
     "text": [
      "Some weights of the model checkpoint at distilbert-base-uncased were not used when initializing DistilBertModel: ['vocab_projector.bias', 'vocab_layer_norm.bias', 'vocab_layer_norm.weight', 'vocab_transform.bias', 'vocab_projector.weight', 'vocab_transform.weight']\n",
      "- This IS expected if you are initializing DistilBertModel from the checkpoint of a model trained on another task or with another architecture (e.g. initializing a BertForSequenceClassification model from a BertForPreTraining model).\n",
      "- This IS NOT expected if you are initializing DistilBertModel from the checkpoint of a model that you expect to be exactly identical (initializing a BertForSequenceClassification model from a BertForSequenceClassification model).\n"
     ]
    },
    {
     "name": "stdout",
     "output_type": "stream",
     "text": [
      "Epoch: 00 | Epoch Time: 0m 44s\n",
      "\t Train Loss: 10.511 | Train Corr: 0.13\n",
      "\t Val. Loss: 5.077 |  Val. Corr: 0.52\n",
      "Epoch: 01 | Epoch Time: 0m 43s\n",
      "\t Train Loss: 3.350 | Train Corr: 0.53\n",
      "\t Val. Loss: 4.717 |  Val. Corr: 0.57\n",
      "Epoch: 02 | Epoch Time: 0m 44s\n",
      "\t Train Loss: 2.428 | Train Corr: 0.69\n",
      "\t Val. Loss: 5.262 |  Val. Corr: 0.53\n",
      "validation correlations: [0.61981049 0.65365345 0.78285555 0.72438986 0.52795727]\n"
     ]
    }
   ],
   "source": [
    "import imp\n",
    "imp.reload(training)\n",
    "\n",
    "device = torch.device('cuda' if torch.cuda.is_available() else 'cpu')\n",
    "\n",
    "params = {\n",
    "    'dropout': 0.2,\n",
    "    'batch_size': 8,\n",
    "    'n_epochs': 3,\n",
    "    'lr': 5e-05\n",
    "}\n",
    "\n",
    "# This experiment will not save any weights.\n",
    "valid_corrs = training.launch_experiment(1, train_exs_arr, constants.N_SPLITS, params)\n",
    "print('validation correlations: {}'.format(valid_corrs))"
   ]
  },
  {
   "cell_type": "markdown",
   "metadata": {
    "id": "NIXP6rB_FY8K"
   },
   "source": [
    "# Test the trained model on held-out dataset."
   ]
  },
  {
   "cell_type": "code",
   "execution_count": 11,
   "metadata": {
    "id": "-1w-zVceFsx3"
   },
   "outputs": [],
   "source": [
    "# Get a test iterator\n",
    "test_iterator = training.get_iterator(test_dataset, params['batch_size'], device)"
   ]
  },
  {
   "cell_type": "code",
   "execution_count": 12,
   "metadata": {
    "colab": {
     "base_uri": "https://localhost:8080/"
    },
    "executionInfo": {
     "elapsed": 18,
     "status": "ok",
     "timestamp": 1621580211381,
     "user": {
      "displayName": "Xubo Cao",
      "photoUrl": "",
      "userId": "10438589586656072815"
     },
     "user_tz": 420
    },
    "id": "XgAhdm2rTGrP",
    "outputId": "4e305da0-ec5d-4406-9fb9-7f634df6c507"
   },
   "outputs": [
    {
     "name": "stderr",
     "output_type": "stream",
     "text": [
      "Some weights of the model checkpoint at distilbert-base-uncased were not used when initializing DistilBertModel: ['vocab_projector.bias', 'vocab_layer_norm.weight', 'vocab_projector.weight', 'vocab_transform.weight', 'vocab_transform.bias', 'vocab_layer_norm.bias']\n",
      "- This IS expected if you are initializing DistilBertModel from the checkpoint of a model trained on another task or with another architecture (e.g. initializing a BertForSequenceClassification model from a BertForPreTraining model).\n",
      "- This IS NOT expected if you are initializing DistilBertModel from the checkpoint of a model that you expect to be exactly identical (initializing a BertForSequenceClassification model from a BertForSequenceClassification model).\n"
     ]
    },
    {
     "name": "stdout",
     "output_type": "stream",
     "text": [
      "predictions: tensor([3.7420, 3.1371, 2.9669, 4.6738, 4.3069, 4.3898, 3.0036, 3.5888],\n",
      "       device='cuda:0')\n",
      "true labels: tensor([4.1750, 2.6750, 3.3500, 4.3250, 4.1750, 4.5750, 3.2500, 4.9500],\n",
      "       device='cuda:0')\n",
      "predictions: tensor([3.4298, 4.1198, 3.7915, 3.9154, 3.7454, 2.9854, 4.5348, 3.8341],\n",
      "       device='cuda:0')\n",
      "true labels: tensor([4.1250, 4.3500, 4.7000, 4.3000, 5.2750, 2.5500, 5.4250, 3.2750],\n",
      "       device='cuda:0')\n",
      "predictions: tensor([3.9121, 2.8993, 3.8251, 4.6524, 3.7348, 4.3551, 3.6334, 3.5260],\n",
      "       device='cuda:0')\n",
      "true labels: tensor([5.2750, 2.7750, 4.3750, 4.7750, 4.3750, 3.5500, 4.0500, 3.9250],\n",
      "       device='cuda:0')\n",
      "predictions: tensor([3.3758, 3.6365, 2.9481, 3.0048, 4.2327, 4.4699, 3.6686, 3.5043],\n",
      "       device='cuda:0')\n",
      "true labels: tensor([4.6000, 3.9250, 2.8500, 3.3000, 4.8000, 3.3250, 5.0500, 3.7250],\n",
      "       device='cuda:0')\n",
      "predictions: tensor([3.5478, 4.4148, 3.4240, 3.7057, 3.6455, 4.6826, 4.1336, 3.1818],\n",
      "       device='cuda:0')\n",
      "true labels: tensor([3.3000, 4.6500, 4.0750, 4.5000, 4.7000, 4.7250, 5.2000, 3.0250],\n",
      "       device='cuda:0')\n",
      "predictions: tensor([2.9418, 3.0340, 3.7459, 3.6615, 3.0231, 3.6620, 4.4739, 3.1500],\n",
      "       device='cuda:0')\n",
      "true labels: tensor([2.7000, 2.6750, 4.5250, 4.6000, 2.7500, 4.9500, 4.7000, 3.3250],\n",
      "       device='cuda:0')\n",
      "predictions: tensor([3.9707, 2.9748, 4.6849, 3.4207, 4.0088, 4.0649, 3.4685, 3.4749],\n",
      "       device='cuda:0')\n",
      "true labels: tensor([4.7000, 4.0500, 4.9000, 4.0250, 4.2500, 4.3250, 3.7750, 4.4000],\n",
      "       device='cuda:0')\n",
      "predictions: tensor([3.7085, 4.6848, 3.2371, 3.6473, 3.3469, 3.7886, 3.4397, 4.0403],\n",
      "       device='cuda:0')\n",
      "true labels: tensor([3.7500, 5.3250, 3.9250, 4.4500, 4.7000, 4.7500, 3.9250, 5.0750],\n",
      "       device='cuda:0')\n",
      "predictions: tensor([3.3774, 3.3251, 4.4747, 4.2724, 3.6297, 4.3420, 3.9799, 3.4890],\n",
      "       device='cuda:0')\n",
      "true labels: tensor([3.4750, 4.3000, 5.0000, 4.6000, 3.5000, 5.1000, 4.6000, 3.6500],\n",
      "       device='cuda:0')\n",
      "predictions: tensor([3.0693, 4.3341, 3.1923], device='cuda:0')\n",
      "true labels: tensor([4.0500, 5.2500, 3.4750], device='cuda:0')\n",
      "predictions: tensor([3.7572, 3.9831, 3.8567, 3.1186, 3.9378, 3.8679, 3.3951, 3.1404],\n",
      "       device='cuda:0')\n",
      "true labels: tensor([3.9750, 5.0500, 4.2000, 3.8250, 4.0250, 5.1750, 4.3250, 3.7750],\n",
      "       device='cuda:0')\n",
      "predictions: tensor([3.7293, 3.6106, 3.3158, 4.0518, 3.2963, 3.9668, 4.3088, 3.6486],\n",
      "       device='cuda:0')\n",
      "true labels: tensor([4.7250, 3.8250, 3.4000, 4.2500, 4.3250, 4.5250, 4.8000, 4.5250],\n",
      "       device='cuda:0')\n",
      "predictions: tensor([4.2122, 3.0980, 3.4634, 4.5538, 3.6155, 3.7657, 3.4092, 3.9686],\n",
      "       device='cuda:0')\n",
      "true labels: tensor([4.3000, 4.0500, 3.0500, 4.7500, 4.1000, 4.5000, 3.9000, 4.4250],\n",
      "       device='cuda:0')\n",
      "predictions: tensor([4.0008, 4.5853, 3.8086, 3.2087, 4.2148, 3.3476, 3.7768, 2.9068],\n",
      "       device='cuda:0')\n",
      "true labels: tensor([4.3500, 5.0500, 3.9500, 2.7750, 4.5250, 3.7000, 3.8000, 2.6500],\n",
      "       device='cuda:0')\n",
      "predictions: tensor([3.5310, 3.3709, 3.6369, 3.5626, 4.5816, 3.5023, 3.9567, 3.6874],\n",
      "       device='cuda:0')\n",
      "true labels: tensor([3.9750, 4.1000, 3.8750, 4.2000, 3.8250, 3.5500, 4.0500, 5.0750],\n",
      "       device='cuda:0')\n",
      "predictions: tensor([4.2681, 4.6112, 4.2046, 4.5773, 3.9109, 4.1011, 3.1822, 3.6260],\n",
      "       device='cuda:0')\n",
      "true labels: tensor([4.3750, 5.1500, 4.8000, 4.8750, 4.5000, 5.0250, 2.7500, 4.2500],\n",
      "       device='cuda:0')\n",
      "predictions: tensor([4.5069, 3.4789, 3.9128, 3.6057, 3.0290, 3.5892, 3.3972, 3.9177],\n",
      "       device='cuda:0')\n",
      "true labels: tensor([5.5000, 3.8000, 4.7500, 3.6750, 4.4500, 4.7250, 4.2250, 4.4500],\n",
      "       device='cuda:0')\n",
      "predictions: tensor([3.2634, 4.6797, 3.2912, 3.6380, 3.6381, 3.1916, 3.9320, 3.7417],\n",
      "       device='cuda:0')\n",
      "true labels: tensor([3.7500, 5.2750, 3.5500, 4.1000, 5.0750, 3.3500, 4.8750, 4.7750],\n",
      "       device='cuda:0')\n",
      "predictions: tensor([3.6146, 3.6415, 3.8492, 3.3819, 3.3794, 4.5021, 3.6693, 3.5285],\n",
      "       device='cuda:0')\n",
      "true labels: tensor([3.7000, 4.4000, 4.2500, 3.8500, 3.5000, 4.5750, 4.5500, 4.0250],\n",
      "       device='cuda:0')\n",
      "predictions: tensor([3.7587, 3.6031, 4.4017, 2.8761, 2.7216, 3.5265, 4.6097, 3.5348],\n",
      "       device='cuda:0')\n",
      "true labels: tensor([4.8250, 3.8750, 5.3250, 3.4000, 2.8500, 4.7250, 4.6500, 3.8500],\n",
      "       device='cuda:0')\n",
      "predictions: tensor([4.1477, 3.9267, 3.4433, 4.1151, 3.9165, 4.1946, 3.9753, 4.5002],\n",
      "       device='cuda:0')\n",
      "true labels: tensor([4.6000, 5.2500, 3.3250, 4.3750, 4.7000, 4.8750, 5.1500, 4.8500],\n",
      "       device='cuda:0')\n",
      "predictions: tensor([3.8566, 3.7279, 3.2902, 3.2604, 3.3508, 3.4791, 3.0852, 2.7239],\n",
      "       device='cuda:0')\n",
      "true labels: tensor([4.5250, 4.1250, 3.8750, 3.4750, 4.6750, 3.9500, 2.9000, 2.5250],\n",
      "       device='cuda:0')\n",
      "predictions: tensor([3.4345, 3.6907, 4.0309, 3.4525, 3.6635, 4.1230, 3.6514, 4.6397],\n",
      "       device='cuda:0')\n",
      "true labels: tensor([4.0250, 4.4750, 4.5500, 3.5000, 4.5750, 5.1000, 4.8750, 5.0000],\n",
      "       device='cuda:0')\n",
      "predictions: tensor([4.4386, 3.4270, 4.2734, 4.1377, 4.3720, 3.4071, 2.7264, 4.1271],\n",
      "       device='cuda:0')\n",
      "true labels: tensor([4.0250, 4.1500, 4.6000, 4.2000, 4.5000, 3.1750, 1.8250, 3.5000],\n",
      "       device='cuda:0')\n",
      "predictions: tensor([3.1705, 4.1987, 4.5049, 4.1734, 4.5156, 3.6192, 4.5595, 3.5414],\n",
      "       device='cuda:0')\n",
      "true labels: tensor([3.8250, 4.7250, 4.4750, 4.7250, 4.9250, 4.6000, 5.0500, 4.5500],\n",
      "       device='cuda:0')\n",
      "predictions: tensor([4.0088, 4.4033, 4.1108, 4.5418, 4.1083, 4.5456, 3.7686, 4.6492],\n",
      "       device='cuda:0')\n",
      "true labels: tensor([4.6250, 4.3000, 4.6000, 4.8500, 4.1500, 4.7500, 4.7000, 4.9000],\n",
      "       device='cuda:0')\n",
      "3.483737732355411\n",
      "0.6894168253865316\n"
     ]
    }
   ],
   "source": [
    "# load the best model saved\n",
    "bert = DistilBertModel.from_pretrained(constants.WEIGHTS_NAME)\n",
    "model = models.BERTLinear(bert, constants.OUTPUT_DIM, params['dropout'])\n",
    "model.load_state_dict(torch.load(\"best_valid_loss.pt\"))\n",
    "model.to(device)\n",
    "model.eval()\n",
    "# If you change the criterion, make sure it matches with the training criterion in training.py\n",
    "criterion = nn.MSELoss(size_average=False)\n",
    "criterion = criterion.to(device)\n",
    "test_loss, test_corr = training.evaluate(model, test_iterator, criterion, debug=True)\n",
    "print(test_loss)\n",
    "print(test_corr)"
   ]
  },
  {
   "cell_type": "markdown",
   "metadata": {
    "id": "l5g0MO_uYqn7"
   },
   "source": [
    "# Misc other stuff"
   ]
  },
  {
   "cell_type": "markdown",
   "metadata": {
    "id": "IebHhmzl_anV"
   },
   "source": [
    "Link to the trainer class: https://huggingface.co/transformers/main_classes/trainer.html\n",
    "\n",
    "\n",
    "\n",
    "Default training arguments: https://huggingface.co/transformers/main_classes/trainer.html#transformers.TrainingArguments\n",
    "\n",
    "Batch size per device: 8\n",
    "\n",
    "Epoch: 3\n",
    "\n",
    "\n",
    "\n",
    "This should be the model I used to generate my initial results: https://huggingface.co/transformers/model_doc/distilbert.html#distilbertforsequenceclassification\n",
    "\"DistilBert Model transformer with a sequence classification/regression head on top (a linear layer on top of the pooled output) e.g. for GLUE tasks.\""
   ]
  }
 ],
 "metadata": {
  "accelerator": "GPU",
  "colab": {
   "collapsed_sections": [],
   "machine_shape": "hm",
   "name": "Regression_pipeline.ipynb",
   "provenance": [
    {
     "file_id": "1TbT1oPbbeEW7w-1XoUmceB67Z6hgJv9L",
     "timestamp": 1621569604758
    }
   ]
  },
  "kernelspec": {
   "display_name": "Python 3",
   "language": "python",
   "name": "python3"
  },
  "language_info": {
   "codemirror_mode": {
    "name": "ipython",
    "version": 3
   },
   "file_extension": ".py",
   "mimetype": "text/x-python",
   "name": "python",
   "nbconvert_exporter": "python",
   "pygments_lexer": "ipython3",
   "version": "3.7.10"
  },
  "widgets": {
   "application/vnd.jupyter.widget-state+json": {
    "082ca58e4f2f42d7af0230ed3b5c40e4": {
     "model_module": "@jupyter-widgets/base",
     "model_name": "LayoutModel",
     "state": {
      "_model_module": "@jupyter-widgets/base",
      "_model_module_version": "1.2.0",
      "_model_name": "LayoutModel",
      "_view_count": null,
      "_view_module": "@jupyter-widgets/base",
      "_view_module_version": "1.2.0",
      "_view_name": "LayoutView",
      "align_content": null,
      "align_items": null,
      "align_self": null,
      "border": null,
      "bottom": null,
      "display": null,
      "flex": null,
      "flex_flow": null,
      "grid_area": null,
      "grid_auto_columns": null,
      "grid_auto_flow": null,
      "grid_auto_rows": null,
      "grid_column": null,
      "grid_gap": null,
      "grid_row": null,
      "grid_template_areas": null,
      "grid_template_columns": null,
      "grid_template_rows": null,
      "height": null,
      "justify_content": null,
      "justify_items": null,
      "left": null,
      "margin": null,
      "max_height": null,
      "max_width": null,
      "min_height": null,
      "min_width": null,
      "object_fit": null,
      "object_position": null,
      "order": null,
      "overflow": null,
      "overflow_x": null,
      "overflow_y": null,
      "padding": null,
      "right": null,
      "top": null,
      "visibility": null,
      "width": null
     }
    },
    "0feedfdfac074b0fb7a7950a8a65fe6e": {
     "model_module": "@jupyter-widgets/controls",
     "model_name": "HTMLModel",
     "state": {
      "_dom_classes": [],
      "_model_module": "@jupyter-widgets/controls",
      "_model_module_version": "1.5.0",
      "_model_name": "HTMLModel",
      "_view_count": null,
      "_view_module": "@jupyter-widgets/controls",
      "_view_module_version": "1.5.0",
      "_view_name": "HTMLView",
      "description": "",
      "description_tooltip": null,
      "layout": "IPY_MODEL_64b90e94382b477cad9365457ce1476f",
      "placeholder": "​",
      "style": "IPY_MODEL_b7ce597d0d0741f5aca0711118f7c9f0",
      "value": " 442/442 [00:00&lt;00:00, 1.22kB/s]"
     }
    },
    "1397386380fe4080ad53a54958c2fbe6": {
     "model_module": "@jupyter-widgets/base",
     "model_name": "LayoutModel",
     "state": {
      "_model_module": "@jupyter-widgets/base",
      "_model_module_version": "1.2.0",
      "_model_name": "LayoutModel",
      "_view_count": null,
      "_view_module": "@jupyter-widgets/base",
      "_view_module_version": "1.2.0",
      "_view_name": "LayoutView",
      "align_content": null,
      "align_items": null,
      "align_self": null,
      "border": null,
      "bottom": null,
      "display": null,
      "flex": null,
      "flex_flow": null,
      "grid_area": null,
      "grid_auto_columns": null,
      "grid_auto_flow": null,
      "grid_auto_rows": null,
      "grid_column": null,
      "grid_gap": null,
      "grid_row": null,
      "grid_template_areas": null,
      "grid_template_columns": null,
      "grid_template_rows": null,
      "height": null,
      "justify_content": null,
      "justify_items": null,
      "left": null,
      "margin": null,
      "max_height": null,
      "max_width": null,
      "min_height": null,
      "min_width": null,
      "object_fit": null,
      "object_position": null,
      "order": null,
      "overflow": null,
      "overflow_x": null,
      "overflow_y": null,
      "padding": null,
      "right": null,
      "top": null,
      "visibility": null,
      "width": null
     }
    },
    "15f6d4fd47d0447597adc90e439d2483": {
     "model_module": "@jupyter-widgets/controls",
     "model_name": "DescriptionStyleModel",
     "state": {
      "_model_module": "@jupyter-widgets/controls",
      "_model_module_version": "1.5.0",
      "_model_name": "DescriptionStyleModel",
      "_view_count": null,
      "_view_module": "@jupyter-widgets/base",
      "_view_module_version": "1.2.0",
      "_view_name": "StyleView",
      "description_width": ""
     }
    },
    "2200957fd62b45999a0bf09d10aafd09": {
     "model_module": "@jupyter-widgets/controls",
     "model_name": "HBoxModel",
     "state": {
      "_dom_classes": [],
      "_model_module": "@jupyter-widgets/controls",
      "_model_module_version": "1.5.0",
      "_model_name": "HBoxModel",
      "_view_count": null,
      "_view_module": "@jupyter-widgets/controls",
      "_view_module_version": "1.5.0",
      "_view_name": "HBoxView",
      "box_style": "",
      "children": [
       "IPY_MODEL_ca00d8df97514714ba60deb51512397f",
       "IPY_MODEL_be5d412ffb7b439f977f29c84fef6974"
      ],
      "layout": "IPY_MODEL_2fd29741371347b29d3ab79702293f89"
     }
    },
    "2f9ea867a0594f9f98d88b79106f03a5": {
     "model_module": "@jupyter-widgets/controls",
     "model_name": "HTMLModel",
     "state": {
      "_dom_classes": [],
      "_model_module": "@jupyter-widgets/controls",
      "_model_module_version": "1.5.0",
      "_model_name": "HTMLModel",
      "_view_count": null,
      "_view_module": "@jupyter-widgets/controls",
      "_view_module_version": "1.5.0",
      "_view_name": "HTMLView",
      "description": "",
      "description_tooltip": null,
      "layout": "IPY_MODEL_382c65ed728d4b2ca46a7b83468c6d73",
      "placeholder": "​",
      "style": "IPY_MODEL_f0b8894c06e5406098b1b70403041316",
      "value": " 268M/268M [00:08&lt;00:00, 31.6MB/s]"
     }
    },
    "2fd29741371347b29d3ab79702293f89": {
     "model_module": "@jupyter-widgets/base",
     "model_name": "LayoutModel",
     "state": {
      "_model_module": "@jupyter-widgets/base",
      "_model_module_version": "1.2.0",
      "_model_name": "LayoutModel",
      "_view_count": null,
      "_view_module": "@jupyter-widgets/base",
      "_view_module_version": "1.2.0",
      "_view_name": "LayoutView",
      "align_content": null,
      "align_items": null,
      "align_self": null,
      "border": null,
      "bottom": null,
      "display": null,
      "flex": null,
      "flex_flow": null,
      "grid_area": null,
      "grid_auto_columns": null,
      "grid_auto_flow": null,
      "grid_auto_rows": null,
      "grid_column": null,
      "grid_gap": null,
      "grid_row": null,
      "grid_template_areas": null,
      "grid_template_columns": null,
      "grid_template_rows": null,
      "height": null,
      "justify_content": null,
      "justify_items": null,
      "left": null,
      "margin": null,
      "max_height": null,
      "max_width": null,
      "min_height": null,
      "min_width": null,
      "object_fit": null,
      "object_position": null,
      "order": null,
      "overflow": null,
      "overflow_x": null,
      "overflow_y": null,
      "padding": null,
      "right": null,
      "top": null,
      "visibility": null,
      "width": null
     }
    },
    "35389ca9c4134cd2bd3db516a30f805b": {
     "model_module": "@jupyter-widgets/controls",
     "model_name": "ProgressStyleModel",
     "state": {
      "_model_module": "@jupyter-widgets/controls",
      "_model_module_version": "1.5.0",
      "_model_name": "ProgressStyleModel",
      "_view_count": null,
      "_view_module": "@jupyter-widgets/base",
      "_view_module_version": "1.2.0",
      "_view_name": "StyleView",
      "bar_color": null,
      "description_width": "initial"
     }
    },
    "3548e016675142abb7dc0200635130b8": {
     "model_module": "@jupyter-widgets/controls",
     "model_name": "ProgressStyleModel",
     "state": {
      "_model_module": "@jupyter-widgets/controls",
      "_model_module_version": "1.5.0",
      "_model_name": "ProgressStyleModel",
      "_view_count": null,
      "_view_module": "@jupyter-widgets/base",
      "_view_module_version": "1.2.0",
      "_view_name": "StyleView",
      "bar_color": null,
      "description_width": "initial"
     }
    },
    "382c65ed728d4b2ca46a7b83468c6d73": {
     "model_module": "@jupyter-widgets/base",
     "model_name": "LayoutModel",
     "state": {
      "_model_module": "@jupyter-widgets/base",
      "_model_module_version": "1.2.0",
      "_model_name": "LayoutModel",
      "_view_count": null,
      "_view_module": "@jupyter-widgets/base",
      "_view_module_version": "1.2.0",
      "_view_name": "LayoutView",
      "align_content": null,
      "align_items": null,
      "align_self": null,
      "border": null,
      "bottom": null,
      "display": null,
      "flex": null,
      "flex_flow": null,
      "grid_area": null,
      "grid_auto_columns": null,
      "grid_auto_flow": null,
      "grid_auto_rows": null,
      "grid_column": null,
      "grid_gap": null,
      "grid_row": null,
      "grid_template_areas": null,
      "grid_template_columns": null,
      "grid_template_rows": null,
      "height": null,
      "justify_content": null,
      "justify_items": null,
      "left": null,
      "margin": null,
      "max_height": null,
      "max_width": null,
      "min_height": null,
      "min_width": null,
      "object_fit": null,
      "object_position": null,
      "order": null,
      "overflow": null,
      "overflow_x": null,
      "overflow_y": null,
      "padding": null,
      "right": null,
      "top": null,
      "visibility": null,
      "width": null
     }
    },
    "5290ba323ad94ad3b3a02d291fed4cb0": {
     "model_module": "@jupyter-widgets/base",
     "model_name": "LayoutModel",
     "state": {
      "_model_module": "@jupyter-widgets/base",
      "_model_module_version": "1.2.0",
      "_model_name": "LayoutModel",
      "_view_count": null,
      "_view_module": "@jupyter-widgets/base",
      "_view_module_version": "1.2.0",
      "_view_name": "LayoutView",
      "align_content": null,
      "align_items": null,
      "align_self": null,
      "border": null,
      "bottom": null,
      "display": null,
      "flex": null,
      "flex_flow": null,
      "grid_area": null,
      "grid_auto_columns": null,
      "grid_auto_flow": null,
      "grid_auto_rows": null,
      "grid_column": null,
      "grid_gap": null,
      "grid_row": null,
      "grid_template_areas": null,
      "grid_template_columns": null,
      "grid_template_rows": null,
      "height": null,
      "justify_content": null,
      "justify_items": null,
      "left": null,
      "margin": null,
      "max_height": null,
      "max_width": null,
      "min_height": null,
      "min_width": null,
      "object_fit": null,
      "object_position": null,
      "order": null,
      "overflow": null,
      "overflow_x": null,
      "overflow_y": null,
      "padding": null,
      "right": null,
      "top": null,
      "visibility": null,
      "width": null
     }
    },
    "57d1101e366c43e488111e81e56639f8": {
     "model_module": "@jupyter-widgets/controls",
     "model_name": "HBoxModel",
     "state": {
      "_dom_classes": [],
      "_model_module": "@jupyter-widgets/controls",
      "_model_module_version": "1.5.0",
      "_model_name": "HBoxModel",
      "_view_count": null,
      "_view_module": "@jupyter-widgets/controls",
      "_view_module_version": "1.5.0",
      "_view_name": "HBoxView",
      "box_style": "",
      "children": [
       "IPY_MODEL_d0a6d051ee204c33a851ed98dc6cbf33",
       "IPY_MODEL_746f4e383e0047b28e64d9d93fffe0aa"
      ],
      "layout": "IPY_MODEL_c60890f71d0241f698caf3304e727668"
     }
    },
    "5d4d62208b0e45b5a063e2d85ab07ce1": {
     "model_module": "@jupyter-widgets/controls",
     "model_name": "ProgressStyleModel",
     "state": {
      "_model_module": "@jupyter-widgets/controls",
      "_model_module_version": "1.5.0",
      "_model_name": "ProgressStyleModel",
      "_view_count": null,
      "_view_module": "@jupyter-widgets/base",
      "_view_module_version": "1.2.0",
      "_view_name": "StyleView",
      "bar_color": null,
      "description_width": "initial"
     }
    },
    "5f785c79f13a48099bbb1477df8aa16d": {
     "model_module": "@jupyter-widgets/controls",
     "model_name": "FloatProgressModel",
     "state": {
      "_dom_classes": [],
      "_model_module": "@jupyter-widgets/controls",
      "_model_module_version": "1.5.0",
      "_model_name": "FloatProgressModel",
      "_view_count": null,
      "_view_module": "@jupyter-widgets/controls",
      "_view_module_version": "1.5.0",
      "_view_name": "ProgressView",
      "bar_style": "success",
      "description": "Downloading: 100%",
      "description_tooltip": null,
      "layout": "IPY_MODEL_082ca58e4f2f42d7af0230ed3b5c40e4",
      "max": 442,
      "min": 0,
      "orientation": "horizontal",
      "style": "IPY_MODEL_35389ca9c4134cd2bd3db516a30f805b",
      "value": 442
     }
    },
    "64b90e94382b477cad9365457ce1476f": {
     "model_module": "@jupyter-widgets/base",
     "model_name": "LayoutModel",
     "state": {
      "_model_module": "@jupyter-widgets/base",
      "_model_module_version": "1.2.0",
      "_model_name": "LayoutModel",
      "_view_count": null,
      "_view_module": "@jupyter-widgets/base",
      "_view_module_version": "1.2.0",
      "_view_name": "LayoutView",
      "align_content": null,
      "align_items": null,
      "align_self": null,
      "border": null,
      "bottom": null,
      "display": null,
      "flex": null,
      "flex_flow": null,
      "grid_area": null,
      "grid_auto_columns": null,
      "grid_auto_flow": null,
      "grid_auto_rows": null,
      "grid_column": null,
      "grid_gap": null,
      "grid_row": null,
      "grid_template_areas": null,
      "grid_template_columns": null,
      "grid_template_rows": null,
      "height": null,
      "justify_content": null,
      "justify_items": null,
      "left": null,
      "margin": null,
      "max_height": null,
      "max_width": null,
      "min_height": null,
      "min_width": null,
      "object_fit": null,
      "object_position": null,
      "order": null,
      "overflow": null,
      "overflow_x": null,
      "overflow_y": null,
      "padding": null,
      "right": null,
      "top": null,
      "visibility": null,
      "width": null
     }
    },
    "6e67df8d4c044ab0b4e11d19b7183d30": {
     "model_module": "@jupyter-widgets/controls",
     "model_name": "HBoxModel",
     "state": {
      "_dom_classes": [],
      "_model_module": "@jupyter-widgets/controls",
      "_model_module_version": "1.5.0",
      "_model_name": "HBoxModel",
      "_view_count": null,
      "_view_module": "@jupyter-widgets/controls",
      "_view_module_version": "1.5.0",
      "_view_name": "HBoxView",
      "box_style": "",
      "children": [
       "IPY_MODEL_8d6916f93ffc41cca2bf8be42251ab5f",
       "IPY_MODEL_2f9ea867a0594f9f98d88b79106f03a5"
      ],
      "layout": "IPY_MODEL_d2eca679c7ac4bb7acb8a8950a83cbff"
     }
    },
    "746f4e383e0047b28e64d9d93fffe0aa": {
     "model_module": "@jupyter-widgets/controls",
     "model_name": "HTMLModel",
     "state": {
      "_dom_classes": [],
      "_model_module": "@jupyter-widgets/controls",
      "_model_module_version": "1.5.0",
      "_model_name": "HTMLModel",
      "_view_count": null,
      "_view_module": "@jupyter-widgets/controls",
      "_view_module_version": "1.5.0",
      "_view_name": "HTMLView",
      "description": "",
      "description_tooltip": null,
      "layout": "IPY_MODEL_d7dbec6e19ec470c9f7289056fc4bfb1",
      "placeholder": "​",
      "style": "IPY_MODEL_15f6d4fd47d0447597adc90e439d2483",
      "value": " 466k/466k [00:00&lt;00:00, 1.05MB/s]"
     }
    },
    "7927b9590f3b435da0347bce52ce60dc": {
     "model_module": "@jupyter-widgets/base",
     "model_name": "LayoutModel",
     "state": {
      "_model_module": "@jupyter-widgets/base",
      "_model_module_version": "1.2.0",
      "_model_name": "LayoutModel",
      "_view_count": null,
      "_view_module": "@jupyter-widgets/base",
      "_view_module_version": "1.2.0",
      "_view_name": "LayoutView",
      "align_content": null,
      "align_items": null,
      "align_self": null,
      "border": null,
      "bottom": null,
      "display": null,
      "flex": null,
      "flex_flow": null,
      "grid_area": null,
      "grid_auto_columns": null,
      "grid_auto_flow": null,
      "grid_auto_rows": null,
      "grid_column": null,
      "grid_gap": null,
      "grid_row": null,
      "grid_template_areas": null,
      "grid_template_columns": null,
      "grid_template_rows": null,
      "height": null,
      "justify_content": null,
      "justify_items": null,
      "left": null,
      "margin": null,
      "max_height": null,
      "max_width": null,
      "min_height": null,
      "min_width": null,
      "object_fit": null,
      "object_position": null,
      "order": null,
      "overflow": null,
      "overflow_x": null,
      "overflow_y": null,
      "padding": null,
      "right": null,
      "top": null,
      "visibility": null,
      "width": null
     }
    },
    "7f14314f8e9947a4bc9f83737f137386": {
     "model_module": "@jupyter-widgets/controls",
     "model_name": "HTMLModel",
     "state": {
      "_dom_classes": [],
      "_model_module": "@jupyter-widgets/controls",
      "_model_module_version": "1.5.0",
      "_model_name": "HTMLModel",
      "_view_count": null,
      "_view_module": "@jupyter-widgets/controls",
      "_view_module_version": "1.5.0",
      "_view_name": "HTMLView",
      "description": "",
      "description_tooltip": null,
      "layout": "IPY_MODEL_5290ba323ad94ad3b3a02d291fed4cb0",
      "placeholder": "​",
      "style": "IPY_MODEL_9254fe5fc823456bb534029578e4afb1",
      "value": " 232k/232k [00:02&lt;00:00, 94.9kB/s]"
     }
    },
    "8774db4d488540d5a640356bceefdb04": {
     "model_module": "@jupyter-widgets/base",
     "model_name": "LayoutModel",
     "state": {
      "_model_module": "@jupyter-widgets/base",
      "_model_module_version": "1.2.0",
      "_model_name": "LayoutModel",
      "_view_count": null,
      "_view_module": "@jupyter-widgets/base",
      "_view_module_version": "1.2.0",
      "_view_name": "LayoutView",
      "align_content": null,
      "align_items": null,
      "align_self": null,
      "border": null,
      "bottom": null,
      "display": null,
      "flex": null,
      "flex_flow": null,
      "grid_area": null,
      "grid_auto_columns": null,
      "grid_auto_flow": null,
      "grid_auto_rows": null,
      "grid_column": null,
      "grid_gap": null,
      "grid_row": null,
      "grid_template_areas": null,
      "grid_template_columns": null,
      "grid_template_rows": null,
      "height": null,
      "justify_content": null,
      "justify_items": null,
      "left": null,
      "margin": null,
      "max_height": null,
      "max_width": null,
      "min_height": null,
      "min_width": null,
      "object_fit": null,
      "object_position": null,
      "order": null,
      "overflow": null,
      "overflow_x": null,
      "overflow_y": null,
      "padding": null,
      "right": null,
      "top": null,
      "visibility": null,
      "width": null
     }
    },
    "8d474015aada485883408a7c89d6d190": {
     "model_module": "@jupyter-widgets/controls",
     "model_name": "DescriptionStyleModel",
     "state": {
      "_model_module": "@jupyter-widgets/controls",
      "_model_module_version": "1.5.0",
      "_model_name": "DescriptionStyleModel",
      "_view_count": null,
      "_view_module": "@jupyter-widgets/base",
      "_view_module_version": "1.2.0",
      "_view_name": "StyleView",
      "description_width": ""
     }
    },
    "8d6916f93ffc41cca2bf8be42251ab5f": {
     "model_module": "@jupyter-widgets/controls",
     "model_name": "FloatProgressModel",
     "state": {
      "_dom_classes": [],
      "_model_module": "@jupyter-widgets/controls",
      "_model_module_version": "1.5.0",
      "_model_name": "FloatProgressModel",
      "_view_count": null,
      "_view_module": "@jupyter-widgets/controls",
      "_view_module_version": "1.5.0",
      "_view_name": "ProgressView",
      "bar_style": "success",
      "description": "Downloading: 100%",
      "description_tooltip": null,
      "layout": "IPY_MODEL_8774db4d488540d5a640356bceefdb04",
      "max": 267967963,
      "min": 0,
      "orientation": "horizontal",
      "style": "IPY_MODEL_3548e016675142abb7dc0200635130b8",
      "value": 267967963
     }
    },
    "9254fe5fc823456bb534029578e4afb1": {
     "model_module": "@jupyter-widgets/controls",
     "model_name": "DescriptionStyleModel",
     "state": {
      "_model_module": "@jupyter-widgets/controls",
      "_model_module_version": "1.5.0",
      "_model_name": "DescriptionStyleModel",
      "_view_count": null,
      "_view_module": "@jupyter-widgets/base",
      "_view_module_version": "1.2.0",
      "_view_name": "StyleView",
      "description_width": ""
     }
    },
    "a52fa27484f34ebdb0abc12c73bf07df": {
     "model_module": "@jupyter-widgets/base",
     "model_name": "LayoutModel",
     "state": {
      "_model_module": "@jupyter-widgets/base",
      "_model_module_version": "1.2.0",
      "_model_name": "LayoutModel",
      "_view_count": null,
      "_view_module": "@jupyter-widgets/base",
      "_view_module_version": "1.2.0",
      "_view_name": "LayoutView",
      "align_content": null,
      "align_items": null,
      "align_self": null,
      "border": null,
      "bottom": null,
      "display": null,
      "flex": null,
      "flex_flow": null,
      "grid_area": null,
      "grid_auto_columns": null,
      "grid_auto_flow": null,
      "grid_auto_rows": null,
      "grid_column": null,
      "grid_gap": null,
      "grid_row": null,
      "grid_template_areas": null,
      "grid_template_columns": null,
      "grid_template_rows": null,
      "height": null,
      "justify_content": null,
      "justify_items": null,
      "left": null,
      "margin": null,
      "max_height": null,
      "max_width": null,
      "min_height": null,
      "min_width": null,
      "object_fit": null,
      "object_position": null,
      "order": null,
      "overflow": null,
      "overflow_x": null,
      "overflow_y": null,
      "padding": null,
      "right": null,
      "top": null,
      "visibility": null,
      "width": null
     }
    },
    "acd20cabcaca47898ce9e056f81dab57": {
     "model_module": "@jupyter-widgets/base",
     "model_name": "LayoutModel",
     "state": {
      "_model_module": "@jupyter-widgets/base",
      "_model_module_version": "1.2.0",
      "_model_name": "LayoutModel",
      "_view_count": null,
      "_view_module": "@jupyter-widgets/base",
      "_view_module_version": "1.2.0",
      "_view_name": "LayoutView",
      "align_content": null,
      "align_items": null,
      "align_self": null,
      "border": null,
      "bottom": null,
      "display": null,
      "flex": null,
      "flex_flow": null,
      "grid_area": null,
      "grid_auto_columns": null,
      "grid_auto_flow": null,
      "grid_auto_rows": null,
      "grid_column": null,
      "grid_gap": null,
      "grid_row": null,
      "grid_template_areas": null,
      "grid_template_columns": null,
      "grid_template_rows": null,
      "height": null,
      "justify_content": null,
      "justify_items": null,
      "left": null,
      "margin": null,
      "max_height": null,
      "max_width": null,
      "min_height": null,
      "min_width": null,
      "object_fit": null,
      "object_position": null,
      "order": null,
      "overflow": null,
      "overflow_x": null,
      "overflow_y": null,
      "padding": null,
      "right": null,
      "top": null,
      "visibility": null,
      "width": null
     }
    },
    "b0861ec9ac15401783bfd9e92487fe43": {
     "model_module": "@jupyter-widgets/controls",
     "model_name": "HBoxModel",
     "state": {
      "_dom_classes": [],
      "_model_module": "@jupyter-widgets/controls",
      "_model_module_version": "1.5.0",
      "_model_name": "HBoxModel",
      "_view_count": null,
      "_view_module": "@jupyter-widgets/controls",
      "_view_module_version": "1.5.0",
      "_view_name": "HBoxView",
      "box_style": "",
      "children": [
       "IPY_MODEL_5f785c79f13a48099bbb1477df8aa16d",
       "IPY_MODEL_0feedfdfac074b0fb7a7950a8a65fe6e"
      ],
      "layout": "IPY_MODEL_a52fa27484f34ebdb0abc12c73bf07df"
     }
    },
    "b21f2efe553e4b388d8647e06e8288f2": {
     "model_module": "@jupyter-widgets/base",
     "model_name": "LayoutModel",
     "state": {
      "_model_module": "@jupyter-widgets/base",
      "_model_module_version": "1.2.0",
      "_model_name": "LayoutModel",
      "_view_count": null,
      "_view_module": "@jupyter-widgets/base",
      "_view_module_version": "1.2.0",
      "_view_name": "LayoutView",
      "align_content": null,
      "align_items": null,
      "align_self": null,
      "border": null,
      "bottom": null,
      "display": null,
      "flex": null,
      "flex_flow": null,
      "grid_area": null,
      "grid_auto_columns": null,
      "grid_auto_flow": null,
      "grid_auto_rows": null,
      "grid_column": null,
      "grid_gap": null,
      "grid_row": null,
      "grid_template_areas": null,
      "grid_template_columns": null,
      "grid_template_rows": null,
      "height": null,
      "justify_content": null,
      "justify_items": null,
      "left": null,
      "margin": null,
      "max_height": null,
      "max_width": null,
      "min_height": null,
      "min_width": null,
      "object_fit": null,
      "object_position": null,
      "order": null,
      "overflow": null,
      "overflow_x": null,
      "overflow_y": null,
      "padding": null,
      "right": null,
      "top": null,
      "visibility": null,
      "width": null
     }
    },
    "b60402a9beae452eb791e6d3caf644ea": {
     "model_module": "@jupyter-widgets/base",
     "model_name": "LayoutModel",
     "state": {
      "_model_module": "@jupyter-widgets/base",
      "_model_module_version": "1.2.0",
      "_model_name": "LayoutModel",
      "_view_count": null,
      "_view_module": "@jupyter-widgets/base",
      "_view_module_version": "1.2.0",
      "_view_name": "LayoutView",
      "align_content": null,
      "align_items": null,
      "align_self": null,
      "border": null,
      "bottom": null,
      "display": null,
      "flex": null,
      "flex_flow": null,
      "grid_area": null,
      "grid_auto_columns": null,
      "grid_auto_flow": null,
      "grid_auto_rows": null,
      "grid_column": null,
      "grid_gap": null,
      "grid_row": null,
      "grid_template_areas": null,
      "grid_template_columns": null,
      "grid_template_rows": null,
      "height": null,
      "justify_content": null,
      "justify_items": null,
      "left": null,
      "margin": null,
      "max_height": null,
      "max_width": null,
      "min_height": null,
      "min_width": null,
      "object_fit": null,
      "object_position": null,
      "order": null,
      "overflow": null,
      "overflow_x": null,
      "overflow_y": null,
      "padding": null,
      "right": null,
      "top": null,
      "visibility": null,
      "width": null
     }
    },
    "b7ce597d0d0741f5aca0711118f7c9f0": {
     "model_module": "@jupyter-widgets/controls",
     "model_name": "DescriptionStyleModel",
     "state": {
      "_model_module": "@jupyter-widgets/controls",
      "_model_module_version": "1.5.0",
      "_model_name": "DescriptionStyleModel",
      "_view_count": null,
      "_view_module": "@jupyter-widgets/base",
      "_view_module_version": "1.2.0",
      "_view_name": "StyleView",
      "description_width": ""
     }
    },
    "be5d412ffb7b439f977f29c84fef6974": {
     "model_module": "@jupyter-widgets/controls",
     "model_name": "HTMLModel",
     "state": {
      "_dom_classes": [],
      "_model_module": "@jupyter-widgets/controls",
      "_model_module_version": "1.5.0",
      "_model_name": "HTMLModel",
      "_view_count": null,
      "_view_module": "@jupyter-widgets/controls",
      "_view_module_version": "1.5.0",
      "_view_name": "HTMLView",
      "description": "",
      "description_tooltip": null,
      "layout": "IPY_MODEL_1397386380fe4080ad53a54958c2fbe6",
      "placeholder": "​",
      "style": "IPY_MODEL_8d474015aada485883408a7c89d6d190",
      "value": " 28.0/28.0 [00:01&lt;00:00, 27.6B/s]"
     }
    },
    "c084b8dc32d442fe9310792cd36e657c": {
     "model_module": "@jupyter-widgets/controls",
     "model_name": "FloatProgressModel",
     "state": {
      "_dom_classes": [],
      "_model_module": "@jupyter-widgets/controls",
      "_model_module_version": "1.5.0",
      "_model_name": "FloatProgressModel",
      "_view_count": null,
      "_view_module": "@jupyter-widgets/controls",
      "_view_module_version": "1.5.0",
      "_view_name": "ProgressView",
      "bar_style": "success",
      "description": "Downloading: 100%",
      "description_tooltip": null,
      "layout": "IPY_MODEL_7927b9590f3b435da0347bce52ce60dc",
      "max": 231508,
      "min": 0,
      "orientation": "horizontal",
      "style": "IPY_MODEL_c8314794652f4c09922340116c972962",
      "value": 231508
     }
    },
    "c60890f71d0241f698caf3304e727668": {
     "model_module": "@jupyter-widgets/base",
     "model_name": "LayoutModel",
     "state": {
      "_model_module": "@jupyter-widgets/base",
      "_model_module_version": "1.2.0",
      "_model_name": "LayoutModel",
      "_view_count": null,
      "_view_module": "@jupyter-widgets/base",
      "_view_module_version": "1.2.0",
      "_view_name": "LayoutView",
      "align_content": null,
      "align_items": null,
      "align_self": null,
      "border": null,
      "bottom": null,
      "display": null,
      "flex": null,
      "flex_flow": null,
      "grid_area": null,
      "grid_auto_columns": null,
      "grid_auto_flow": null,
      "grid_auto_rows": null,
      "grid_column": null,
      "grid_gap": null,
      "grid_row": null,
      "grid_template_areas": null,
      "grid_template_columns": null,
      "grid_template_rows": null,
      "height": null,
      "justify_content": null,
      "justify_items": null,
      "left": null,
      "margin": null,
      "max_height": null,
      "max_width": null,
      "min_height": null,
      "min_width": null,
      "object_fit": null,
      "object_position": null,
      "order": null,
      "overflow": null,
      "overflow_x": null,
      "overflow_y": null,
      "padding": null,
      "right": null,
      "top": null,
      "visibility": null,
      "width": null
     }
    },
    "c8314794652f4c09922340116c972962": {
     "model_module": "@jupyter-widgets/controls",
     "model_name": "ProgressStyleModel",
     "state": {
      "_model_module": "@jupyter-widgets/controls",
      "_model_module_version": "1.5.0",
      "_model_name": "ProgressStyleModel",
      "_view_count": null,
      "_view_module": "@jupyter-widgets/base",
      "_view_module_version": "1.2.0",
      "_view_name": "StyleView",
      "bar_color": null,
      "description_width": "initial"
     }
    },
    "ca00d8df97514714ba60deb51512397f": {
     "model_module": "@jupyter-widgets/controls",
     "model_name": "FloatProgressModel",
     "state": {
      "_dom_classes": [],
      "_model_module": "@jupyter-widgets/controls",
      "_model_module_version": "1.5.0",
      "_model_name": "FloatProgressModel",
      "_view_count": null,
      "_view_module": "@jupyter-widgets/controls",
      "_view_module_version": "1.5.0",
      "_view_name": "ProgressView",
      "bar_style": "success",
      "description": "Downloading: 100%",
      "description_tooltip": null,
      "layout": "IPY_MODEL_acd20cabcaca47898ce9e056f81dab57",
      "max": 28,
      "min": 0,
      "orientation": "horizontal",
      "style": "IPY_MODEL_cae5484150364375b7e97bd83366b9f9",
      "value": 28
     }
    },
    "cae5484150364375b7e97bd83366b9f9": {
     "model_module": "@jupyter-widgets/controls",
     "model_name": "ProgressStyleModel",
     "state": {
      "_model_module": "@jupyter-widgets/controls",
      "_model_module_version": "1.5.0",
      "_model_name": "ProgressStyleModel",
      "_view_count": null,
      "_view_module": "@jupyter-widgets/base",
      "_view_module_version": "1.2.0",
      "_view_name": "StyleView",
      "bar_color": null,
      "description_width": "initial"
     }
    },
    "d0a6d051ee204c33a851ed98dc6cbf33": {
     "model_module": "@jupyter-widgets/controls",
     "model_name": "FloatProgressModel",
     "state": {
      "_dom_classes": [],
      "_model_module": "@jupyter-widgets/controls",
      "_model_module_version": "1.5.0",
      "_model_name": "FloatProgressModel",
      "_view_count": null,
      "_view_module": "@jupyter-widgets/controls",
      "_view_module_version": "1.5.0",
      "_view_name": "ProgressView",
      "bar_style": "success",
      "description": "Downloading: 100%",
      "description_tooltip": null,
      "layout": "IPY_MODEL_b21f2efe553e4b388d8647e06e8288f2",
      "max": 466062,
      "min": 0,
      "orientation": "horizontal",
      "style": "IPY_MODEL_5d4d62208b0e45b5a063e2d85ab07ce1",
      "value": 466062
     }
    },
    "d2eca679c7ac4bb7acb8a8950a83cbff": {
     "model_module": "@jupyter-widgets/base",
     "model_name": "LayoutModel",
     "state": {
      "_model_module": "@jupyter-widgets/base",
      "_model_module_version": "1.2.0",
      "_model_name": "LayoutModel",
      "_view_count": null,
      "_view_module": "@jupyter-widgets/base",
      "_view_module_version": "1.2.0",
      "_view_name": "LayoutView",
      "align_content": null,
      "align_items": null,
      "align_self": null,
      "border": null,
      "bottom": null,
      "display": null,
      "flex": null,
      "flex_flow": null,
      "grid_area": null,
      "grid_auto_columns": null,
      "grid_auto_flow": null,
      "grid_auto_rows": null,
      "grid_column": null,
      "grid_gap": null,
      "grid_row": null,
      "grid_template_areas": null,
      "grid_template_columns": null,
      "grid_template_rows": null,
      "height": null,
      "justify_content": null,
      "justify_items": null,
      "left": null,
      "margin": null,
      "max_height": null,
      "max_width": null,
      "min_height": null,
      "min_width": null,
      "object_fit": null,
      "object_position": null,
      "order": null,
      "overflow": null,
      "overflow_x": null,
      "overflow_y": null,
      "padding": null,
      "right": null,
      "top": null,
      "visibility": null,
      "width": null
     }
    },
    "d7dbec6e19ec470c9f7289056fc4bfb1": {
     "model_module": "@jupyter-widgets/base",
     "model_name": "LayoutModel",
     "state": {
      "_model_module": "@jupyter-widgets/base",
      "_model_module_version": "1.2.0",
      "_model_name": "LayoutModel",
      "_view_count": null,
      "_view_module": "@jupyter-widgets/base",
      "_view_module_version": "1.2.0",
      "_view_name": "LayoutView",
      "align_content": null,
      "align_items": null,
      "align_self": null,
      "border": null,
      "bottom": null,
      "display": null,
      "flex": null,
      "flex_flow": null,
      "grid_area": null,
      "grid_auto_columns": null,
      "grid_auto_flow": null,
      "grid_auto_rows": null,
      "grid_column": null,
      "grid_gap": null,
      "grid_row": null,
      "grid_template_areas": null,
      "grid_template_columns": null,
      "grid_template_rows": null,
      "height": null,
      "justify_content": null,
      "justify_items": null,
      "left": null,
      "margin": null,
      "max_height": null,
      "max_width": null,
      "min_height": null,
      "min_width": null,
      "object_fit": null,
      "object_position": null,
      "order": null,
      "overflow": null,
      "overflow_x": null,
      "overflow_y": null,
      "padding": null,
      "right": null,
      "top": null,
      "visibility": null,
      "width": null
     }
    },
    "f0b8894c06e5406098b1b70403041316": {
     "model_module": "@jupyter-widgets/controls",
     "model_name": "DescriptionStyleModel",
     "state": {
      "_model_module": "@jupyter-widgets/controls",
      "_model_module_version": "1.5.0",
      "_model_name": "DescriptionStyleModel",
      "_view_count": null,
      "_view_module": "@jupyter-widgets/base",
      "_view_module_version": "1.2.0",
      "_view_name": "StyleView",
      "description_width": ""
     }
    },
    "fa80c969c2c14b478caffc7d37384384": {
     "model_module": "@jupyter-widgets/controls",
     "model_name": "HBoxModel",
     "state": {
      "_dom_classes": [],
      "_model_module": "@jupyter-widgets/controls",
      "_model_module_version": "1.5.0",
      "_model_name": "HBoxModel",
      "_view_count": null,
      "_view_module": "@jupyter-widgets/controls",
      "_view_module_version": "1.5.0",
      "_view_name": "HBoxView",
      "box_style": "",
      "children": [
       "IPY_MODEL_c084b8dc32d442fe9310792cd36e657c",
       "IPY_MODEL_7f14314f8e9947a4bc9f83737f137386"
      ],
      "layout": "IPY_MODEL_b60402a9beae452eb791e6d3caf644ea"
     }
    }
   }
  }
 },
 "nbformat": 4,
 "nbformat_minor": 1
}
