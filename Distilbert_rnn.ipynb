{
 "cells": [
  {
   "cell_type": "markdown",
   "metadata": {
    "id": "p270iyuaIsPb"
   },
   "source": [
    "This notebook is written based on [this reference implementation](https://github.com/bentrevett/pytorch-sentiment-analysis/blob/master/6%20-%20Transformers%20for%20Sentiment%20Analysis.ipynb).\n",
    "\n",
    "Other refs for model:\n",
    "* https://stackoverflow.com/questions/65205582/how-can-i-add-a-bi-lstm-layer-on-top-of-bert-model\n",
    "* https://discuss.pytorch.org/t/how-to-connect-hook-two-or-even-more-models-together/21033\n",
    "* https://pytorch.org/tutorials/beginner/transformer_tutorial.html\n",
    "* https://pytorch.org/tutorials/beginner/basics/buildmodel_tutorial.html\n",
    "\n",
    "Other refs for torchtext:\n",
    "* https://towardsdatascience.com/use-torchtext-to-load-nlp-datasets-part-i-5da6f1c89d84\n",
    "* https://towardsdatascience.com/use-torchtext-to-load-nlp-datasets-part-ii-f146c8b9a496\n",
    "* http://anie.me/On-Torchtext/"
   ]
  },
  {
   "cell_type": "markdown",
   "metadata": {
    "id": "FRXm2FfxzC9A"
   },
   "source": [
    "# Imports and setup"
   ]
  },
  {
   "cell_type": "code",
   "execution_count": 1,
   "metadata": {
    "executionInfo": {
     "elapsed": 5222,
     "status": "ok",
     "timestamp": 1621625578255,
     "user": {
      "displayName": "Xubo Cao",
      "photoUrl": "",
      "userId": "10438589586656072815"
     },
     "user_tz": 420
    },
    "id": "QtVQ8yVAzMTS"
   },
   "outputs": [],
   "source": [
    "import pandas as pd\n",
    "import numpy as np\n",
    "import os\n",
    "import random\n",
    "# random.seed(1)\n",
    "import re\n",
    "\n",
    "# Data processing.\n",
    "import constants # constants.py\n",
    "import dataset # dataset.py\n",
    "import torch\n",
    "\n",
    "# Model.\n",
    "import models # models.py\n",
    "import torch.nn as nn\n",
    "from transformers import DistilBertModel\n",
    "\n",
    "# Training.\n",
    "import training # training.py\n",
    "import utils # utils.py\n",
    "\n",
    "# If you make a code change that doesn't get picked up by\n",
    "# Jupyter notebook, try reloading like below:\n",
    "# import imp\n",
    "# imp.reload(training)"
   ]
  },
  {
   "cell_type": "markdown",
   "metadata": {
    "id": "PL4p_28SzGCv"
   },
   "source": [
    "# Read the data"
   ]
  },
  {
   "cell_type": "code",
   "execution_count": 3,
   "metadata": {
    "executionInfo": {
     "elapsed": 2809,
     "status": "ok",
     "timestamp": 1621625592336,
     "user": {
      "displayName": "Xubo Cao",
      "photoUrl": "",
      "userId": "10438589586656072815"
     },
     "user_tz": 420
    },
    "id": "HwNKmWDey-q9"
   },
   "outputs": [],
   "source": [
    "# data_df = dataset.get_multiple_datasets([1,2,3], 'Creativity_Combined', shuffle=True)"
   ]
  },
  {
   "cell_type": "code",
   "execution_count": 4,
   "metadata": {
    "executionInfo": {
     "elapsed": 1002,
     "status": "ok",
     "timestamp": 1621625593325,
     "user": {
      "displayName": "Xubo Cao",
      "photoUrl": "",
      "userId": "10438589586656072815"
     },
     "user_tz": 420
    },
    "id": "wvWVLrupUEnt"
   },
   "outputs": [],
   "source": [
    "'''This cell is commented out because the csvs should already exist in the directory.\n",
    "If you are running the notebook for the first time, run them to generate the csvs.'''\n",
    "# split into train, test sets. (Train set will be further split into \n",
    "# train+validation sets, via k-fold CV.)\n",
    "# train_df = data_df[:1000]\n",
    "# test_df = data_df[1000:] # roughly 203 test examples set aside\n",
    "\n",
    "# write them to CSV files\n",
    "# train_df.to_csv('ktrain.csv', index=False, header=False)\n",
    "# test_df.to_csv('ktest.csv', index=False, header=False)"
   ]
  },
  {
   "cell_type": "markdown",
   "metadata": {
    "id": "eXVH4t-UC_wD"
   },
   "source": [
    "## Preprocessing and transform into torchtext Dataset format.\n",
    "\n",
    "From what I understand, some preprocessing is done when data.Field() is applied."
   ]
  },
  {
   "cell_type": "code",
   "execution_count": 2,
   "metadata": {
    "executionInfo": {
     "elapsed": 2679,
     "status": "ok",
     "timestamp": 1621625596002,
     "user": {
      "displayName": "Xubo Cao",
      "photoUrl": "",
      "userId": "10438589586656072815"
     },
     "user_tz": 420
    },
    "id": "ifqSE8yj76Vb"
   },
   "outputs": [],
   "source": [
    "train_dataset, test_dataset = dataset.get_train_test_datasets()"
   ]
  },
  {
   "cell_type": "code",
   "execution_count": 3,
   "metadata": {
    "executionInfo": {
     "elapsed": 15,
     "status": "ok",
     "timestamp": 1621625596006,
     "user": {
      "displayName": "Xubo Cao",
      "photoUrl": "",
      "userId": "10438589586656072815"
     },
     "user_tz": 420
    },
    "id": "zfxEmIj65PFa"
   },
   "outputs": [],
   "source": [
    "# Transform train_dataset into an np array representation.\n",
    "# This will be used for generating the K folds.\n",
    "train_exs_arr = np.array(train_dataset.examples)"
   ]
  },
  {
   "cell_type": "markdown",
   "metadata": {
    "id": "wb9qlt-_0xlO"
   },
   "source": [
    "# Training pipeline begins here\n"
   ]
  },
  {
   "cell_type": "code",
   "execution_count": 22,
   "metadata": {
    "colab": {
     "base_uri": "https://localhost:8080/"
    },
    "executionInfo": {
     "elapsed": 6750,
     "status": "ok",
     "timestamp": 1621625602743,
     "user": {
      "displayName": "Xubo Cao",
      "photoUrl": "",
      "userId": "10438589586656072815"
     },
     "user_tz": 420
    },
    "id": "Ht9cEYK_TeGB",
    "outputId": "01d6745b-e8d8-46b7-efd2-569654d1a558"
   },
   "outputs": [
    {
     "name": "stdout",
     "output_type": "stream",
     "text": [
      "eid 0, params {'batch_size': 8, 'bidirectional': True, 'dropout': 0.2, 'hidden_dim': 768, 'lr': 3e-05, 'max_epochs': 10, 'num_layers': 1}\n",
      "training on fold 0\n"
     ]
    },
    {
     "name": "stderr",
     "output_type": "stream",
     "text": [
      "Some weights of the model checkpoint at distilbert-base-uncased were not used when initializing DistilBertModel: ['vocab_transform.weight', 'vocab_transform.bias', 'vocab_projector.weight', 'vocab_layer_norm.weight', 'vocab_projector.bias', 'vocab_layer_norm.bias']\n",
      "- This IS expected if you are initializing DistilBertModel from the checkpoint of a model trained on another task or with another architecture (e.g. initializing a BertForSequenceClassification model from a BertForPreTraining model).\n",
      "- This IS NOT expected if you are initializing DistilBertModel from the checkpoint of a model that you expect to be exactly identical (initializing a BertForSequenceClassification model from a BertForSequenceClassification model).\n"
     ]
    },
    {
     "name": "stdout",
     "output_type": "stream",
     "text": [
      "updating saved weights of best model\n",
      "Epoch: 00 | Epoch Time: 1m 7s\n",
      "\t Train Loss: 11.542 | Train Corr: 0.19\n",
      "\t Val. Loss: 4.599 |  Val. Corr: 0.11\n",
      "Epoch: 01 | Epoch Time: 1m 8s\n",
      "\t Train Loss: 2.988 | Train Corr: 0.60\n",
      "\t Val. Loss: 4.689 |  Val. Corr: 0.45\n",
      "updating saved weights of best model\n",
      "Epoch: 02 | Epoch Time: 1m 7s\n",
      "\t Train Loss: 2.479 | Train Corr: 0.69\n",
      "\t Val. Loss: 3.765 |  Val. Corr: 0.57\n",
      "updating saved weights of best model\n",
      "Epoch: 03 | Epoch Time: 1m 7s\n",
      "\t Train Loss: 1.594 | Train Corr: 0.81\n",
      "\t Val. Loss: 2.987 |  Val. Corr: 0.59\n",
      "updating saved weights of best model\n",
      "Epoch: 04 | Epoch Time: 1m 7s\n",
      "\t Train Loss: 0.995 | Train Corr: 0.89\n",
      "\t Val. Loss: 2.725 |  Val. Corr: 0.62\n",
      "training on fold 1\n"
     ]
    },
    {
     "name": "stderr",
     "output_type": "stream",
     "text": [
      "Some weights of the model checkpoint at distilbert-base-uncased were not used when initializing DistilBertModel: ['vocab_transform.weight', 'vocab_transform.bias', 'vocab_projector.weight', 'vocab_layer_norm.weight', 'vocab_projector.bias', 'vocab_layer_norm.bias']\n",
      "- This IS expected if you are initializing DistilBertModel from the checkpoint of a model trained on another task or with another architecture (e.g. initializing a BertForSequenceClassification model from a BertForPreTraining model).\n",
      "- This IS NOT expected if you are initializing DistilBertModel from the checkpoint of a model that you expect to be exactly identical (initializing a BertForSequenceClassification model from a BertForSequenceClassification model).\n"
     ]
    },
    {
     "name": "stdout",
     "output_type": "stream",
     "text": [
      "Epoch: 00 | Epoch Time: 1m 8s\n",
      "\t Train Loss: 11.462 | Train Corr: 0.22\n",
      "\t Val. Loss: 4.985 |  Val. Corr: 0.62\n",
      "Epoch: 01 | Epoch Time: 1m 8s\n",
      "\t Train Loss: 2.938 | Train Corr: 0.60\n",
      "\t Val. Loss: 5.075 |  Val. Corr: 0.72\n",
      "Epoch: 02 | Epoch Time: 1m 8s\n",
      "\t Train Loss: 2.245 | Train Corr: 0.71\n",
      "\t Val. Loss: 3.692 |  Val. Corr: 0.71\n",
      "updating saved weights of best model\n",
      "Epoch: 03 | Epoch Time: 1m 8s\n",
      "\t Train Loss: 1.755 | Train Corr: 0.78\n",
      "\t Val. Loss: 2.430 |  Val. Corr: 0.73\n",
      "Epoch: 04 | Epoch Time: 1m 8s\n",
      "\t Train Loss: 1.188 | Train Corr: 0.86\n",
      "\t Val. Loss: 3.335 |  Val. Corr: 0.73\n",
      "Epoch: 05 | Epoch Time: 1m 9s\n",
      "\t Train Loss: 0.865 | Train Corr: 0.90\n",
      "\t Val. Loss: 2.704 |  Val. Corr: 0.73\n",
      "Epoch: 06 | Epoch Time: 1m 9s\n",
      "\t Train Loss: 0.625 | Train Corr: 0.93\n",
      "\t Val. Loss: 2.594 |  Val. Corr: 0.71\n",
      "updating saved weights of best model\n",
      "Epoch: 07 | Epoch Time: 1m 7s\n",
      "\t Train Loss: 0.449 | Train Corr: 0.95\n",
      "\t Val. Loss: 2.425 |  Val. Corr: 0.72\n",
      "updating saved weights of best model\n",
      "training on fold 2\n"
     ]
    },
    {
     "name": "stderr",
     "output_type": "stream",
     "text": [
      "Some weights of the model checkpoint at distilbert-base-uncased were not used when initializing DistilBertModel: ['vocab_transform.weight', 'vocab_transform.bias', 'vocab_projector.weight', 'vocab_layer_norm.weight', 'vocab_projector.bias', 'vocab_layer_norm.bias']\n",
      "- This IS expected if you are initializing DistilBertModel from the checkpoint of a model trained on another task or with another architecture (e.g. initializing a BertForSequenceClassification model from a BertForPreTraining model).\n",
      "- This IS NOT expected if you are initializing DistilBertModel from the checkpoint of a model that you expect to be exactly identical (initializing a BertForSequenceClassification model from a BertForSequenceClassification model).\n"
     ]
    },
    {
     "name": "stdout",
     "output_type": "stream",
     "text": [
      "Epoch: 00 | Epoch Time: 1m 7s\n",
      "\t Train Loss: 10.870 | Train Corr: 0.23\n",
      "\t Val. Loss: 3.114 |  Val. Corr: 0.62\n",
      "updating saved weights of best model\n",
      "Epoch: 01 | Epoch Time: 1m 8s\n",
      "\t Train Loss: 2.875 | Train Corr: 0.63\n",
      "\t Val. Loss: 2.090 |  Val. Corr: 0.80\n",
      "Epoch: 02 | Epoch Time: 1m 8s\n",
      "\t Train Loss: 1.886 | Train Corr: 0.78\n",
      "\t Val. Loss: 2.350 |  Val. Corr: 0.80\n",
      "updating saved weights of best model\n",
      "Epoch: 03 | Epoch Time: 1m 8s\n",
      "\t Train Loss: 1.495 | Train Corr: 0.83\n",
      "\t Val. Loss: 1.696 |  Val. Corr: 0.78\n",
      "updating saved weights of best model\n",
      "Epoch: 04 | Epoch Time: 1m 7s\n",
      "\t Train Loss: 1.192 | Train Corr: 0.87\n",
      "\t Val. Loss: 1.682 |  Val. Corr: 0.80\n",
      "updating saved weights of best model\n",
      "Epoch: 05 | Epoch Time: 1m 9s\n",
      "\t Train Loss: 0.792 | Train Corr: 0.91\n",
      "\t Val. Loss: 1.554 |  Val. Corr: 0.81\n",
      "Epoch: 06 | Epoch Time: 1m 8s\n",
      "\t Train Loss: 0.572 | Train Corr: 0.94\n",
      "\t Val. Loss: 1.868 |  Val. Corr: 0.78\n",
      "Epoch: 07 | Epoch Time: 1m 7s\n",
      "\t Train Loss: 0.467 | Train Corr: 0.95\n",
      "\t Val. Loss: 1.890 |  Val. Corr: 0.81\n",
      "Epoch: 08 | Epoch Time: 1m 7s\n",
      "\t Train Loss: 0.328 | Train Corr: 0.96\n",
      "\t Val. Loss: 1.568 |  Val. Corr: 0.80\n",
      "training on fold 3\n"
     ]
    },
    {
     "name": "stderr",
     "output_type": "stream",
     "text": [
      "Some weights of the model checkpoint at distilbert-base-uncased were not used when initializing DistilBertModel: ['vocab_transform.weight', 'vocab_transform.bias', 'vocab_projector.weight', 'vocab_layer_norm.weight', 'vocab_projector.bias', 'vocab_layer_norm.bias']\n",
      "- This IS expected if you are initializing DistilBertModel from the checkpoint of a model trained on another task or with another architecture (e.g. initializing a BertForSequenceClassification model from a BertForPreTraining model).\n",
      "- This IS NOT expected if you are initializing DistilBertModel from the checkpoint of a model that you expect to be exactly identical (initializing a BertForSequenceClassification model from a BertForSequenceClassification model).\n"
     ]
    },
    {
     "name": "stdout",
     "output_type": "stream",
     "text": [
      "Epoch: 00 | Epoch Time: 1m 6s\n",
      "\t Train Loss: 11.167 | Train Corr: 0.21\n",
      "\t Val. Loss: 4.185 |  Val. Corr: 0.55\n",
      "Epoch: 01 | Epoch Time: 1m 5s\n",
      "\t Train Loss: 2.762 | Train Corr: 0.63\n",
      "\t Val. Loss: 2.976 |  Val. Corr: 0.72\n",
      "Epoch: 02 | Epoch Time: 1m 7s\n",
      "\t Train Loss: 2.359 | Train Corr: 0.70\n",
      "\t Val. Loss: 2.733 |  Val. Corr: 0.76\n",
      "Epoch: 03 | Epoch Time: 1m 6s\n",
      "\t Train Loss: 1.610 | Train Corr: 0.80\n",
      "\t Val. Loss: 2.071 |  Val. Corr: 0.77\n",
      "Epoch: 04 | Epoch Time: 1m 6s\n",
      "\t Train Loss: 1.184 | Train Corr: 0.86\n",
      "\t Val. Loss: 1.926 |  Val. Corr: 0.79\n",
      "Epoch: 05 | Epoch Time: 1m 7s\n",
      "\t Train Loss: 0.819 | Train Corr: 0.91\n",
      "\t Val. Loss: 1.977 |  Val. Corr: 0.78\n",
      "Epoch: 06 | Epoch Time: 1m 7s\n",
      "\t Train Loss: 0.599 | Train Corr: 0.93\n",
      "\t Val. Loss: 2.152 |  Val. Corr: 0.78\n",
      "Epoch: 07 | Epoch Time: 1m 7s\n",
      "\t Train Loss: 0.429 | Train Corr: 0.95\n",
      "\t Val. Loss: 1.996 |  Val. Corr: 0.78\n",
      "Epoch: 08 | Epoch Time: 1m 5s\n",
      "\t Train Loss: 0.363 | Train Corr: 0.96\n",
      "\t Val. Loss: 2.153 |  Val. Corr: 0.77\n",
      "training on fold 4\n"
     ]
    },
    {
     "name": "stderr",
     "output_type": "stream",
     "text": [
      "Some weights of the model checkpoint at distilbert-base-uncased were not used when initializing DistilBertModel: ['vocab_transform.weight', 'vocab_transform.bias', 'vocab_projector.weight', 'vocab_layer_norm.weight', 'vocab_projector.bias', 'vocab_layer_norm.bias']\n",
      "- This IS expected if you are initializing DistilBertModel from the checkpoint of a model trained on another task or with another architecture (e.g. initializing a BertForSequenceClassification model from a BertForPreTraining model).\n",
      "- This IS NOT expected if you are initializing DistilBertModel from the checkpoint of a model that you expect to be exactly identical (initializing a BertForSequenceClassification model from a BertForSequenceClassification model).\n"
     ]
    },
    {
     "name": "stdout",
     "output_type": "stream",
     "text": [
      "Epoch: 00 | Epoch Time: 1m 3s\n",
      "\t Train Loss: 11.315 | Train Corr: 0.17\n",
      "\t Val. Loss: 5.510 |  Val. Corr: 0.58\n",
      "Epoch: 01 | Epoch Time: 1m 4s\n",
      "\t Train Loss: 2.964 | Train Corr: 0.59\n",
      "\t Val. Loss: 3.521 |  Val. Corr: 0.65\n",
      "Epoch: 02 | Epoch Time: 1m 3s\n",
      "\t Train Loss: 2.474 | Train Corr: 0.68\n",
      "\t Val. Loss: 2.910 |  Val. Corr: 0.69\n",
      "Epoch: 03 | Epoch Time: 1m 3s\n",
      "\t Train Loss: 1.721 | Train Corr: 0.79\n",
      "\t Val. Loss: 2.673 |  Val. Corr: 0.70\n",
      "Epoch: 04 | Epoch Time: 1m 2s\n",
      "\t Train Loss: 1.280 | Train Corr: 0.85\n",
      "\t Val. Loss: 2.542 |  Val. Corr: 0.68\n",
      "Epoch: 05 | Epoch Time: 1m 4s\n",
      "\t Train Loss: 0.904 | Train Corr: 0.90\n",
      "\t Val. Loss: 2.408 |  Val. Corr: 0.71\n",
      "Epoch: 06 | Epoch Time: 1m 2s\n",
      "\t Train Loss: 0.654 | Train Corr: 0.93\n",
      "\t Val. Loss: 2.431 |  Val. Corr: 0.69\n",
      "Epoch: 07 | Epoch Time: 1m 4s\n",
      "\t Train Loss: 0.479 | Train Corr: 0.95\n",
      "\t Val. Loss: 2.543 |  Val. Corr: 0.68\n",
      "Epoch: 08 | Epoch Time: 1m 2s\n",
      "\t Train Loss: 0.540 | Train Corr: 0.94\n",
      "\t Val. Loss: 2.520 |  Val. Corr: 0.71\n",
      "('batch_size_8; bidirectional_True; dropout_0.2; hidden_dim_768; lr_3e-05; max_epochs_10; num_layers_1', 0.7200642122164176)\n"
     ]
    }
   ],
   "source": [
    "device = torch.device('cuda' if torch.cuda.is_available() else 'cpu')\n",
    "\n",
    "param_grid = {\n",
    "    'dropout': [0.2],\n",
    "    'batch_size': [8],\n",
    "    'max_epochs': [10],\n",
    "    'lr': [3e-05],\n",
    "    'hidden_dim': [768],\n",
    "    'num_layers': [1],\n",
    "    'bidirectional': [True],\n",
    "}\n",
    "\n",
    "results, best_model = training.perform_hyperparameter_search(param_grid, train_exs_arr, rnn=True, save_weights=True)\n",
    "print(best_model)"
   ]
  },
  {
   "cell_type": "code",
   "execution_count": 23,
   "metadata": {},
   "outputs": [
    {
     "name": "stdout",
     "output_type": "stream",
     "text": [
      "batch_size_8; bidirectional_True; dropout_0.2; hidden_dim_768; lr_3e-05; max_epochs_10; num_layers_1: [0.61492086 0.71203809 0.79055422 0.79251652 0.69029136]->sum=3.600321061082088\n",
      "\n"
     ]
    }
   ],
   "source": [
    "for k in results:\n",
    "    total = np.sum(results[k])\n",
    "    print('{}: {}->sum={}\\n'.format(k, results[k], total))"
   ]
  },
  {
   "cell_type": "markdown",
   "metadata": {
    "id": "NIXP6rB_FY8K"
   },
   "source": [
    "# Test the trained model on held-out dataset."
   ]
  },
  {
   "cell_type": "code",
   "execution_count": 6,
   "metadata": {
    "id": "-1w-zVceFsx3"
   },
   "outputs": [],
   "source": [
    "# Get a test iterator\n",
    "# use batch size from best params!!\n",
    "test_iterator = training.get_iterator(test_dataset, 8, device)"
   ]
  },
  {
   "cell_type": "code",
   "execution_count": 25,
   "metadata": {
    "colab": {
     "base_uri": "https://localhost:8080/"
    },
    "executionInfo": {
     "elapsed": 18,
     "status": "ok",
     "timestamp": 1621580211381,
     "user": {
      "displayName": "Xubo Cao",
      "photoUrl": "",
      "userId": "10438589586656072815"
     },
     "user_tz": 420
    },
    "id": "XgAhdm2rTGrP",
    "outputId": "4e305da0-ec5d-4406-9fb9-7f634df6c507"
   },
   "outputs": [
    {
     "name": "stderr",
     "output_type": "stream",
     "text": [
      "Some weights of the model checkpoint at distilbert-base-uncased were not used when initializing DistilBertModel: ['vocab_transform.weight', 'vocab_transform.bias', 'vocab_projector.weight', 'vocab_layer_norm.weight', 'vocab_projector.bias', 'vocab_layer_norm.bias']\n",
      "- This IS expected if you are initializing DistilBertModel from the checkpoint of a model trained on another task or with another architecture (e.g. initializing a BertForSequenceClassification model from a BertForPreTraining model).\n",
      "- This IS NOT expected if you are initializing DistilBertModel from the checkpoint of a model that you expect to be exactly identical (initializing a BertForSequenceClassification model from a BertForSequenceClassification model).\n"
     ]
    },
    {
     "name": "stdout",
     "output_type": "stream",
     "text": [
      "2.1075654236169963\n",
      "0.7259270041616388\n"
     ]
    }
   ],
   "source": [
    "# load the best model saved\n",
    "bert = DistilBertModel.from_pretrained(constants.WEIGHTS_NAME)\n",
    "# use the params from the best model!!! \n",
    "model = models.BERTGRU(bert, constants.OUTPUT_DIM, 768, 1, True, 0.2)\n",
    "model.load_state_dict(torch.load(\"0_best_valid_loss.pt\"))\n",
    "model.to(device)\n",
    "model.eval()\n",
    "# If you change the criterion, make sure it matches with the training criterion in training.py\n",
    "criterion = nn.MSELoss(size_average=False)\n",
    "criterion = criterion.to(device)\n",
    "test_loss, test_corr = training.evaluate(model, test_iterator, criterion, debug=False)\n",
    "print(test_loss)\n",
    "print(test_corr)"
   ]
  },
  {
   "cell_type": "markdown",
   "metadata": {
    "id": "l5g0MO_uYqn7"
   },
   "source": [
    "# Misc other stuff"
   ]
  },
  {
   "cell_type": "markdown",
   "metadata": {
    "id": "IebHhmzl_anV"
   },
   "source": [
    "Link to the trainer class: https://huggingface.co/transformers/main_classes/trainer.html\n",
    "\n",
    "\n",
    "\n",
    "Default training arguments: https://huggingface.co/transformers/main_classes/trainer.html#transformers.TrainingArguments\n",
    "\n",
    "Batch size per device: 8\n",
    "\n",
    "Epoch: 3\n",
    "\n",
    "\n",
    "\n",
    "This should be the model I used to generate my initial results: https://huggingface.co/transformers/model_doc/distilbert.html#distilbertforsequenceclassification\n",
    "\"DistilBert Model transformer with a sequence classification/regression head on top (a linear layer on top of the pooled output) e.g. for GLUE tasks.\""
   ]
  }
 ],
 "metadata": {
  "accelerator": "GPU",
  "colab": {
   "collapsed_sections": [],
   "machine_shape": "hm",
   "name": "Regression_pipeline.ipynb",
   "provenance": [
    {
     "file_id": "1TbT1oPbbeEW7w-1XoUmceB67Z6hgJv9L",
     "timestamp": 1621569604758
    }
   ]
  },
  "kernelspec": {
   "display_name": "Python 3",
   "language": "python",
   "name": "python3"
  },
  "language_info": {
   "codemirror_mode": {
    "name": "ipython",
    "version": 3
   },
   "file_extension": ".py",
   "mimetype": "text/x-python",
   "name": "python",
   "nbconvert_exporter": "python",
   "pygments_lexer": "ipython3",
   "version": "3.7.10"
  },
  "widgets": {
   "application/vnd.jupyter.widget-state+json": {
    "082ca58e4f2f42d7af0230ed3b5c40e4": {
     "model_module": "@jupyter-widgets/base",
     "model_name": "LayoutModel",
     "state": {
      "_model_module": "@jupyter-widgets/base",
      "_model_module_version": "1.2.0",
      "_model_name": "LayoutModel",
      "_view_count": null,
      "_view_module": "@jupyter-widgets/base",
      "_view_module_version": "1.2.0",
      "_view_name": "LayoutView",
      "align_content": null,
      "align_items": null,
      "align_self": null,
      "border": null,
      "bottom": null,
      "display": null,
      "flex": null,
      "flex_flow": null,
      "grid_area": null,
      "grid_auto_columns": null,
      "grid_auto_flow": null,
      "grid_auto_rows": null,
      "grid_column": null,
      "grid_gap": null,
      "grid_row": null,
      "grid_template_areas": null,
      "grid_template_columns": null,
      "grid_template_rows": null,
      "height": null,
      "justify_content": null,
      "justify_items": null,
      "left": null,
      "margin": null,
      "max_height": null,
      "max_width": null,
      "min_height": null,
      "min_width": null,
      "object_fit": null,
      "object_position": null,
      "order": null,
      "overflow": null,
      "overflow_x": null,
      "overflow_y": null,
      "padding": null,
      "right": null,
      "top": null,
      "visibility": null,
      "width": null
     }
    },
    "0feedfdfac074b0fb7a7950a8a65fe6e": {
     "model_module": "@jupyter-widgets/controls",
     "model_name": "HTMLModel",
     "state": {
      "_dom_classes": [],
      "_model_module": "@jupyter-widgets/controls",
      "_model_module_version": "1.5.0",
      "_model_name": "HTMLModel",
      "_view_count": null,
      "_view_module": "@jupyter-widgets/controls",
      "_view_module_version": "1.5.0",
      "_view_name": "HTMLView",
      "description": "",
      "description_tooltip": null,
      "layout": "IPY_MODEL_64b90e94382b477cad9365457ce1476f",
      "placeholder": "​",
      "style": "IPY_MODEL_b7ce597d0d0741f5aca0711118f7c9f0",
      "value": " 442/442 [00:00&lt;00:00, 1.22kB/s]"
     }
    },
    "1397386380fe4080ad53a54958c2fbe6": {
     "model_module": "@jupyter-widgets/base",
     "model_name": "LayoutModel",
     "state": {
      "_model_module": "@jupyter-widgets/base",
      "_model_module_version": "1.2.0",
      "_model_name": "LayoutModel",
      "_view_count": null,
      "_view_module": "@jupyter-widgets/base",
      "_view_module_version": "1.2.0",
      "_view_name": "LayoutView",
      "align_content": null,
      "align_items": null,
      "align_self": null,
      "border": null,
      "bottom": null,
      "display": null,
      "flex": null,
      "flex_flow": null,
      "grid_area": null,
      "grid_auto_columns": null,
      "grid_auto_flow": null,
      "grid_auto_rows": null,
      "grid_column": null,
      "grid_gap": null,
      "grid_row": null,
      "grid_template_areas": null,
      "grid_template_columns": null,
      "grid_template_rows": null,
      "height": null,
      "justify_content": null,
      "justify_items": null,
      "left": null,
      "margin": null,
      "max_height": null,
      "max_width": null,
      "min_height": null,
      "min_width": null,
      "object_fit": null,
      "object_position": null,
      "order": null,
      "overflow": null,
      "overflow_x": null,
      "overflow_y": null,
      "padding": null,
      "right": null,
      "top": null,
      "visibility": null,
      "width": null
     }
    },
    "15f6d4fd47d0447597adc90e439d2483": {
     "model_module": "@jupyter-widgets/controls",
     "model_name": "DescriptionStyleModel",
     "state": {
      "_model_module": "@jupyter-widgets/controls",
      "_model_module_version": "1.5.0",
      "_model_name": "DescriptionStyleModel",
      "_view_count": null,
      "_view_module": "@jupyter-widgets/base",
      "_view_module_version": "1.2.0",
      "_view_name": "StyleView",
      "description_width": ""
     }
    },
    "2200957fd62b45999a0bf09d10aafd09": {
     "model_module": "@jupyter-widgets/controls",
     "model_name": "HBoxModel",
     "state": {
      "_dom_classes": [],
      "_model_module": "@jupyter-widgets/controls",
      "_model_module_version": "1.5.0",
      "_model_name": "HBoxModel",
      "_view_count": null,
      "_view_module": "@jupyter-widgets/controls",
      "_view_module_version": "1.5.0",
      "_view_name": "HBoxView",
      "box_style": "",
      "children": [
       "IPY_MODEL_ca00d8df97514714ba60deb51512397f",
       "IPY_MODEL_be5d412ffb7b439f977f29c84fef6974"
      ],
      "layout": "IPY_MODEL_2fd29741371347b29d3ab79702293f89"
     }
    },
    "2f9ea867a0594f9f98d88b79106f03a5": {
     "model_module": "@jupyter-widgets/controls",
     "model_name": "HTMLModel",
     "state": {
      "_dom_classes": [],
      "_model_module": "@jupyter-widgets/controls",
      "_model_module_version": "1.5.0",
      "_model_name": "HTMLModel",
      "_view_count": null,
      "_view_module": "@jupyter-widgets/controls",
      "_view_module_version": "1.5.0",
      "_view_name": "HTMLView",
      "description": "",
      "description_tooltip": null,
      "layout": "IPY_MODEL_382c65ed728d4b2ca46a7b83468c6d73",
      "placeholder": "​",
      "style": "IPY_MODEL_f0b8894c06e5406098b1b70403041316",
      "value": " 268M/268M [00:08&lt;00:00, 31.6MB/s]"
     }
    },
    "2fd29741371347b29d3ab79702293f89": {
     "model_module": "@jupyter-widgets/base",
     "model_name": "LayoutModel",
     "state": {
      "_model_module": "@jupyter-widgets/base",
      "_model_module_version": "1.2.0",
      "_model_name": "LayoutModel",
      "_view_count": null,
      "_view_module": "@jupyter-widgets/base",
      "_view_module_version": "1.2.0",
      "_view_name": "LayoutView",
      "align_content": null,
      "align_items": null,
      "align_self": null,
      "border": null,
      "bottom": null,
      "display": null,
      "flex": null,
      "flex_flow": null,
      "grid_area": null,
      "grid_auto_columns": null,
      "grid_auto_flow": null,
      "grid_auto_rows": null,
      "grid_column": null,
      "grid_gap": null,
      "grid_row": null,
      "grid_template_areas": null,
      "grid_template_columns": null,
      "grid_template_rows": null,
      "height": null,
      "justify_content": null,
      "justify_items": null,
      "left": null,
      "margin": null,
      "max_height": null,
      "max_width": null,
      "min_height": null,
      "min_width": null,
      "object_fit": null,
      "object_position": null,
      "order": null,
      "overflow": null,
      "overflow_x": null,
      "overflow_y": null,
      "padding": null,
      "right": null,
      "top": null,
      "visibility": null,
      "width": null
     }
    },
    "35389ca9c4134cd2bd3db516a30f805b": {
     "model_module": "@jupyter-widgets/controls",
     "model_name": "ProgressStyleModel",
     "state": {
      "_model_module": "@jupyter-widgets/controls",
      "_model_module_version": "1.5.0",
      "_model_name": "ProgressStyleModel",
      "_view_count": null,
      "_view_module": "@jupyter-widgets/base",
      "_view_module_version": "1.2.0",
      "_view_name": "StyleView",
      "bar_color": null,
      "description_width": "initial"
     }
    },
    "3548e016675142abb7dc0200635130b8": {
     "model_module": "@jupyter-widgets/controls",
     "model_name": "ProgressStyleModel",
     "state": {
      "_model_module": "@jupyter-widgets/controls",
      "_model_module_version": "1.5.0",
      "_model_name": "ProgressStyleModel",
      "_view_count": null,
      "_view_module": "@jupyter-widgets/base",
      "_view_module_version": "1.2.0",
      "_view_name": "StyleView",
      "bar_color": null,
      "description_width": "initial"
     }
    },
    "382c65ed728d4b2ca46a7b83468c6d73": {
     "model_module": "@jupyter-widgets/base",
     "model_name": "LayoutModel",
     "state": {
      "_model_module": "@jupyter-widgets/base",
      "_model_module_version": "1.2.0",
      "_model_name": "LayoutModel",
      "_view_count": null,
      "_view_module": "@jupyter-widgets/base",
      "_view_module_version": "1.2.0",
      "_view_name": "LayoutView",
      "align_content": null,
      "align_items": null,
      "align_self": null,
      "border": null,
      "bottom": null,
      "display": null,
      "flex": null,
      "flex_flow": null,
      "grid_area": null,
      "grid_auto_columns": null,
      "grid_auto_flow": null,
      "grid_auto_rows": null,
      "grid_column": null,
      "grid_gap": null,
      "grid_row": null,
      "grid_template_areas": null,
      "grid_template_columns": null,
      "grid_template_rows": null,
      "height": null,
      "justify_content": null,
      "justify_items": null,
      "left": null,
      "margin": null,
      "max_height": null,
      "max_width": null,
      "min_height": null,
      "min_width": null,
      "object_fit": null,
      "object_position": null,
      "order": null,
      "overflow": null,
      "overflow_x": null,
      "overflow_y": null,
      "padding": null,
      "right": null,
      "top": null,
      "visibility": null,
      "width": null
     }
    },
    "5290ba323ad94ad3b3a02d291fed4cb0": {
     "model_module": "@jupyter-widgets/base",
     "model_name": "LayoutModel",
     "state": {
      "_model_module": "@jupyter-widgets/base",
      "_model_module_version": "1.2.0",
      "_model_name": "LayoutModel",
      "_view_count": null,
      "_view_module": "@jupyter-widgets/base",
      "_view_module_version": "1.2.0",
      "_view_name": "LayoutView",
      "align_content": null,
      "align_items": null,
      "align_self": null,
      "border": null,
      "bottom": null,
      "display": null,
      "flex": null,
      "flex_flow": null,
      "grid_area": null,
      "grid_auto_columns": null,
      "grid_auto_flow": null,
      "grid_auto_rows": null,
      "grid_column": null,
      "grid_gap": null,
      "grid_row": null,
      "grid_template_areas": null,
      "grid_template_columns": null,
      "grid_template_rows": null,
      "height": null,
      "justify_content": null,
      "justify_items": null,
      "left": null,
      "margin": null,
      "max_height": null,
      "max_width": null,
      "min_height": null,
      "min_width": null,
      "object_fit": null,
      "object_position": null,
      "order": null,
      "overflow": null,
      "overflow_x": null,
      "overflow_y": null,
      "padding": null,
      "right": null,
      "top": null,
      "visibility": null,
      "width": null
     }
    },
    "57d1101e366c43e488111e81e56639f8": {
     "model_module": "@jupyter-widgets/controls",
     "model_name": "HBoxModel",
     "state": {
      "_dom_classes": [],
      "_model_module": "@jupyter-widgets/controls",
      "_model_module_version": "1.5.0",
      "_model_name": "HBoxModel",
      "_view_count": null,
      "_view_module": "@jupyter-widgets/controls",
      "_view_module_version": "1.5.0",
      "_view_name": "HBoxView",
      "box_style": "",
      "children": [
       "IPY_MODEL_d0a6d051ee204c33a851ed98dc6cbf33",
       "IPY_MODEL_746f4e383e0047b28e64d9d93fffe0aa"
      ],
      "layout": "IPY_MODEL_c60890f71d0241f698caf3304e727668"
     }
    },
    "5d4d62208b0e45b5a063e2d85ab07ce1": {
     "model_module": "@jupyter-widgets/controls",
     "model_name": "ProgressStyleModel",
     "state": {
      "_model_module": "@jupyter-widgets/controls",
      "_model_module_version": "1.5.0",
      "_model_name": "ProgressStyleModel",
      "_view_count": null,
      "_view_module": "@jupyter-widgets/base",
      "_view_module_version": "1.2.0",
      "_view_name": "StyleView",
      "bar_color": null,
      "description_width": "initial"
     }
    },
    "5f785c79f13a48099bbb1477df8aa16d": {
     "model_module": "@jupyter-widgets/controls",
     "model_name": "FloatProgressModel",
     "state": {
      "_dom_classes": [],
      "_model_module": "@jupyter-widgets/controls",
      "_model_module_version": "1.5.0",
      "_model_name": "FloatProgressModel",
      "_view_count": null,
      "_view_module": "@jupyter-widgets/controls",
      "_view_module_version": "1.5.0",
      "_view_name": "ProgressView",
      "bar_style": "success",
      "description": "Downloading: 100%",
      "description_tooltip": null,
      "layout": "IPY_MODEL_082ca58e4f2f42d7af0230ed3b5c40e4",
      "max": 442,
      "min": 0,
      "orientation": "horizontal",
      "style": "IPY_MODEL_35389ca9c4134cd2bd3db516a30f805b",
      "value": 442
     }
    },
    "64b90e94382b477cad9365457ce1476f": {
     "model_module": "@jupyter-widgets/base",
     "model_name": "LayoutModel",
     "state": {
      "_model_module": "@jupyter-widgets/base",
      "_model_module_version": "1.2.0",
      "_model_name": "LayoutModel",
      "_view_count": null,
      "_view_module": "@jupyter-widgets/base",
      "_view_module_version": "1.2.0",
      "_view_name": "LayoutView",
      "align_content": null,
      "align_items": null,
      "align_self": null,
      "border": null,
      "bottom": null,
      "display": null,
      "flex": null,
      "flex_flow": null,
      "grid_area": null,
      "grid_auto_columns": null,
      "grid_auto_flow": null,
      "grid_auto_rows": null,
      "grid_column": null,
      "grid_gap": null,
      "grid_row": null,
      "grid_template_areas": null,
      "grid_template_columns": null,
      "grid_template_rows": null,
      "height": null,
      "justify_content": null,
      "justify_items": null,
      "left": null,
      "margin": null,
      "max_height": null,
      "max_width": null,
      "min_height": null,
      "min_width": null,
      "object_fit": null,
      "object_position": null,
      "order": null,
      "overflow": null,
      "overflow_x": null,
      "overflow_y": null,
      "padding": null,
      "right": null,
      "top": null,
      "visibility": null,
      "width": null
     }
    },
    "6e67df8d4c044ab0b4e11d19b7183d30": {
     "model_module": "@jupyter-widgets/controls",
     "model_name": "HBoxModel",
     "state": {
      "_dom_classes": [],
      "_model_module": "@jupyter-widgets/controls",
      "_model_module_version": "1.5.0",
      "_model_name": "HBoxModel",
      "_view_count": null,
      "_view_module": "@jupyter-widgets/controls",
      "_view_module_version": "1.5.0",
      "_view_name": "HBoxView",
      "box_style": "",
      "children": [
       "IPY_MODEL_8d6916f93ffc41cca2bf8be42251ab5f",
       "IPY_MODEL_2f9ea867a0594f9f98d88b79106f03a5"
      ],
      "layout": "IPY_MODEL_d2eca679c7ac4bb7acb8a8950a83cbff"
     }
    },
    "746f4e383e0047b28e64d9d93fffe0aa": {
     "model_module": "@jupyter-widgets/controls",
     "model_name": "HTMLModel",
     "state": {
      "_dom_classes": [],
      "_model_module": "@jupyter-widgets/controls",
      "_model_module_version": "1.5.0",
      "_model_name": "HTMLModel",
      "_view_count": null,
      "_view_module": "@jupyter-widgets/controls",
      "_view_module_version": "1.5.0",
      "_view_name": "HTMLView",
      "description": "",
      "description_tooltip": null,
      "layout": "IPY_MODEL_d7dbec6e19ec470c9f7289056fc4bfb1",
      "placeholder": "​",
      "style": "IPY_MODEL_15f6d4fd47d0447597adc90e439d2483",
      "value": " 466k/466k [00:00&lt;00:00, 1.05MB/s]"
     }
    },
    "7927b9590f3b435da0347bce52ce60dc": {
     "model_module": "@jupyter-widgets/base",
     "model_name": "LayoutModel",
     "state": {
      "_model_module": "@jupyter-widgets/base",
      "_model_module_version": "1.2.0",
      "_model_name": "LayoutModel",
      "_view_count": null,
      "_view_module": "@jupyter-widgets/base",
      "_view_module_version": "1.2.0",
      "_view_name": "LayoutView",
      "align_content": null,
      "align_items": null,
      "align_self": null,
      "border": null,
      "bottom": null,
      "display": null,
      "flex": null,
      "flex_flow": null,
      "grid_area": null,
      "grid_auto_columns": null,
      "grid_auto_flow": null,
      "grid_auto_rows": null,
      "grid_column": null,
      "grid_gap": null,
      "grid_row": null,
      "grid_template_areas": null,
      "grid_template_columns": null,
      "grid_template_rows": null,
      "height": null,
      "justify_content": null,
      "justify_items": null,
      "left": null,
      "margin": null,
      "max_height": null,
      "max_width": null,
      "min_height": null,
      "min_width": null,
      "object_fit": null,
      "object_position": null,
      "order": null,
      "overflow": null,
      "overflow_x": null,
      "overflow_y": null,
      "padding": null,
      "right": null,
      "top": null,
      "visibility": null,
      "width": null
     }
    },
    "7f14314f8e9947a4bc9f83737f137386": {
     "model_module": "@jupyter-widgets/controls",
     "model_name": "HTMLModel",
     "state": {
      "_dom_classes": [],
      "_model_module": "@jupyter-widgets/controls",
      "_model_module_version": "1.5.0",
      "_model_name": "HTMLModel",
      "_view_count": null,
      "_view_module": "@jupyter-widgets/controls",
      "_view_module_version": "1.5.0",
      "_view_name": "HTMLView",
      "description": "",
      "description_tooltip": null,
      "layout": "IPY_MODEL_5290ba323ad94ad3b3a02d291fed4cb0",
      "placeholder": "​",
      "style": "IPY_MODEL_9254fe5fc823456bb534029578e4afb1",
      "value": " 232k/232k [00:02&lt;00:00, 94.9kB/s]"
     }
    },
    "8774db4d488540d5a640356bceefdb04": {
     "model_module": "@jupyter-widgets/base",
     "model_name": "LayoutModel",
     "state": {
      "_model_module": "@jupyter-widgets/base",
      "_model_module_version": "1.2.0",
      "_model_name": "LayoutModel",
      "_view_count": null,
      "_view_module": "@jupyter-widgets/base",
      "_view_module_version": "1.2.0",
      "_view_name": "LayoutView",
      "align_content": null,
      "align_items": null,
      "align_self": null,
      "border": null,
      "bottom": null,
      "display": null,
      "flex": null,
      "flex_flow": null,
      "grid_area": null,
      "grid_auto_columns": null,
      "grid_auto_flow": null,
      "grid_auto_rows": null,
      "grid_column": null,
      "grid_gap": null,
      "grid_row": null,
      "grid_template_areas": null,
      "grid_template_columns": null,
      "grid_template_rows": null,
      "height": null,
      "justify_content": null,
      "justify_items": null,
      "left": null,
      "margin": null,
      "max_height": null,
      "max_width": null,
      "min_height": null,
      "min_width": null,
      "object_fit": null,
      "object_position": null,
      "order": null,
      "overflow": null,
      "overflow_x": null,
      "overflow_y": null,
      "padding": null,
      "right": null,
      "top": null,
      "visibility": null,
      "width": null
     }
    },
    "8d474015aada485883408a7c89d6d190": {
     "model_module": "@jupyter-widgets/controls",
     "model_name": "DescriptionStyleModel",
     "state": {
      "_model_module": "@jupyter-widgets/controls",
      "_model_module_version": "1.5.0",
      "_model_name": "DescriptionStyleModel",
      "_view_count": null,
      "_view_module": "@jupyter-widgets/base",
      "_view_module_version": "1.2.0",
      "_view_name": "StyleView",
      "description_width": ""
     }
    },
    "8d6916f93ffc41cca2bf8be42251ab5f": {
     "model_module": "@jupyter-widgets/controls",
     "model_name": "FloatProgressModel",
     "state": {
      "_dom_classes": [],
      "_model_module": "@jupyter-widgets/controls",
      "_model_module_version": "1.5.0",
      "_model_name": "FloatProgressModel",
      "_view_count": null,
      "_view_module": "@jupyter-widgets/controls",
      "_view_module_version": "1.5.0",
      "_view_name": "ProgressView",
      "bar_style": "success",
      "description": "Downloading: 100%",
      "description_tooltip": null,
      "layout": "IPY_MODEL_8774db4d488540d5a640356bceefdb04",
      "max": 267967963,
      "min": 0,
      "orientation": "horizontal",
      "style": "IPY_MODEL_3548e016675142abb7dc0200635130b8",
      "value": 267967963
     }
    },
    "9254fe5fc823456bb534029578e4afb1": {
     "model_module": "@jupyter-widgets/controls",
     "model_name": "DescriptionStyleModel",
     "state": {
      "_model_module": "@jupyter-widgets/controls",
      "_model_module_version": "1.5.0",
      "_model_name": "DescriptionStyleModel",
      "_view_count": null,
      "_view_module": "@jupyter-widgets/base",
      "_view_module_version": "1.2.0",
      "_view_name": "StyleView",
      "description_width": ""
     }
    },
    "a52fa27484f34ebdb0abc12c73bf07df": {
     "model_module": "@jupyter-widgets/base",
     "model_name": "LayoutModel",
     "state": {
      "_model_module": "@jupyter-widgets/base",
      "_model_module_version": "1.2.0",
      "_model_name": "LayoutModel",
      "_view_count": null,
      "_view_module": "@jupyter-widgets/base",
      "_view_module_version": "1.2.0",
      "_view_name": "LayoutView",
      "align_content": null,
      "align_items": null,
      "align_self": null,
      "border": null,
      "bottom": null,
      "display": null,
      "flex": null,
      "flex_flow": null,
      "grid_area": null,
      "grid_auto_columns": null,
      "grid_auto_flow": null,
      "grid_auto_rows": null,
      "grid_column": null,
      "grid_gap": null,
      "grid_row": null,
      "grid_template_areas": null,
      "grid_template_columns": null,
      "grid_template_rows": null,
      "height": null,
      "justify_content": null,
      "justify_items": null,
      "left": null,
      "margin": null,
      "max_height": null,
      "max_width": null,
      "min_height": null,
      "min_width": null,
      "object_fit": null,
      "object_position": null,
      "order": null,
      "overflow": null,
      "overflow_x": null,
      "overflow_y": null,
      "padding": null,
      "right": null,
      "top": null,
      "visibility": null,
      "width": null
     }
    },
    "acd20cabcaca47898ce9e056f81dab57": {
     "model_module": "@jupyter-widgets/base",
     "model_name": "LayoutModel",
     "state": {
      "_model_module": "@jupyter-widgets/base",
      "_model_module_version": "1.2.0",
      "_model_name": "LayoutModel",
      "_view_count": null,
      "_view_module": "@jupyter-widgets/base",
      "_view_module_version": "1.2.0",
      "_view_name": "LayoutView",
      "align_content": null,
      "align_items": null,
      "align_self": null,
      "border": null,
      "bottom": null,
      "display": null,
      "flex": null,
      "flex_flow": null,
      "grid_area": null,
      "grid_auto_columns": null,
      "grid_auto_flow": null,
      "grid_auto_rows": null,
      "grid_column": null,
      "grid_gap": null,
      "grid_row": null,
      "grid_template_areas": null,
      "grid_template_columns": null,
      "grid_template_rows": null,
      "height": null,
      "justify_content": null,
      "justify_items": null,
      "left": null,
      "margin": null,
      "max_height": null,
      "max_width": null,
      "min_height": null,
      "min_width": null,
      "object_fit": null,
      "object_position": null,
      "order": null,
      "overflow": null,
      "overflow_x": null,
      "overflow_y": null,
      "padding": null,
      "right": null,
      "top": null,
      "visibility": null,
      "width": null
     }
    },
    "b0861ec9ac15401783bfd9e92487fe43": {
     "model_module": "@jupyter-widgets/controls",
     "model_name": "HBoxModel",
     "state": {
      "_dom_classes": [],
      "_model_module": "@jupyter-widgets/controls",
      "_model_module_version": "1.5.0",
      "_model_name": "HBoxModel",
      "_view_count": null,
      "_view_module": "@jupyter-widgets/controls",
      "_view_module_version": "1.5.0",
      "_view_name": "HBoxView",
      "box_style": "",
      "children": [
       "IPY_MODEL_5f785c79f13a48099bbb1477df8aa16d",
       "IPY_MODEL_0feedfdfac074b0fb7a7950a8a65fe6e"
      ],
      "layout": "IPY_MODEL_a52fa27484f34ebdb0abc12c73bf07df"
     }
    },
    "b21f2efe553e4b388d8647e06e8288f2": {
     "model_module": "@jupyter-widgets/base",
     "model_name": "LayoutModel",
     "state": {
      "_model_module": "@jupyter-widgets/base",
      "_model_module_version": "1.2.0",
      "_model_name": "LayoutModel",
      "_view_count": null,
      "_view_module": "@jupyter-widgets/base",
      "_view_module_version": "1.2.0",
      "_view_name": "LayoutView",
      "align_content": null,
      "align_items": null,
      "align_self": null,
      "border": null,
      "bottom": null,
      "display": null,
      "flex": null,
      "flex_flow": null,
      "grid_area": null,
      "grid_auto_columns": null,
      "grid_auto_flow": null,
      "grid_auto_rows": null,
      "grid_column": null,
      "grid_gap": null,
      "grid_row": null,
      "grid_template_areas": null,
      "grid_template_columns": null,
      "grid_template_rows": null,
      "height": null,
      "justify_content": null,
      "justify_items": null,
      "left": null,
      "margin": null,
      "max_height": null,
      "max_width": null,
      "min_height": null,
      "min_width": null,
      "object_fit": null,
      "object_position": null,
      "order": null,
      "overflow": null,
      "overflow_x": null,
      "overflow_y": null,
      "padding": null,
      "right": null,
      "top": null,
      "visibility": null,
      "width": null
     }
    },
    "b60402a9beae452eb791e6d3caf644ea": {
     "model_module": "@jupyter-widgets/base",
     "model_name": "LayoutModel",
     "state": {
      "_model_module": "@jupyter-widgets/base",
      "_model_module_version": "1.2.0",
      "_model_name": "LayoutModel",
      "_view_count": null,
      "_view_module": "@jupyter-widgets/base",
      "_view_module_version": "1.2.0",
      "_view_name": "LayoutView",
      "align_content": null,
      "align_items": null,
      "align_self": null,
      "border": null,
      "bottom": null,
      "display": null,
      "flex": null,
      "flex_flow": null,
      "grid_area": null,
      "grid_auto_columns": null,
      "grid_auto_flow": null,
      "grid_auto_rows": null,
      "grid_column": null,
      "grid_gap": null,
      "grid_row": null,
      "grid_template_areas": null,
      "grid_template_columns": null,
      "grid_template_rows": null,
      "height": null,
      "justify_content": null,
      "justify_items": null,
      "left": null,
      "margin": null,
      "max_height": null,
      "max_width": null,
      "min_height": null,
      "min_width": null,
      "object_fit": null,
      "object_position": null,
      "order": null,
      "overflow": null,
      "overflow_x": null,
      "overflow_y": null,
      "padding": null,
      "right": null,
      "top": null,
      "visibility": null,
      "width": null
     }
    },
    "b7ce597d0d0741f5aca0711118f7c9f0": {
     "model_module": "@jupyter-widgets/controls",
     "model_name": "DescriptionStyleModel",
     "state": {
      "_model_module": "@jupyter-widgets/controls",
      "_model_module_version": "1.5.0",
      "_model_name": "DescriptionStyleModel",
      "_view_count": null,
      "_view_module": "@jupyter-widgets/base",
      "_view_module_version": "1.2.0",
      "_view_name": "StyleView",
      "description_width": ""
     }
    },
    "be5d412ffb7b439f977f29c84fef6974": {
     "model_module": "@jupyter-widgets/controls",
     "model_name": "HTMLModel",
     "state": {
      "_dom_classes": [],
      "_model_module": "@jupyter-widgets/controls",
      "_model_module_version": "1.5.0",
      "_model_name": "HTMLModel",
      "_view_count": null,
      "_view_module": "@jupyter-widgets/controls",
      "_view_module_version": "1.5.0",
      "_view_name": "HTMLView",
      "description": "",
      "description_tooltip": null,
      "layout": "IPY_MODEL_1397386380fe4080ad53a54958c2fbe6",
      "placeholder": "​",
      "style": "IPY_MODEL_8d474015aada485883408a7c89d6d190",
      "value": " 28.0/28.0 [00:01&lt;00:00, 27.6B/s]"
     }
    },
    "c084b8dc32d442fe9310792cd36e657c": {
     "model_module": "@jupyter-widgets/controls",
     "model_name": "FloatProgressModel",
     "state": {
      "_dom_classes": [],
      "_model_module": "@jupyter-widgets/controls",
      "_model_module_version": "1.5.0",
      "_model_name": "FloatProgressModel",
      "_view_count": null,
      "_view_module": "@jupyter-widgets/controls",
      "_view_module_version": "1.5.0",
      "_view_name": "ProgressView",
      "bar_style": "success",
      "description": "Downloading: 100%",
      "description_tooltip": null,
      "layout": "IPY_MODEL_7927b9590f3b435da0347bce52ce60dc",
      "max": 231508,
      "min": 0,
      "orientation": "horizontal",
      "style": "IPY_MODEL_c8314794652f4c09922340116c972962",
      "value": 231508
     }
    },
    "c60890f71d0241f698caf3304e727668": {
     "model_module": "@jupyter-widgets/base",
     "model_name": "LayoutModel",
     "state": {
      "_model_module": "@jupyter-widgets/base",
      "_model_module_version": "1.2.0",
      "_model_name": "LayoutModel",
      "_view_count": null,
      "_view_module": "@jupyter-widgets/base",
      "_view_module_version": "1.2.0",
      "_view_name": "LayoutView",
      "align_content": null,
      "align_items": null,
      "align_self": null,
      "border": null,
      "bottom": null,
      "display": null,
      "flex": null,
      "flex_flow": null,
      "grid_area": null,
      "grid_auto_columns": null,
      "grid_auto_flow": null,
      "grid_auto_rows": null,
      "grid_column": null,
      "grid_gap": null,
      "grid_row": null,
      "grid_template_areas": null,
      "grid_template_columns": null,
      "grid_template_rows": null,
      "height": null,
      "justify_content": null,
      "justify_items": null,
      "left": null,
      "margin": null,
      "max_height": null,
      "max_width": null,
      "min_height": null,
      "min_width": null,
      "object_fit": null,
      "object_position": null,
      "order": null,
      "overflow": null,
      "overflow_x": null,
      "overflow_y": null,
      "padding": null,
      "right": null,
      "top": null,
      "visibility": null,
      "width": null
     }
    },
    "c8314794652f4c09922340116c972962": {
     "model_module": "@jupyter-widgets/controls",
     "model_name": "ProgressStyleModel",
     "state": {
      "_model_module": "@jupyter-widgets/controls",
      "_model_module_version": "1.5.0",
      "_model_name": "ProgressStyleModel",
      "_view_count": null,
      "_view_module": "@jupyter-widgets/base",
      "_view_module_version": "1.2.0",
      "_view_name": "StyleView",
      "bar_color": null,
      "description_width": "initial"
     }
    },
    "ca00d8df97514714ba60deb51512397f": {
     "model_module": "@jupyter-widgets/controls",
     "model_name": "FloatProgressModel",
     "state": {
      "_dom_classes": [],
      "_model_module": "@jupyter-widgets/controls",
      "_model_module_version": "1.5.0",
      "_model_name": "FloatProgressModel",
      "_view_count": null,
      "_view_module": "@jupyter-widgets/controls",
      "_view_module_version": "1.5.0",
      "_view_name": "ProgressView",
      "bar_style": "success",
      "description": "Downloading: 100%",
      "description_tooltip": null,
      "layout": "IPY_MODEL_acd20cabcaca47898ce9e056f81dab57",
      "max": 28,
      "min": 0,
      "orientation": "horizontal",
      "style": "IPY_MODEL_cae5484150364375b7e97bd83366b9f9",
      "value": 28
     }
    },
    "cae5484150364375b7e97bd83366b9f9": {
     "model_module": "@jupyter-widgets/controls",
     "model_name": "ProgressStyleModel",
     "state": {
      "_model_module": "@jupyter-widgets/controls",
      "_model_module_version": "1.5.0",
      "_model_name": "ProgressStyleModel",
      "_view_count": null,
      "_view_module": "@jupyter-widgets/base",
      "_view_module_version": "1.2.0",
      "_view_name": "StyleView",
      "bar_color": null,
      "description_width": "initial"
     }
    },
    "d0a6d051ee204c33a851ed98dc6cbf33": {
     "model_module": "@jupyter-widgets/controls",
     "model_name": "FloatProgressModel",
     "state": {
      "_dom_classes": [],
      "_model_module": "@jupyter-widgets/controls",
      "_model_module_version": "1.5.0",
      "_model_name": "FloatProgressModel",
      "_view_count": null,
      "_view_module": "@jupyter-widgets/controls",
      "_view_module_version": "1.5.0",
      "_view_name": "ProgressView",
      "bar_style": "success",
      "description": "Downloading: 100%",
      "description_tooltip": null,
      "layout": "IPY_MODEL_b21f2efe553e4b388d8647e06e8288f2",
      "max": 466062,
      "min": 0,
      "orientation": "horizontal",
      "style": "IPY_MODEL_5d4d62208b0e45b5a063e2d85ab07ce1",
      "value": 466062
     }
    },
    "d2eca679c7ac4bb7acb8a8950a83cbff": {
     "model_module": "@jupyter-widgets/base",
     "model_name": "LayoutModel",
     "state": {
      "_model_module": "@jupyter-widgets/base",
      "_model_module_version": "1.2.0",
      "_model_name": "LayoutModel",
      "_view_count": null,
      "_view_module": "@jupyter-widgets/base",
      "_view_module_version": "1.2.0",
      "_view_name": "LayoutView",
      "align_content": null,
      "align_items": null,
      "align_self": null,
      "border": null,
      "bottom": null,
      "display": null,
      "flex": null,
      "flex_flow": null,
      "grid_area": null,
      "grid_auto_columns": null,
      "grid_auto_flow": null,
      "grid_auto_rows": null,
      "grid_column": null,
      "grid_gap": null,
      "grid_row": null,
      "grid_template_areas": null,
      "grid_template_columns": null,
      "grid_template_rows": null,
      "height": null,
      "justify_content": null,
      "justify_items": null,
      "left": null,
      "margin": null,
      "max_height": null,
      "max_width": null,
      "min_height": null,
      "min_width": null,
      "object_fit": null,
      "object_position": null,
      "order": null,
      "overflow": null,
      "overflow_x": null,
      "overflow_y": null,
      "padding": null,
      "right": null,
      "top": null,
      "visibility": null,
      "width": null
     }
    },
    "d7dbec6e19ec470c9f7289056fc4bfb1": {
     "model_module": "@jupyter-widgets/base",
     "model_name": "LayoutModel",
     "state": {
      "_model_module": "@jupyter-widgets/base",
      "_model_module_version": "1.2.0",
      "_model_name": "LayoutModel",
      "_view_count": null,
      "_view_module": "@jupyter-widgets/base",
      "_view_module_version": "1.2.0",
      "_view_name": "LayoutView",
      "align_content": null,
      "align_items": null,
      "align_self": null,
      "border": null,
      "bottom": null,
      "display": null,
      "flex": null,
      "flex_flow": null,
      "grid_area": null,
      "grid_auto_columns": null,
      "grid_auto_flow": null,
      "grid_auto_rows": null,
      "grid_column": null,
      "grid_gap": null,
      "grid_row": null,
      "grid_template_areas": null,
      "grid_template_columns": null,
      "grid_template_rows": null,
      "height": null,
      "justify_content": null,
      "justify_items": null,
      "left": null,
      "margin": null,
      "max_height": null,
      "max_width": null,
      "min_height": null,
      "min_width": null,
      "object_fit": null,
      "object_position": null,
      "order": null,
      "overflow": null,
      "overflow_x": null,
      "overflow_y": null,
      "padding": null,
      "right": null,
      "top": null,
      "visibility": null,
      "width": null
     }
    },
    "f0b8894c06e5406098b1b70403041316": {
     "model_module": "@jupyter-widgets/controls",
     "model_name": "DescriptionStyleModel",
     "state": {
      "_model_module": "@jupyter-widgets/controls",
      "_model_module_version": "1.5.0",
      "_model_name": "DescriptionStyleModel",
      "_view_count": null,
      "_view_module": "@jupyter-widgets/base",
      "_view_module_version": "1.2.0",
      "_view_name": "StyleView",
      "description_width": ""
     }
    },
    "fa80c969c2c14b478caffc7d37384384": {
     "model_module": "@jupyter-widgets/controls",
     "model_name": "HBoxModel",
     "state": {
      "_dom_classes": [],
      "_model_module": "@jupyter-widgets/controls",
      "_model_module_version": "1.5.0",
      "_model_name": "HBoxModel",
      "_view_count": null,
      "_view_module": "@jupyter-widgets/controls",
      "_view_module_version": "1.5.0",
      "_view_name": "HBoxView",
      "box_style": "",
      "children": [
       "IPY_MODEL_c084b8dc32d442fe9310792cd36e657c",
       "IPY_MODEL_7f14314f8e9947a4bc9f83737f137386"
      ],
      "layout": "IPY_MODEL_b60402a9beae452eb791e6d3caf644ea"
     }
    }
   }
  }
 },
 "nbformat": 4,
 "nbformat_minor": 1
}
