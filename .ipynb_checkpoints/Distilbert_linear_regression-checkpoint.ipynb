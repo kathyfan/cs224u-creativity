{
 "cells": [
  {
   "cell_type": "markdown",
   "metadata": {
    "id": "p270iyuaIsPb"
   },
   "source": [
    "This notebook is written based on [this reference implementation](https://github.com/bentrevett/pytorch-sentiment-analysis/blob/master/6%20-%20Transformers%20for%20Sentiment%20Analysis.ipynb).\n",
    "\n",
    "Other refs for model:\n",
    "* https://stackoverflow.com/questions/65205582/how-can-i-add-a-bi-lstm-layer-on-top-of-bert-model\n",
    "* https://discuss.pytorch.org/t/how-to-connect-hook-two-or-even-more-models-together/21033\n",
    "* https://pytorch.org/tutorials/beginner/transformer_tutorial.html\n",
    "* https://pytorch.org/tutorials/beginner/basics/buildmodel_tutorial.html\n",
    "\n",
    "Other refs for torchtext:\n",
    "* https://towardsdatascience.com/use-torchtext-to-load-nlp-datasets-part-i-5da6f1c89d84\n",
    "* https://towardsdatascience.com/use-torchtext-to-load-nlp-datasets-part-ii-f146c8b9a496\n",
    "* http://anie.me/On-Torchtext/"
   ]
  },
  {
   "cell_type": "markdown",
   "metadata": {
    "id": "FRXm2FfxzC9A"
   },
   "source": [
    "# Imports and setup"
   ]
  },
  {
   "cell_type": "code",
   "execution_count": 1,
   "metadata": {
    "executionInfo": {
     "elapsed": 5222,
     "status": "ok",
     "timestamp": 1621625578255,
     "user": {
      "displayName": "Xubo Cao",
      "photoUrl": "",
      "userId": "10438589586656072815"
     },
     "user_tz": 420
    },
    "id": "QtVQ8yVAzMTS"
   },
   "outputs": [],
   "source": [
    "import pandas as pd\n",
    "import numpy as np\n",
    "import os\n",
    "import random\n",
    "# random.seed(1)\n",
    "import re\n",
    "\n",
    "# Data processing.\n",
    "import constants # constants.py\n",
    "import dataset # dataset.py\n",
    "import torch\n",
    "\n",
    "# Model.\n",
    "import models # models.py\n",
    "import torch.nn as nn\n",
    "from transformers import DistilBertModel\n",
    "\n",
    "# Training.\n",
    "import training # training.py\n",
    "import utils # utils.py\n",
    "\n",
    "# If you make a code change that doesn't get picked up by\n",
    "# Jupyter notebook, try reloading like below:\n",
    "# import imp\n",
    "# imp.reload(training)"
   ]
  },
  {
   "cell_type": "markdown",
   "metadata": {
    "id": "PL4p_28SzGCv"
   },
   "source": [
    "# Read the data\n",
    "Skip this section if you've already ran the notebook once and have the csvs locally."
   ]
  },
  {
   "cell_type": "code",
   "execution_count": 3,
   "metadata": {
    "executionInfo": {
     "elapsed": 2809,
     "status": "ok",
     "timestamp": 1621625592336,
     "user": {
      "displayName": "Xubo Cao",
      "photoUrl": "",
      "userId": "10438589586656072815"
     },
     "user_tz": 420
    },
    "id": "HwNKmWDey-q9"
   },
   "outputs": [],
   "source": [
    "# data_df = dataset.read_multiple_datasets([1,2,3], 'Creativity_Combined', shuffle=True)"
   ]
  },
  {
   "cell_type": "code",
   "execution_count": 4,
   "metadata": {
    "executionInfo": {
     "elapsed": 1002,
     "status": "ok",
     "timestamp": 1621625593325,
     "user": {
      "displayName": "Xubo Cao",
      "photoUrl": "",
      "userId": "10438589586656072815"
     },
     "user_tz": 420
    },
    "id": "wvWVLrupUEnt"
   },
   "outputs": [],
   "source": [
    "'''This cell is commented out because the csvs should already exist in the directory.\n",
    "If you are running the notebook for the first time, run them to generate the csvs.'''\n",
    "# split into train, test sets. (Train set will be further split into \n",
    "# train+validation sets, via k-fold CV.)\n",
    "# train_df = data_df[:1000]\n",
    "# test_df = data_df[1000:] # roughly 203 test examples set aside\n",
    "\n",
    "# write them to CSV files\n",
    "# train_df.to_csv('ktrain.csv', index=False, header=False)\n",
    "# test_df.to_csv('ktest.csv', index=False, header=False)"
   ]
  },
  {
   "cell_type": "markdown",
   "metadata": {
    "id": "eXVH4t-UC_wD"
   },
   "source": [
    "## Preprocessing and transform into torchtext Dataset format.\n",
    "\n",
    "From what I understand, some preprocessing is done when data.Field() is applied."
   ]
  },
  {
   "cell_type": "code",
   "execution_count": 2,
   "metadata": {
    "executionInfo": {
     "elapsed": 2679,
     "status": "ok",
     "timestamp": 1621625596002,
     "user": {
      "displayName": "Xubo Cao",
      "photoUrl": "",
      "userId": "10438589586656072815"
     },
     "user_tz": 420
    },
    "id": "ifqSE8yj76Vb"
   },
   "outputs": [],
   "source": [
    "train_dataset, test_dataset = dataset.get_train_test_datasets()"
   ]
  },
  {
   "cell_type": "code",
   "execution_count": 3,
   "metadata": {
    "executionInfo": {
     "elapsed": 15,
     "status": "ok",
     "timestamp": 1621625596006,
     "user": {
      "displayName": "Xubo Cao",
      "photoUrl": "",
      "userId": "10438589586656072815"
     },
     "user_tz": 420
    },
    "id": "zfxEmIj65PFa"
   },
   "outputs": [],
   "source": [
    "# Transform train_dataset into an np array representation.\n",
    "# This will be used for generating the K folds.\n",
    "train_exs_arr = np.array(train_dataset.examples)"
   ]
  },
  {
   "cell_type": "markdown",
   "metadata": {
    "id": "wb9qlt-_0xlO"
   },
   "source": [
    "# Training pipeline begins here\n"
   ]
  },
  {
   "cell_type": "code",
   "execution_count": 4,
   "metadata": {},
   "outputs": [
    {
     "name": "stdout",
     "output_type": "stream",
     "text": [
      "eid 0, params {'batch_size': 8, 'dropout': 0.2, 'lr': 3e-05, 'max_epochs': 10}\n"
     ]
    },
    {
     "name": "stderr",
     "output_type": "stream",
     "text": [
      "/opt/conda/lib/python3.7/site-packages/torch/nn/_reduction.py:42: UserWarning: size_average and reduce args will be deprecated, please use reduction='sum' instead.\n",
      "  warnings.warn(warning.format(ret))\n"
     ]
    },
    {
     "name": "stdout",
     "output_type": "stream",
     "text": [
      "training on fold 0\n"
     ]
    },
    {
     "name": "stderr",
     "output_type": "stream",
     "text": [
      "Some weights of the model checkpoint at distilbert-base-uncased were not used when initializing DistilBertModel: ['vocab_layer_norm.weight', 'vocab_layer_norm.bias', 'vocab_projector.weight', 'vocab_transform.bias', 'vocab_projector.bias', 'vocab_transform.weight']\n",
      "- This IS expected if you are initializing DistilBertModel from the checkpoint of a model trained on another task or with another architecture (e.g. initializing a BertForSequenceClassification model from a BertForPreTraining model).\n",
      "- This IS NOT expected if you are initializing DistilBertModel from the checkpoint of a model that you expect to be exactly identical (initializing a BertForSequenceClassification model from a BertForSequenceClassification model).\n"
     ]
    },
    {
     "name": "stdout",
     "output_type": "stream",
     "text": [
      "updating saved weights of best model\n",
      "Epoch: 00 | Epoch Time: 0m 47s\n",
      "\t Train Loss: 11.078 | Train Corr: 0.17\n",
      "\t Val. Loss: 3.977 |  Val. Corr: 0.52\n",
      "updating saved weights of best model\n",
      "Epoch: 01 | Epoch Time: 0m 47s\n",
      "\t Train Loss: 3.008 | Train Corr: 0.60\n",
      "\t Val. Loss: 3.307 |  Val. Corr: 0.58\n",
      "updating saved weights of best model\n",
      "Epoch: 02 | Epoch Time: 0m 47s\n",
      "\t Train Loss: 2.283 | Train Corr: 0.71\n",
      "\t Val. Loss: 3.102 |  Val. Corr: 0.60\n",
      "updating saved weights of best model\n",
      "Epoch: 03 | Epoch Time: 0m 47s\n",
      "\t Train Loss: 1.622 | Train Corr: 0.81\n",
      "\t Val. Loss: 2.930 |  Val. Corr: 0.59\n",
      "updating saved weights of best model\n",
      "Epoch: 04 | Epoch Time: 0m 47s\n",
      "\t Train Loss: 1.249 | Train Corr: 0.86\n",
      "\t Val. Loss: 2.710 |  Val. Corr: 0.62\n",
      "Epoch: 05 | Epoch Time: 0m 47s\n",
      "\t Train Loss: 0.925 | Train Corr: 0.90\n",
      "\t Val. Loss: 3.054 |  Val. Corr: 0.63\n",
      "Epoch: 06 | Epoch Time: 0m 47s\n",
      "\t Train Loss: 0.723 | Train Corr: 0.92\n",
      "\t Val. Loss: 2.802 |  Val. Corr: 0.64\n",
      "updating saved weights of best model\n",
      "training on fold 1\n"
     ]
    },
    {
     "name": "stderr",
     "output_type": "stream",
     "text": [
      "Some weights of the model checkpoint at distilbert-base-uncased were not used when initializing DistilBertModel: ['vocab_layer_norm.weight', 'vocab_layer_norm.bias', 'vocab_projector.weight', 'vocab_transform.bias', 'vocab_projector.bias', 'vocab_transform.weight']\n",
      "- This IS expected if you are initializing DistilBertModel from the checkpoint of a model trained on another task or with another architecture (e.g. initializing a BertForSequenceClassification model from a BertForPreTraining model).\n",
      "- This IS NOT expected if you are initializing DistilBertModel from the checkpoint of a model that you expect to be exactly identical (initializing a BertForSequenceClassification model from a BertForSequenceClassification model).\n"
     ]
    },
    {
     "name": "stdout",
     "output_type": "stream",
     "text": [
      "Epoch: 00 | Epoch Time: 0m 47s\n",
      "\t Train Loss: 10.803 | Train Corr: 0.14\n",
      "\t Val. Loss: 5.215 |  Val. Corr: 0.62\n",
      "Epoch: 01 | Epoch Time: 0m 48s\n",
      "\t Train Loss: 2.846 | Train Corr: 0.61\n",
      "\t Val. Loss: 3.015 |  Val. Corr: 0.67\n",
      "Epoch: 02 | Epoch Time: 0m 47s\n",
      "\t Train Loss: 2.303 | Train Corr: 0.70\n",
      "\t Val. Loss: 3.825 |  Val. Corr: 0.68\n",
      "Epoch: 03 | Epoch Time: 0m 47s\n",
      "\t Train Loss: 1.685 | Train Corr: 0.79\n",
      "\t Val. Loss: 2.956 |  Val. Corr: 0.69\n",
      "updating saved weights of best model\n",
      "Epoch: 04 | Epoch Time: 0m 48s\n",
      "\t Train Loss: 1.067 | Train Corr: 0.87\n",
      "\t Val. Loss: 2.618 |  Val. Corr: 0.70\n",
      "updating saved weights of best model\n",
      "Epoch: 05 | Epoch Time: 0m 48s\n",
      "\t Train Loss: 0.806 | Train Corr: 0.91\n",
      "\t Val. Loss: 2.565 |  Val. Corr: 0.69\n",
      "Epoch: 06 | Epoch Time: 0m 48s\n",
      "\t Train Loss: 0.695 | Train Corr: 0.92\n",
      "\t Val. Loss: 2.805 |  Val. Corr: 0.68\n",
      "Epoch: 07 | Epoch Time: 0m 48s\n",
      "\t Train Loss: 0.622 | Train Corr: 0.93\n",
      "\t Val. Loss: 2.881 |  Val. Corr: 0.70\n",
      "Epoch: 08 | Epoch Time: 0m 47s\n",
      "\t Train Loss: 0.486 | Train Corr: 0.95\n",
      "\t Val. Loss: 2.899 |  Val. Corr: 0.69\n",
      "Epoch: 09 | Epoch Time: 0m 48s\n",
      "\t Train Loss: 0.408 | Train Corr: 0.95\n",
      "\t Val. Loss: 2.709 |  Val. Corr: 0.70\n",
      "training on fold 2\n"
     ]
    },
    {
     "name": "stderr",
     "output_type": "stream",
     "text": [
      "Some weights of the model checkpoint at distilbert-base-uncased were not used when initializing DistilBertModel: ['vocab_layer_norm.weight', 'vocab_layer_norm.bias', 'vocab_projector.weight', 'vocab_transform.bias', 'vocab_projector.bias', 'vocab_transform.weight']\n",
      "- This IS expected if you are initializing DistilBertModel from the checkpoint of a model trained on another task or with another architecture (e.g. initializing a BertForSequenceClassification model from a BertForPreTraining model).\n",
      "- This IS NOT expected if you are initializing DistilBertModel from the checkpoint of a model that you expect to be exactly identical (initializing a BertForSequenceClassification model from a BertForSequenceClassification model).\n"
     ]
    },
    {
     "name": "stdout",
     "output_type": "stream",
     "text": [
      "Epoch: 00 | Epoch Time: 0m 47s\n",
      "\t Train Loss: 13.101 | Train Corr: 0.08\n",
      "\t Val. Loss: 5.485 |  Val. Corr: 0.50\n",
      "Epoch: 01 | Epoch Time: 0m 47s\n",
      "\t Train Loss: 3.579 | Train Corr: 0.51\n",
      "\t Val. Loss: 4.100 |  Val. Corr: 0.63\n",
      "Epoch: 02 | Epoch Time: 0m 47s\n",
      "\t Train Loss: 2.954 | Train Corr: 0.62\n",
      "\t Val. Loss: 2.599 |  Val. Corr: 0.78\n",
      "updating saved weights of best model\n",
      "Epoch: 03 | Epoch Time: 0m 46s\n",
      "\t Train Loss: 2.259 | Train Corr: 0.72\n",
      "\t Val. Loss: 1.702 |  Val. Corr: 0.80\n",
      "updating saved weights of best model\n",
      "Epoch: 04 | Epoch Time: 0m 47s\n",
      "\t Train Loss: 1.550 | Train Corr: 0.82\n",
      "\t Val. Loss: 1.541 |  Val. Corr: 0.79\n",
      "Epoch: 05 | Epoch Time: 0m 48s\n",
      "\t Train Loss: 1.127 | Train Corr: 0.87\n",
      "\t Val. Loss: 1.549 |  Val. Corr: 0.79\n",
      "Epoch: 06 | Epoch Time: 0m 46s\n",
      "\t Train Loss: 0.892 | Train Corr: 0.90\n",
      "\t Val. Loss: 1.614 |  Val. Corr: 0.81\n",
      "Epoch: 07 | Epoch Time: 0m 47s\n",
      "\t Train Loss: 0.643 | Train Corr: 0.93\n",
      "\t Val. Loss: 1.568 |  Val. Corr: 0.80\n",
      "updating saved weights of best model\n",
      "Epoch: 08 | Epoch Time: 0m 47s\n",
      "\t Train Loss: 0.502 | Train Corr: 0.95\n",
      "\t Val. Loss: 1.448 |  Val. Corr: 0.81\n",
      "training on fold 3\n"
     ]
    },
    {
     "name": "stderr",
     "output_type": "stream",
     "text": [
      "Some weights of the model checkpoint at distilbert-base-uncased were not used when initializing DistilBertModel: ['vocab_layer_norm.weight', 'vocab_layer_norm.bias', 'vocab_projector.weight', 'vocab_transform.bias', 'vocab_projector.bias', 'vocab_transform.weight']\n",
      "- This IS expected if you are initializing DistilBertModel from the checkpoint of a model trained on another task or with another architecture (e.g. initializing a BertForSequenceClassification model from a BertForPreTraining model).\n",
      "- This IS NOT expected if you are initializing DistilBertModel from the checkpoint of a model that you expect to be exactly identical (initializing a BertForSequenceClassification model from a BertForSequenceClassification model).\n"
     ]
    },
    {
     "name": "stdout",
     "output_type": "stream",
     "text": [
      "Epoch: 00 | Epoch Time: 0m 45s\n",
      "\t Train Loss: 10.451 | Train Corr: 0.17\n",
      "\t Val. Loss: 3.196 |  Val. Corr: 0.66\n",
      "Epoch: 01 | Epoch Time: 0m 45s\n",
      "\t Train Loss: 2.782 | Train Corr: 0.63\n",
      "\t Val. Loss: 4.156 |  Val. Corr: 0.75\n",
      "Epoch: 02 | Epoch Time: 0m 45s\n",
      "\t Train Loss: 2.020 | Train Corr: 0.75\n",
      "\t Val. Loss: 2.286 |  Val. Corr: 0.76\n",
      "Epoch: 03 | Epoch Time: 0m 45s\n",
      "\t Train Loss: 1.557 | Train Corr: 0.81\n",
      "\t Val. Loss: 2.425 |  Val. Corr: 0.77\n",
      "Epoch: 04 | Epoch Time: 0m 45s\n",
      "\t Train Loss: 1.087 | Train Corr: 0.87\n",
      "\t Val. Loss: 1.909 |  Val. Corr: 0.78\n",
      "Epoch: 05 | Epoch Time: 0m 46s\n",
      "\t Train Loss: 0.777 | Train Corr: 0.91\n",
      "\t Val. Loss: 1.882 |  Val. Corr: 0.78\n",
      "Epoch: 06 | Epoch Time: 0m 45s\n",
      "\t Train Loss: 0.621 | Train Corr: 0.93\n",
      "\t Val. Loss: 2.020 |  Val. Corr: 0.76\n",
      "Epoch: 07 | Epoch Time: 0m 47s\n",
      "\t Train Loss: 0.556 | Train Corr: 0.94\n",
      "\t Val. Loss: 2.735 |  Val. Corr: 0.78\n",
      "training on fold 4\n"
     ]
    },
    {
     "name": "stderr",
     "output_type": "stream",
     "text": [
      "Some weights of the model checkpoint at distilbert-base-uncased were not used when initializing DistilBertModel: ['vocab_layer_norm.weight', 'vocab_layer_norm.bias', 'vocab_projector.weight', 'vocab_transform.bias', 'vocab_projector.bias', 'vocab_transform.weight']\n",
      "- This IS expected if you are initializing DistilBertModel from the checkpoint of a model trained on another task or with another architecture (e.g. initializing a BertForSequenceClassification model from a BertForPreTraining model).\n",
      "- This IS NOT expected if you are initializing DistilBertModel from the checkpoint of a model that you expect to be exactly identical (initializing a BertForSequenceClassification model from a BertForSequenceClassification model).\n"
     ]
    },
    {
     "name": "stdout",
     "output_type": "stream",
     "text": [
      "Epoch: 00 | Epoch Time: 0m 44s\n",
      "\t Train Loss: 9.418 | Train Corr: 0.18\n",
      "\t Val. Loss: 3.601 |  Val. Corr: 0.55\n",
      "Epoch: 01 | Epoch Time: 0m 44s\n",
      "\t Train Loss: 3.305 | Train Corr: 0.53\n",
      "\t Val. Loss: 3.779 |  Val. Corr: 0.62\n",
      "Epoch: 02 | Epoch Time: 0m 44s\n",
      "\t Train Loss: 2.768 | Train Corr: 0.63\n",
      "\t Val. Loss: 3.040 |  Val. Corr: 0.62\n",
      "Epoch: 03 | Epoch Time: 0m 43s\n",
      "\t Train Loss: 1.986 | Train Corr: 0.75\n",
      "\t Val. Loss: 2.570 |  Val. Corr: 0.68\n",
      "Epoch: 04 | Epoch Time: 0m 43s\n",
      "\t Train Loss: 1.432 | Train Corr: 0.83\n",
      "\t Val. Loss: 2.662 |  Val. Corr: 0.66\n",
      "Epoch: 05 | Epoch Time: 0m 44s\n",
      "\t Train Loss: 1.007 | Train Corr: 0.88\n",
      "\t Val. Loss: 2.806 |  Val. Corr: 0.69\n",
      "Epoch: 06 | Epoch Time: 0m 42s\n",
      "\t Train Loss: 0.750 | Train Corr: 0.91\n",
      "\t Val. Loss: 3.471 |  Val. Corr: 0.67\n",
      "Epoch: 07 | Epoch Time: 0m 44s\n",
      "\t Train Loss: 0.578 | Train Corr: 0.94\n",
      "\t Val. Loss: 2.556 |  Val. Corr: 0.69\n",
      "eid 1, params {'batch_size': 8, 'dropout': 0.2, 'lr': 5e-05, 'max_epochs': 10}\n",
      "training on fold 0\n"
     ]
    },
    {
     "name": "stderr",
     "output_type": "stream",
     "text": [
      "Some weights of the model checkpoint at distilbert-base-uncased were not used when initializing DistilBertModel: ['vocab_layer_norm.weight', 'vocab_layer_norm.bias', 'vocab_projector.weight', 'vocab_transform.bias', 'vocab_projector.bias', 'vocab_transform.weight']\n",
      "- This IS expected if you are initializing DistilBertModel from the checkpoint of a model trained on another task or with another architecture (e.g. initializing a BertForSequenceClassification model from a BertForPreTraining model).\n",
      "- This IS NOT expected if you are initializing DistilBertModel from the checkpoint of a model that you expect to be exactly identical (initializing a BertForSequenceClassification model from a BertForSequenceClassification model).\n"
     ]
    },
    {
     "name": "stdout",
     "output_type": "stream",
     "text": [
      "updating saved weights of best model\n",
      "Epoch: 00 | Epoch Time: 0m 47s\n",
      "\t Train Loss: 8.656 | Train Corr: 0.22\n",
      "\t Val. Loss: 4.411 |  Val. Corr: 0.36\n",
      "updating saved weights of best model\n",
      "Epoch: 01 | Epoch Time: 0m 47s\n",
      "\t Train Loss: 3.104 | Train Corr: 0.58\n",
      "\t Val. Loss: 4.239 |  Val. Corr: 0.49\n",
      "updating saved weights of best model\n",
      "Epoch: 02 | Epoch Time: 0m 47s\n",
      "\t Train Loss: 2.160 | Train Corr: 0.74\n",
      "\t Val. Loss: 3.174 |  Val. Corr: 0.56\n",
      "Epoch: 03 | Epoch Time: 0m 47s\n",
      "\t Train Loss: 1.493 | Train Corr: 0.83\n",
      "\t Val. Loss: 3.256 |  Val. Corr: 0.56\n",
      "training on fold 1\n"
     ]
    },
    {
     "name": "stderr",
     "output_type": "stream",
     "text": [
      "Some weights of the model checkpoint at distilbert-base-uncased were not used when initializing DistilBertModel: ['vocab_layer_norm.weight', 'vocab_layer_norm.bias', 'vocab_projector.weight', 'vocab_transform.bias', 'vocab_projector.bias', 'vocab_transform.weight']\n",
      "- This IS expected if you are initializing DistilBertModel from the checkpoint of a model trained on another task or with another architecture (e.g. initializing a BertForSequenceClassification model from a BertForPreTraining model).\n",
      "- This IS NOT expected if you are initializing DistilBertModel from the checkpoint of a model that you expect to be exactly identical (initializing a BertForSequenceClassification model from a BertForSequenceClassification model).\n"
     ]
    },
    {
     "name": "stdout",
     "output_type": "stream",
     "text": [
      "Epoch: 00 | Epoch Time: 0m 47s\n",
      "\t Train Loss: 9.797 | Train Corr: 0.20\n",
      "\t Val. Loss: 6.622 |  Val. Corr: 0.41\n",
      "Epoch: 01 | Epoch Time: 0m 48s\n",
      "\t Train Loss: 3.222 | Train Corr: 0.54\n",
      "\t Val. Loss: 6.233 |  Val. Corr: 0.60\n",
      "Epoch: 02 | Epoch Time: 0m 47s\n",
      "\t Train Loss: 2.521 | Train Corr: 0.67\n",
      "\t Val. Loss: 4.677 |  Val. Corr: 0.59\n",
      "Epoch: 03 | Epoch Time: 0m 47s\n",
      "\t Train Loss: 1.750 | Train Corr: 0.78\n",
      "\t Val. Loss: 4.512 |  Val. Corr: 0.66\n",
      "Epoch: 04 | Epoch Time: 0m 48s\n",
      "\t Train Loss: 1.025 | Train Corr: 0.88\n",
      "\t Val. Loss: 4.316 |  Val. Corr: 0.69\n",
      "updating saved weights of best model\n",
      "training on fold 2\n"
     ]
    },
    {
     "name": "stderr",
     "output_type": "stream",
     "text": [
      "Some weights of the model checkpoint at distilbert-base-uncased were not used when initializing DistilBertModel: ['vocab_layer_norm.weight', 'vocab_layer_norm.bias', 'vocab_projector.weight', 'vocab_transform.bias', 'vocab_projector.bias', 'vocab_transform.weight']\n",
      "- This IS expected if you are initializing DistilBertModel from the checkpoint of a model trained on another task or with another architecture (e.g. initializing a BertForSequenceClassification model from a BertForPreTraining model).\n",
      "- This IS NOT expected if you are initializing DistilBertModel from the checkpoint of a model that you expect to be exactly identical (initializing a BertForSequenceClassification model from a BertForSequenceClassification model).\n"
     ]
    },
    {
     "name": "stdout",
     "output_type": "stream",
     "text": [
      "Epoch: 00 | Epoch Time: 0m 47s\n",
      "\t Train Loss: 10.129 | Train Corr: 0.18\n",
      "\t Val. Loss: 4.922 |  Val. Corr: 0.42\n",
      "Epoch: 01 | Epoch Time: 0m 47s\n",
      "\t Train Loss: 2.986 | Train Corr: 0.61\n",
      "\t Val. Loss: 4.141 |  Val. Corr: 0.77\n",
      "updating saved weights of best model\n",
      "Epoch: 02 | Epoch Time: 0m 47s\n",
      "\t Train Loss: 2.267 | Train Corr: 0.73\n",
      "\t Val. Loss: 2.824 |  Val. Corr: 0.75\n",
      "updating saved weights of best model\n",
      "Epoch: 03 | Epoch Time: 0m 46s\n",
      "\t Train Loss: 1.437 | Train Corr: 0.84\n",
      "\t Val. Loss: 1.725 |  Val. Corr: 0.77\n",
      "Epoch: 04 | Epoch Time: 0m 47s\n",
      "\t Train Loss: 1.002 | Train Corr: 0.89\n",
      "\t Val. Loss: 1.789 |  Val. Corr: 0.78\n",
      "updating saved weights of best model\n",
      "Epoch: 05 | Epoch Time: 0m 48s\n",
      "\t Train Loss: 0.689 | Train Corr: 0.92\n",
      "\t Val. Loss: 1.613 |  Val. Corr: 0.80\n",
      "updating saved weights of best model\n",
      "Epoch: 06 | Epoch Time: 0m 46s\n",
      "\t Train Loss: 0.604 | Train Corr: 0.93\n",
      "\t Val. Loss: 1.500 |  Val. Corr: 0.80\n",
      "Epoch: 07 | Epoch Time: 0m 47s\n",
      "\t Train Loss: 0.488 | Train Corr: 0.95\n",
      "\t Val. Loss: 2.143 |  Val. Corr: 0.79\n",
      "training on fold 3\n"
     ]
    },
    {
     "name": "stderr",
     "output_type": "stream",
     "text": [
      "Some weights of the model checkpoint at distilbert-base-uncased were not used when initializing DistilBertModel: ['vocab_layer_norm.weight', 'vocab_layer_norm.bias', 'vocab_projector.weight', 'vocab_transform.bias', 'vocab_projector.bias', 'vocab_transform.weight']\n",
      "- This IS expected if you are initializing DistilBertModel from the checkpoint of a model trained on another task or with another architecture (e.g. initializing a BertForSequenceClassification model from a BertForPreTraining model).\n",
      "- This IS NOT expected if you are initializing DistilBertModel from the checkpoint of a model that you expect to be exactly identical (initializing a BertForSequenceClassification model from a BertForSequenceClassification model).\n"
     ]
    },
    {
     "name": "stdout",
     "output_type": "stream",
     "text": [
      "Epoch: 00 | Epoch Time: 0m 45s\n",
      "\t Train Loss: 9.599 | Train Corr: 0.13\n",
      "\t Val. Loss: 3.957 |  Val. Corr: 0.58\n",
      "Epoch: 01 | Epoch Time: 0m 45s\n",
      "\t Train Loss: 3.423 | Train Corr: 0.51\n",
      "\t Val. Loss: 6.089 |  Val. Corr: 0.62\n",
      "Epoch: 02 | Epoch Time: 0m 45s\n",
      "\t Train Loss: 2.693 | Train Corr: 0.65\n",
      "\t Val. Loss: 2.714 |  Val. Corr: 0.77\n",
      "Epoch: 03 | Epoch Time: 0m 45s\n",
      "\t Train Loss: 1.865 | Train Corr: 0.77\n",
      "\t Val. Loss: 2.262 |  Val. Corr: 0.77\n",
      "Epoch: 04 | Epoch Time: 0m 46s\n",
      "\t Train Loss: 1.258 | Train Corr: 0.85\n",
      "\t Val. Loss: 2.087 |  Val. Corr: 0.76\n",
      "Epoch: 05 | Epoch Time: 0m 46s\n",
      "\t Train Loss: 0.895 | Train Corr: 0.90\n",
      "\t Val. Loss: 2.096 |  Val. Corr: 0.77\n",
      "Epoch: 06 | Epoch Time: 0m 45s\n",
      "\t Train Loss: 0.659 | Train Corr: 0.93\n",
      "\t Val. Loss: 2.196 |  Val. Corr: 0.76\n",
      "Epoch: 07 | Epoch Time: 0m 47s\n",
      "\t Train Loss: 0.572 | Train Corr: 0.94\n",
      "\t Val. Loss: 2.330 |  Val. Corr: 0.75\n",
      "Epoch: 08 | Epoch Time: 0m 45s\n",
      "\t Train Loss: 0.630 | Train Corr: 0.93\n",
      "\t Val. Loss: 1.960 |  Val. Corr: 0.78\n",
      "Epoch: 09 | Epoch Time: 0m 46s\n",
      "\t Train Loss: 0.471 | Train Corr: 0.95\n",
      "\t Val. Loss: 2.007 |  Val. Corr: 0.77\n",
      "training on fold 4\n"
     ]
    },
    {
     "name": "stderr",
     "output_type": "stream",
     "text": [
      "Some weights of the model checkpoint at distilbert-base-uncased were not used when initializing DistilBertModel: ['vocab_layer_norm.weight', 'vocab_layer_norm.bias', 'vocab_projector.weight', 'vocab_transform.bias', 'vocab_projector.bias', 'vocab_transform.weight']\n",
      "- This IS expected if you are initializing DistilBertModel from the checkpoint of a model trained on another task or with another architecture (e.g. initializing a BertForSequenceClassification model from a BertForPreTraining model).\n",
      "- This IS NOT expected if you are initializing DistilBertModel from the checkpoint of a model that you expect to be exactly identical (initializing a BertForSequenceClassification model from a BertForSequenceClassification model).\n"
     ]
    },
    {
     "name": "stdout",
     "output_type": "stream",
     "text": [
      "Epoch: 00 | Epoch Time: 0m 44s\n",
      "\t Train Loss: 7.944 | Train Corr: 0.22\n",
      "\t Val. Loss: 4.363 |  Val. Corr: 0.35\n",
      "Epoch: 01 | Epoch Time: 0m 44s\n",
      "\t Train Loss: 3.065 | Train Corr: 0.58\n",
      "\t Val. Loss: 4.238 |  Val. Corr: 0.60\n",
      "Epoch: 02 | Epoch Time: 0m 44s\n",
      "\t Train Loss: 2.228 | Train Corr: 0.72\n",
      "\t Val. Loss: 3.405 |  Val. Corr: 0.53\n",
      "Epoch: 03 | Epoch Time: 0m 43s\n",
      "\t Train Loss: 1.565 | Train Corr: 0.81\n",
      "\t Val. Loss: 2.626 |  Val. Corr: 0.67\n",
      "Epoch: 04 | Epoch Time: 0m 43s\n",
      "\t Train Loss: 1.102 | Train Corr: 0.87\n",
      "\t Val. Loss: 2.588 |  Val. Corr: 0.67\n",
      "Epoch: 05 | Epoch Time: 0m 44s\n",
      "\t Train Loss: 0.842 | Train Corr: 0.90\n",
      "\t Val. Loss: 2.968 |  Val. Corr: 0.61\n",
      "Epoch: 06 | Epoch Time: 0m 42s\n",
      "\t Train Loss: 0.726 | Train Corr: 0.92\n",
      "\t Val. Loss: 3.142 |  Val. Corr: 0.65\n",
      "Epoch: 07 | Epoch Time: 0m 44s\n",
      "\t Train Loss: 0.525 | Train Corr: 0.94\n",
      "\t Val. Loss: 2.612 |  Val. Corr: 0.68\n",
      "eid 2, params {'batch_size': 8, 'dropout': 0.2, 'lr': 0.0001, 'max_epochs': 10}\n",
      "training on fold 0\n"
     ]
    },
    {
     "name": "stderr",
     "output_type": "stream",
     "text": [
      "Some weights of the model checkpoint at distilbert-base-uncased were not used when initializing DistilBertModel: ['vocab_layer_norm.weight', 'vocab_layer_norm.bias', 'vocab_projector.weight', 'vocab_transform.bias', 'vocab_projector.bias', 'vocab_transform.weight']\n",
      "- This IS expected if you are initializing DistilBertModel from the checkpoint of a model trained on another task or with another architecture (e.g. initializing a BertForSequenceClassification model from a BertForPreTraining model).\n",
      "- This IS NOT expected if you are initializing DistilBertModel from the checkpoint of a model that you expect to be exactly identical (initializing a BertForSequenceClassification model from a BertForSequenceClassification model).\n"
     ]
    },
    {
     "name": "stdout",
     "output_type": "stream",
     "text": [
      "updating saved weights of best model\n",
      "Epoch: 00 | Epoch Time: 0m 47s\n",
      "\t Train Loss: 6.749 | Train Corr: 0.28\n",
      "\t Val. Loss: 4.333 |  Val. Corr: 0.39\n",
      "Epoch: 01 | Epoch Time: 0m 47s\n",
      "\t Train Loss: 2.838 | Train Corr: 0.64\n",
      "\t Val. Loss: 4.805 |  Val. Corr: 0.57\n",
      "updating saved weights of best model\n",
      "Epoch: 02 | Epoch Time: 0m 47s\n",
      "\t Train Loss: 1.792 | Train Corr: 0.79\n",
      "\t Val. Loss: 3.385 |  Val. Corr: 0.57\n",
      "updating saved weights of best model\n",
      "training on fold 1\n"
     ]
    },
    {
     "name": "stderr",
     "output_type": "stream",
     "text": [
      "Some weights of the model checkpoint at distilbert-base-uncased were not used when initializing DistilBertModel: ['vocab_layer_norm.weight', 'vocab_layer_norm.bias', 'vocab_projector.weight', 'vocab_transform.bias', 'vocab_projector.bias', 'vocab_transform.weight']\n",
      "- This IS expected if you are initializing DistilBertModel from the checkpoint of a model trained on another task or with another architecture (e.g. initializing a BertForSequenceClassification model from a BertForPreTraining model).\n",
      "- This IS NOT expected if you are initializing DistilBertModel from the checkpoint of a model that you expect to be exactly identical (initializing a BertForSequenceClassification model from a BertForSequenceClassification model).\n"
     ]
    },
    {
     "name": "stdout",
     "output_type": "stream",
     "text": [
      "Epoch: 00 | Epoch Time: 0m 47s\n",
      "\t Train Loss: 7.472 | Train Corr: 0.23\n",
      "\t Val. Loss: 7.835 |  Val. Corr: 0.32\n",
      "Epoch: 01 | Epoch Time: 0m 48s\n",
      "\t Train Loss: 3.403 | Train Corr: 0.52\n",
      "\t Val. Loss: 6.256 |  Val. Corr: 0.61\n",
      "Epoch: 02 | Epoch Time: 0m 47s\n",
      "\t Train Loss: 2.305 | Train Corr: 0.70\n",
      "\t Val. Loss: 6.737 |  Val. Corr: 0.54\n",
      "Epoch: 03 | Epoch Time: 0m 47s\n",
      "\t Train Loss: 1.885 | Train Corr: 0.77\n",
      "\t Val. Loss: 5.129 |  Val. Corr: 0.63\n",
      "Epoch: 04 | Epoch Time: 0m 48s\n",
      "\t Train Loss: 1.162 | Train Corr: 0.86\n",
      "\t Val. Loss: 4.746 |  Val. Corr: 0.67\n",
      "updating saved weights of best model\n",
      "Epoch: 05 | Epoch Time: 0m 48s\n",
      "\t Train Loss: 0.927 | Train Corr: 0.89\n",
      "\t Val. Loss: 2.608 |  Val. Corr: 0.68\n",
      "Epoch: 06 | Epoch Time: 0m 48s\n",
      "\t Train Loss: 0.696 | Train Corr: 0.92\n",
      "\t Val. Loss: 3.952 |  Val. Corr: 0.66\n",
      "Epoch: 07 | Epoch Time: 0m 48s\n",
      "\t Train Loss: 0.585 | Train Corr: 0.93\n",
      "\t Val. Loss: 5.021 |  Val. Corr: 0.65\n",
      "training on fold 2\n"
     ]
    },
    {
     "name": "stderr",
     "output_type": "stream",
     "text": [
      "Some weights of the model checkpoint at distilbert-base-uncased were not used when initializing DistilBertModel: ['vocab_layer_norm.weight', 'vocab_layer_norm.bias', 'vocab_projector.weight', 'vocab_transform.bias', 'vocab_projector.bias', 'vocab_transform.weight']\n",
      "- This IS expected if you are initializing DistilBertModel from the checkpoint of a model trained on another task or with another architecture (e.g. initializing a BertForSequenceClassification model from a BertForPreTraining model).\n",
      "- This IS NOT expected if you are initializing DistilBertModel from the checkpoint of a model that you expect to be exactly identical (initializing a BertForSequenceClassification model from a BertForSequenceClassification model).\n"
     ]
    },
    {
     "name": "stdout",
     "output_type": "stream",
     "text": [
      "Epoch: 00 | Epoch Time: 0m 47s\n",
      "\t Train Loss: 7.371 | Train Corr: 0.24\n",
      "\t Val. Loss: 4.631 |  Val. Corr: 0.36\n",
      "Epoch: 01 | Epoch Time: 0m 47s\n",
      "\t Train Loss: 3.411 | Train Corr: 0.54\n",
      "\t Val. Loss: 4.258 |  Val. Corr: 0.73\n",
      "updating saved weights of best model\n",
      "Epoch: 02 | Epoch Time: 0m 47s\n",
      "\t Train Loss: 2.694 | Train Corr: 0.66\n",
      "\t Val. Loss: 2.460 |  Val. Corr: 0.70\n",
      "updating saved weights of best model\n",
      "Epoch: 03 | Epoch Time: 0m 46s\n",
      "\t Train Loss: 1.984 | Train Corr: 0.77\n",
      "\t Val. Loss: 2.407 |  Val. Corr: 0.71\n",
      "updating saved weights of best model\n",
      "Epoch: 04 | Epoch Time: 0m 47s\n",
      "\t Train Loss: 1.186 | Train Corr: 0.87\n",
      "\t Val. Loss: 2.397 |  Val. Corr: 0.77\n",
      "Epoch: 05 | Epoch Time: 0m 48s\n",
      "\t Train Loss: 0.944 | Train Corr: 0.90\n",
      "\t Val. Loss: 2.443 |  Val. Corr: 0.72\n",
      "Epoch: 06 | Epoch Time: 0m 46s\n",
      "\t Train Loss: 0.639 | Train Corr: 0.93\n",
      "\t Val. Loss: 2.436 |  Val. Corr: 0.77\n",
      "updating saved weights of best model\n",
      "Epoch: 07 | Epoch Time: 0m 47s\n",
      "\t Train Loss: 0.512 | Train Corr: 0.95\n",
      "\t Val. Loss: 1.966 |  Val. Corr: 0.77\n",
      "training on fold 3\n"
     ]
    },
    {
     "name": "stderr",
     "output_type": "stream",
     "text": [
      "Some weights of the model checkpoint at distilbert-base-uncased were not used when initializing DistilBertModel: ['vocab_layer_norm.weight', 'vocab_layer_norm.bias', 'vocab_projector.weight', 'vocab_transform.bias', 'vocab_projector.bias', 'vocab_transform.weight']\n",
      "- This IS expected if you are initializing DistilBertModel from the checkpoint of a model trained on another task or with another architecture (e.g. initializing a BertForSequenceClassification model from a BertForPreTraining model).\n",
      "- This IS NOT expected if you are initializing DistilBertModel from the checkpoint of a model that you expect to be exactly identical (initializing a BertForSequenceClassification model from a BertForSequenceClassification model).\n"
     ]
    },
    {
     "name": "stdout",
     "output_type": "stream",
     "text": [
      "Epoch: 00 | Epoch Time: 0m 45s\n",
      "\t Train Loss: 8.091 | Train Corr: 0.20\n",
      "\t Val. Loss: 4.655 |  Val. Corr: 0.46\n",
      "Epoch: 01 | Epoch Time: 0m 45s\n",
      "\t Train Loss: 3.149 | Train Corr: 0.56\n",
      "\t Val. Loss: 4.086 |  Val. Corr: 0.70\n",
      "Epoch: 02 | Epoch Time: 0m 45s\n",
      "\t Train Loss: 2.437 | Train Corr: 0.69\n",
      "\t Val. Loss: 2.761 |  Val. Corr: 0.73\n",
      "Epoch: 03 | Epoch Time: 0m 45s\n",
      "\t Train Loss: 1.685 | Train Corr: 0.80\n",
      "\t Val. Loss: 2.364 |  Val. Corr: 0.75\n",
      "Epoch: 04 | Epoch Time: 0m 46s\n",
      "\t Train Loss: 1.246 | Train Corr: 0.85\n",
      "\t Val. Loss: 2.115 |  Val. Corr: 0.76\n",
      "Epoch: 05 | Epoch Time: 0m 46s\n",
      "\t Train Loss: 0.864 | Train Corr: 0.90\n",
      "\t Val. Loss: 2.323 |  Val. Corr: 0.76\n",
      "Epoch: 06 | Epoch Time: 0m 45s\n",
      "\t Train Loss: 0.695 | Train Corr: 0.92\n",
      "\t Val. Loss: 2.288 |  Val. Corr: 0.74\n",
      "training on fold 4\n"
     ]
    },
    {
     "name": "stderr",
     "output_type": "stream",
     "text": [
      "Some weights of the model checkpoint at distilbert-base-uncased were not used when initializing DistilBertModel: ['vocab_layer_norm.weight', 'vocab_layer_norm.bias', 'vocab_projector.weight', 'vocab_transform.bias', 'vocab_projector.bias', 'vocab_transform.weight']\n",
      "- This IS expected if you are initializing DistilBertModel from the checkpoint of a model trained on another task or with another architecture (e.g. initializing a BertForSequenceClassification model from a BertForPreTraining model).\n",
      "- This IS NOT expected if you are initializing DistilBertModel from the checkpoint of a model that you expect to be exactly identical (initializing a BertForSequenceClassification model from a BertForSequenceClassification model).\n"
     ]
    },
    {
     "name": "stdout",
     "output_type": "stream",
     "text": [
      "Epoch: 00 | Epoch Time: 0m 43s\n",
      "\t Train Loss: 7.029 | Train Corr: 0.24\n",
      "\t Val. Loss: 4.627 |  Val. Corr: 0.40\n",
      "Epoch: 01 | Epoch Time: 0m 44s\n",
      "\t Train Loss: 3.538 | Train Corr: 0.50\n",
      "\t Val. Loss: 5.197 |  Val. Corr: 0.45\n",
      "Epoch: 02 | Epoch Time: 0m 44s\n",
      "\t Train Loss: 2.793 | Train Corr: 0.63\n",
      "\t Val. Loss: 3.898 |  Val. Corr: 0.55\n",
      "Epoch: 03 | Epoch Time: 0m 43s\n",
      "\t Train Loss: 1.780 | Train Corr: 0.78\n",
      "\t Val. Loss: 3.009 |  Val. Corr: 0.62\n",
      "Epoch: 04 | Epoch Time: 0m 43s\n",
      "\t Train Loss: 1.293 | Train Corr: 0.85\n",
      "\t Val. Loss: 3.686 |  Val. Corr: 0.65\n",
      "('batch_size_8; dropout_0.2; lr_3e-05; max_epochs_10', 0.7249703158036596)\n"
     ]
    },
    {
     "data": {
      "text/plain": [
       "'commented out portion below which ran a single experiment'"
      ]
     },
     "execution_count": 4,
     "metadata": {},
     "output_type": "execute_result"
    }
   ],
   "source": [
    "device = torch.device('cuda' if torch.cuda.is_available() else 'cpu')\n",
    "\n",
    "param_grid = {\n",
    "    'dropout': [0.2],\n",
    "    'batch_size': [8],\n",
    "    'max_epochs': [10],\n",
    "    'lr': [3e-05, 5e-05, 1e-04],\n",
    "}\n",
    "\n",
    "results, best_model = training.perform_hyperparameter_search(param_grid, train_exs_arr, save_weights=True)\n",
    "print(best_model)\n",
    "\n",
    "'''commented out portion below which ran a single experiment'''\n",
    "# params = {\n",
    "#     'dropout': 0.2,\n",
    "#     'batch_size': 8,\n",
    "#     'max_epochs': 10,\n",
    "#     'lr': 5e-05\n",
    "# }\n",
    "\n",
    "#valid_corrs = training.launch_experiment(1, train_exs_arr, params, save_weights=True)\n",
    "#print('validation correlations: {}'.format(valid_corrs))"
   ]
  },
  {
   "cell_type": "markdown",
   "metadata": {
    "id": "NIXP6rB_FY8K"
   },
   "source": [
    "# Test the trained model on held-out dataset."
   ]
  },
  {
   "cell_type": "code",
   "execution_count": 6,
   "metadata": {
    "id": "-1w-zVceFsx3"
   },
   "outputs": [],
   "source": [
    "# Get a test iterator\n",
    "test_iterator = training.get_iterator(test_dataset, 8, device)"
   ]
  },
  {
   "cell_type": "code",
   "execution_count": 8,
   "metadata": {
    "colab": {
     "base_uri": "https://localhost:8080/"
    },
    "executionInfo": {
     "elapsed": 18,
     "status": "ok",
     "timestamp": 1621580211381,
     "user": {
      "displayName": "Xubo Cao",
      "photoUrl": "",
      "userId": "10438589586656072815"
     },
     "user_tz": 420
    },
    "id": "XgAhdm2rTGrP",
    "outputId": "4e305da0-ec5d-4406-9fb9-7f634df6c507"
   },
   "outputs": [
    {
     "name": "stderr",
     "output_type": "stream",
     "text": [
      "Some weights of the model checkpoint at distilbert-base-uncased were not used when initializing DistilBertModel: ['vocab_layer_norm.weight', 'vocab_layer_norm.bias', 'vocab_projector.weight', 'vocab_transform.bias', 'vocab_projector.bias', 'vocab_transform.weight']\n",
      "- This IS expected if you are initializing DistilBertModel from the checkpoint of a model trained on another task or with another architecture (e.g. initializing a BertForSequenceClassification model from a BertForPreTraining model).\n",
      "- This IS NOT expected if you are initializing DistilBertModel from the checkpoint of a model that you expect to be exactly identical (initializing a BertForSequenceClassification model from a BertForSequenceClassification model).\n"
     ]
    },
    {
     "name": "stdout",
     "output_type": "stream",
     "text": [
      "2.5071848928928375\n",
      "0.6903010024542606\n"
     ]
    }
   ],
   "source": [
    "# load the best model saved\n",
    "bert = DistilBertModel.from_pretrained(constants.WEIGHTS_NAME)\n",
    "model = models.BERTLinear(bert, constants.OUTPUT_DIM, 0.2)\n",
    "model.load_state_dict(torch.load(\"1_best_valid_loss.pt\"))\n",
    "model.to(device)\n",
    "model.eval()\n",
    "# If you change the criterion, make sure it matches with the training criterion in training.py\n",
    "criterion = nn.MSELoss(size_average=False)\n",
    "criterion = criterion.to(device)\n",
    "test_loss, test_corr = training.evaluate(model, test_iterator, criterion)\n",
    "print(test_loss)\n",
    "print(test_corr)"
   ]
  },
  {
   "cell_type": "markdown",
   "metadata": {
    "id": "l5g0MO_uYqn7"
   },
   "source": [
    "# Misc other stuff"
   ]
  },
  {
   "cell_type": "markdown",
   "metadata": {
    "id": "IebHhmzl_anV"
   },
   "source": [
    "Link to the trainer class: https://huggingface.co/transformers/main_classes/trainer.html\n",
    "\n",
    "\n",
    "\n",
    "Default training arguments: https://huggingface.co/transformers/main_classes/trainer.html#transformers.TrainingArguments\n",
    "\n",
    "Batch size per device: 8\n",
    "\n",
    "Epoch: 3\n",
    "\n",
    "\n",
    "\n",
    "This should be the model I used to generate my initial results: https://huggingface.co/transformers/model_doc/distilbert.html#distilbertforsequenceclassification\n",
    "\"DistilBert Model transformer with a sequence classification/regression head on top (a linear layer on top of the pooled output) e.g. for GLUE tasks.\""
   ]
  }
 ],
 "metadata": {
  "accelerator": "GPU",
  "colab": {
   "collapsed_sections": [],
   "machine_shape": "hm",
   "name": "Regression_pipeline.ipynb",
   "provenance": [
    {
     "file_id": "1TbT1oPbbeEW7w-1XoUmceB67Z6hgJv9L",
     "timestamp": 1621569604758
    }
   ]
  },
  "kernelspec": {
   "display_name": "Python 3",
   "language": "python",
   "name": "python3"
  },
  "language_info": {
   "codemirror_mode": {
    "name": "ipython",
    "version": 3
   },
   "file_extension": ".py",
   "mimetype": "text/x-python",
   "name": "python",
   "nbconvert_exporter": "python",
   "pygments_lexer": "ipython3",
   "version": "3.8.1"
  },
  "widgets": {
   "application/vnd.jupyter.widget-state+json": {
    "082ca58e4f2f42d7af0230ed3b5c40e4": {
     "model_module": "@jupyter-widgets/base",
     "model_name": "LayoutModel",
     "state": {
      "_model_module": "@jupyter-widgets/base",
      "_model_module_version": "1.2.0",
      "_model_name": "LayoutModel",
      "_view_count": null,
      "_view_module": "@jupyter-widgets/base",
      "_view_module_version": "1.2.0",
      "_view_name": "LayoutView",
      "align_content": null,
      "align_items": null,
      "align_self": null,
      "border": null,
      "bottom": null,
      "display": null,
      "flex": null,
      "flex_flow": null,
      "grid_area": null,
      "grid_auto_columns": null,
      "grid_auto_flow": null,
      "grid_auto_rows": null,
      "grid_column": null,
      "grid_gap": null,
      "grid_row": null,
      "grid_template_areas": null,
      "grid_template_columns": null,
      "grid_template_rows": null,
      "height": null,
      "justify_content": null,
      "justify_items": null,
      "left": null,
      "margin": null,
      "max_height": null,
      "max_width": null,
      "min_height": null,
      "min_width": null,
      "object_fit": null,
      "object_position": null,
      "order": null,
      "overflow": null,
      "overflow_x": null,
      "overflow_y": null,
      "padding": null,
      "right": null,
      "top": null,
      "visibility": null,
      "width": null
     }
    },
    "0feedfdfac074b0fb7a7950a8a65fe6e": {
     "model_module": "@jupyter-widgets/controls",
     "model_name": "HTMLModel",
     "state": {
      "_dom_classes": [],
      "_model_module": "@jupyter-widgets/controls",
      "_model_module_version": "1.5.0",
      "_model_name": "HTMLModel",
      "_view_count": null,
      "_view_module": "@jupyter-widgets/controls",
      "_view_module_version": "1.5.0",
      "_view_name": "HTMLView",
      "description": "",
      "description_tooltip": null,
      "layout": "IPY_MODEL_64b90e94382b477cad9365457ce1476f",
      "placeholder": "​",
      "style": "IPY_MODEL_b7ce597d0d0741f5aca0711118f7c9f0",
      "value": " 442/442 [00:00&lt;00:00, 1.22kB/s]"
     }
    },
    "1397386380fe4080ad53a54958c2fbe6": {
     "model_module": "@jupyter-widgets/base",
     "model_name": "LayoutModel",
     "state": {
      "_model_module": "@jupyter-widgets/base",
      "_model_module_version": "1.2.0",
      "_model_name": "LayoutModel",
      "_view_count": null,
      "_view_module": "@jupyter-widgets/base",
      "_view_module_version": "1.2.0",
      "_view_name": "LayoutView",
      "align_content": null,
      "align_items": null,
      "align_self": null,
      "border": null,
      "bottom": null,
      "display": null,
      "flex": null,
      "flex_flow": null,
      "grid_area": null,
      "grid_auto_columns": null,
      "grid_auto_flow": null,
      "grid_auto_rows": null,
      "grid_column": null,
      "grid_gap": null,
      "grid_row": null,
      "grid_template_areas": null,
      "grid_template_columns": null,
      "grid_template_rows": null,
      "height": null,
      "justify_content": null,
      "justify_items": null,
      "left": null,
      "margin": null,
      "max_height": null,
      "max_width": null,
      "min_height": null,
      "min_width": null,
      "object_fit": null,
      "object_position": null,
      "order": null,
      "overflow": null,
      "overflow_x": null,
      "overflow_y": null,
      "padding": null,
      "right": null,
      "top": null,
      "visibility": null,
      "width": null
     }
    },
    "15f6d4fd47d0447597adc90e439d2483": {
     "model_module": "@jupyter-widgets/controls",
     "model_name": "DescriptionStyleModel",
     "state": {
      "_model_module": "@jupyter-widgets/controls",
      "_model_module_version": "1.5.0",
      "_model_name": "DescriptionStyleModel",
      "_view_count": null,
      "_view_module": "@jupyter-widgets/base",
      "_view_module_version": "1.2.0",
      "_view_name": "StyleView",
      "description_width": ""
     }
    },
    "2200957fd62b45999a0bf09d10aafd09": {
     "model_module": "@jupyter-widgets/controls",
     "model_name": "HBoxModel",
     "state": {
      "_dom_classes": [],
      "_model_module": "@jupyter-widgets/controls",
      "_model_module_version": "1.5.0",
      "_model_name": "HBoxModel",
      "_view_count": null,
      "_view_module": "@jupyter-widgets/controls",
      "_view_module_version": "1.5.0",
      "_view_name": "HBoxView",
      "box_style": "",
      "children": [
       "IPY_MODEL_ca00d8df97514714ba60deb51512397f",
       "IPY_MODEL_be5d412ffb7b439f977f29c84fef6974"
      ],
      "layout": "IPY_MODEL_2fd29741371347b29d3ab79702293f89"
     }
    },
    "2f9ea867a0594f9f98d88b79106f03a5": {
     "model_module": "@jupyter-widgets/controls",
     "model_name": "HTMLModel",
     "state": {
      "_dom_classes": [],
      "_model_module": "@jupyter-widgets/controls",
      "_model_module_version": "1.5.0",
      "_model_name": "HTMLModel",
      "_view_count": null,
      "_view_module": "@jupyter-widgets/controls",
      "_view_module_version": "1.5.0",
      "_view_name": "HTMLView",
      "description": "",
      "description_tooltip": null,
      "layout": "IPY_MODEL_382c65ed728d4b2ca46a7b83468c6d73",
      "placeholder": "​",
      "style": "IPY_MODEL_f0b8894c06e5406098b1b70403041316",
      "value": " 268M/268M [00:08&lt;00:00, 31.6MB/s]"
     }
    },
    "2fd29741371347b29d3ab79702293f89": {
     "model_module": "@jupyter-widgets/base",
     "model_name": "LayoutModel",
     "state": {
      "_model_module": "@jupyter-widgets/base",
      "_model_module_version": "1.2.0",
      "_model_name": "LayoutModel",
      "_view_count": null,
      "_view_module": "@jupyter-widgets/base",
      "_view_module_version": "1.2.0",
      "_view_name": "LayoutView",
      "align_content": null,
      "align_items": null,
      "align_self": null,
      "border": null,
      "bottom": null,
      "display": null,
      "flex": null,
      "flex_flow": null,
      "grid_area": null,
      "grid_auto_columns": null,
      "grid_auto_flow": null,
      "grid_auto_rows": null,
      "grid_column": null,
      "grid_gap": null,
      "grid_row": null,
      "grid_template_areas": null,
      "grid_template_columns": null,
      "grid_template_rows": null,
      "height": null,
      "justify_content": null,
      "justify_items": null,
      "left": null,
      "margin": null,
      "max_height": null,
      "max_width": null,
      "min_height": null,
      "min_width": null,
      "object_fit": null,
      "object_position": null,
      "order": null,
      "overflow": null,
      "overflow_x": null,
      "overflow_y": null,
      "padding": null,
      "right": null,
      "top": null,
      "visibility": null,
      "width": null
     }
    },
    "35389ca9c4134cd2bd3db516a30f805b": {
     "model_module": "@jupyter-widgets/controls",
     "model_name": "ProgressStyleModel",
     "state": {
      "_model_module": "@jupyter-widgets/controls",
      "_model_module_version": "1.5.0",
      "_model_name": "ProgressStyleModel",
      "_view_count": null,
      "_view_module": "@jupyter-widgets/base",
      "_view_module_version": "1.2.0",
      "_view_name": "StyleView",
      "bar_color": null,
      "description_width": "initial"
     }
    },
    "3548e016675142abb7dc0200635130b8": {
     "model_module": "@jupyter-widgets/controls",
     "model_name": "ProgressStyleModel",
     "state": {
      "_model_module": "@jupyter-widgets/controls",
      "_model_module_version": "1.5.0",
      "_model_name": "ProgressStyleModel",
      "_view_count": null,
      "_view_module": "@jupyter-widgets/base",
      "_view_module_version": "1.2.0",
      "_view_name": "StyleView",
      "bar_color": null,
      "description_width": "initial"
     }
    },
    "382c65ed728d4b2ca46a7b83468c6d73": {
     "model_module": "@jupyter-widgets/base",
     "model_name": "LayoutModel",
     "state": {
      "_model_module": "@jupyter-widgets/base",
      "_model_module_version": "1.2.0",
      "_model_name": "LayoutModel",
      "_view_count": null,
      "_view_module": "@jupyter-widgets/base",
      "_view_module_version": "1.2.0",
      "_view_name": "LayoutView",
      "align_content": null,
      "align_items": null,
      "align_self": null,
      "border": null,
      "bottom": null,
      "display": null,
      "flex": null,
      "flex_flow": null,
      "grid_area": null,
      "grid_auto_columns": null,
      "grid_auto_flow": null,
      "grid_auto_rows": null,
      "grid_column": null,
      "grid_gap": null,
      "grid_row": null,
      "grid_template_areas": null,
      "grid_template_columns": null,
      "grid_template_rows": null,
      "height": null,
      "justify_content": null,
      "justify_items": null,
      "left": null,
      "margin": null,
      "max_height": null,
      "max_width": null,
      "min_height": null,
      "min_width": null,
      "object_fit": null,
      "object_position": null,
      "order": null,
      "overflow": null,
      "overflow_x": null,
      "overflow_y": null,
      "padding": null,
      "right": null,
      "top": null,
      "visibility": null,
      "width": null
     }
    },
    "5290ba323ad94ad3b3a02d291fed4cb0": {
     "model_module": "@jupyter-widgets/base",
     "model_name": "LayoutModel",
     "state": {
      "_model_module": "@jupyter-widgets/base",
      "_model_module_version": "1.2.0",
      "_model_name": "LayoutModel",
      "_view_count": null,
      "_view_module": "@jupyter-widgets/base",
      "_view_module_version": "1.2.0",
      "_view_name": "LayoutView",
      "align_content": null,
      "align_items": null,
      "align_self": null,
      "border": null,
      "bottom": null,
      "display": null,
      "flex": null,
      "flex_flow": null,
      "grid_area": null,
      "grid_auto_columns": null,
      "grid_auto_flow": null,
      "grid_auto_rows": null,
      "grid_column": null,
      "grid_gap": null,
      "grid_row": null,
      "grid_template_areas": null,
      "grid_template_columns": null,
      "grid_template_rows": null,
      "height": null,
      "justify_content": null,
      "justify_items": null,
      "left": null,
      "margin": null,
      "max_height": null,
      "max_width": null,
      "min_height": null,
      "min_width": null,
      "object_fit": null,
      "object_position": null,
      "order": null,
      "overflow": null,
      "overflow_x": null,
      "overflow_y": null,
      "padding": null,
      "right": null,
      "top": null,
      "visibility": null,
      "width": null
     }
    },
    "57d1101e366c43e488111e81e56639f8": {
     "model_module": "@jupyter-widgets/controls",
     "model_name": "HBoxModel",
     "state": {
      "_dom_classes": [],
      "_model_module": "@jupyter-widgets/controls",
      "_model_module_version": "1.5.0",
      "_model_name": "HBoxModel",
      "_view_count": null,
      "_view_module": "@jupyter-widgets/controls",
      "_view_module_version": "1.5.0",
      "_view_name": "HBoxView",
      "box_style": "",
      "children": [
       "IPY_MODEL_d0a6d051ee204c33a851ed98dc6cbf33",
       "IPY_MODEL_746f4e383e0047b28e64d9d93fffe0aa"
      ],
      "layout": "IPY_MODEL_c60890f71d0241f698caf3304e727668"
     }
    },
    "5d4d62208b0e45b5a063e2d85ab07ce1": {
     "model_module": "@jupyter-widgets/controls",
     "model_name": "ProgressStyleModel",
     "state": {
      "_model_module": "@jupyter-widgets/controls",
      "_model_module_version": "1.5.0",
      "_model_name": "ProgressStyleModel",
      "_view_count": null,
      "_view_module": "@jupyter-widgets/base",
      "_view_module_version": "1.2.0",
      "_view_name": "StyleView",
      "bar_color": null,
      "description_width": "initial"
     }
    },
    "5f785c79f13a48099bbb1477df8aa16d": {
     "model_module": "@jupyter-widgets/controls",
     "model_name": "FloatProgressModel",
     "state": {
      "_dom_classes": [],
      "_model_module": "@jupyter-widgets/controls",
      "_model_module_version": "1.5.0",
      "_model_name": "FloatProgressModel",
      "_view_count": null,
      "_view_module": "@jupyter-widgets/controls",
      "_view_module_version": "1.5.0",
      "_view_name": "ProgressView",
      "bar_style": "success",
      "description": "Downloading: 100%",
      "description_tooltip": null,
      "layout": "IPY_MODEL_082ca58e4f2f42d7af0230ed3b5c40e4",
      "max": 442,
      "min": 0,
      "orientation": "horizontal",
      "style": "IPY_MODEL_35389ca9c4134cd2bd3db516a30f805b",
      "value": 442
     }
    },
    "64b90e94382b477cad9365457ce1476f": {
     "model_module": "@jupyter-widgets/base",
     "model_name": "LayoutModel",
     "state": {
      "_model_module": "@jupyter-widgets/base",
      "_model_module_version": "1.2.0",
      "_model_name": "LayoutModel",
      "_view_count": null,
      "_view_module": "@jupyter-widgets/base",
      "_view_module_version": "1.2.0",
      "_view_name": "LayoutView",
      "align_content": null,
      "align_items": null,
      "align_self": null,
      "border": null,
      "bottom": null,
      "display": null,
      "flex": null,
      "flex_flow": null,
      "grid_area": null,
      "grid_auto_columns": null,
      "grid_auto_flow": null,
      "grid_auto_rows": null,
      "grid_column": null,
      "grid_gap": null,
      "grid_row": null,
      "grid_template_areas": null,
      "grid_template_columns": null,
      "grid_template_rows": null,
      "height": null,
      "justify_content": null,
      "justify_items": null,
      "left": null,
      "margin": null,
      "max_height": null,
      "max_width": null,
      "min_height": null,
      "min_width": null,
      "object_fit": null,
      "object_position": null,
      "order": null,
      "overflow": null,
      "overflow_x": null,
      "overflow_y": null,
      "padding": null,
      "right": null,
      "top": null,
      "visibility": null,
      "width": null
     }
    },
    "6e67df8d4c044ab0b4e11d19b7183d30": {
     "model_module": "@jupyter-widgets/controls",
     "model_name": "HBoxModel",
     "state": {
      "_dom_classes": [],
      "_model_module": "@jupyter-widgets/controls",
      "_model_module_version": "1.5.0",
      "_model_name": "HBoxModel",
      "_view_count": null,
      "_view_module": "@jupyter-widgets/controls",
      "_view_module_version": "1.5.0",
      "_view_name": "HBoxView",
      "box_style": "",
      "children": [
       "IPY_MODEL_8d6916f93ffc41cca2bf8be42251ab5f",
       "IPY_MODEL_2f9ea867a0594f9f98d88b79106f03a5"
      ],
      "layout": "IPY_MODEL_d2eca679c7ac4bb7acb8a8950a83cbff"
     }
    },
    "746f4e383e0047b28e64d9d93fffe0aa": {
     "model_module": "@jupyter-widgets/controls",
     "model_name": "HTMLModel",
     "state": {
      "_dom_classes": [],
      "_model_module": "@jupyter-widgets/controls",
      "_model_module_version": "1.5.0",
      "_model_name": "HTMLModel",
      "_view_count": null,
      "_view_module": "@jupyter-widgets/controls",
      "_view_module_version": "1.5.0",
      "_view_name": "HTMLView",
      "description": "",
      "description_tooltip": null,
      "layout": "IPY_MODEL_d7dbec6e19ec470c9f7289056fc4bfb1",
      "placeholder": "​",
      "style": "IPY_MODEL_15f6d4fd47d0447597adc90e439d2483",
      "value": " 466k/466k [00:00&lt;00:00, 1.05MB/s]"
     }
    },
    "7927b9590f3b435da0347bce52ce60dc": {
     "model_module": "@jupyter-widgets/base",
     "model_name": "LayoutModel",
     "state": {
      "_model_module": "@jupyter-widgets/base",
      "_model_module_version": "1.2.0",
      "_model_name": "LayoutModel",
      "_view_count": null,
      "_view_module": "@jupyter-widgets/base",
      "_view_module_version": "1.2.0",
      "_view_name": "LayoutView",
      "align_content": null,
      "align_items": null,
      "align_self": null,
      "border": null,
      "bottom": null,
      "display": null,
      "flex": null,
      "flex_flow": null,
      "grid_area": null,
      "grid_auto_columns": null,
      "grid_auto_flow": null,
      "grid_auto_rows": null,
      "grid_column": null,
      "grid_gap": null,
      "grid_row": null,
      "grid_template_areas": null,
      "grid_template_columns": null,
      "grid_template_rows": null,
      "height": null,
      "justify_content": null,
      "justify_items": null,
      "left": null,
      "margin": null,
      "max_height": null,
      "max_width": null,
      "min_height": null,
      "min_width": null,
      "object_fit": null,
      "object_position": null,
      "order": null,
      "overflow": null,
      "overflow_x": null,
      "overflow_y": null,
      "padding": null,
      "right": null,
      "top": null,
      "visibility": null,
      "width": null
     }
    },
    "7f14314f8e9947a4bc9f83737f137386": {
     "model_module": "@jupyter-widgets/controls",
     "model_name": "HTMLModel",
     "state": {
      "_dom_classes": [],
      "_model_module": "@jupyter-widgets/controls",
      "_model_module_version": "1.5.0",
      "_model_name": "HTMLModel",
      "_view_count": null,
      "_view_module": "@jupyter-widgets/controls",
      "_view_module_version": "1.5.0",
      "_view_name": "HTMLView",
      "description": "",
      "description_tooltip": null,
      "layout": "IPY_MODEL_5290ba323ad94ad3b3a02d291fed4cb0",
      "placeholder": "​",
      "style": "IPY_MODEL_9254fe5fc823456bb534029578e4afb1",
      "value": " 232k/232k [00:02&lt;00:00, 94.9kB/s]"
     }
    },
    "8774db4d488540d5a640356bceefdb04": {
     "model_module": "@jupyter-widgets/base",
     "model_name": "LayoutModel",
     "state": {
      "_model_module": "@jupyter-widgets/base",
      "_model_module_version": "1.2.0",
      "_model_name": "LayoutModel",
      "_view_count": null,
      "_view_module": "@jupyter-widgets/base",
      "_view_module_version": "1.2.0",
      "_view_name": "LayoutView",
      "align_content": null,
      "align_items": null,
      "align_self": null,
      "border": null,
      "bottom": null,
      "display": null,
      "flex": null,
      "flex_flow": null,
      "grid_area": null,
      "grid_auto_columns": null,
      "grid_auto_flow": null,
      "grid_auto_rows": null,
      "grid_column": null,
      "grid_gap": null,
      "grid_row": null,
      "grid_template_areas": null,
      "grid_template_columns": null,
      "grid_template_rows": null,
      "height": null,
      "justify_content": null,
      "justify_items": null,
      "left": null,
      "margin": null,
      "max_height": null,
      "max_width": null,
      "min_height": null,
      "min_width": null,
      "object_fit": null,
      "object_position": null,
      "order": null,
      "overflow": null,
      "overflow_x": null,
      "overflow_y": null,
      "padding": null,
      "right": null,
      "top": null,
      "visibility": null,
      "width": null
     }
    },
    "8d474015aada485883408a7c89d6d190": {
     "model_module": "@jupyter-widgets/controls",
     "model_name": "DescriptionStyleModel",
     "state": {
      "_model_module": "@jupyter-widgets/controls",
      "_model_module_version": "1.5.0",
      "_model_name": "DescriptionStyleModel",
      "_view_count": null,
      "_view_module": "@jupyter-widgets/base",
      "_view_module_version": "1.2.0",
      "_view_name": "StyleView",
      "description_width": ""
     }
    },
    "8d6916f93ffc41cca2bf8be42251ab5f": {
     "model_module": "@jupyter-widgets/controls",
     "model_name": "FloatProgressModel",
     "state": {
      "_dom_classes": [],
      "_model_module": "@jupyter-widgets/controls",
      "_model_module_version": "1.5.0",
      "_model_name": "FloatProgressModel",
      "_view_count": null,
      "_view_module": "@jupyter-widgets/controls",
      "_view_module_version": "1.5.0",
      "_view_name": "ProgressView",
      "bar_style": "success",
      "description": "Downloading: 100%",
      "description_tooltip": null,
      "layout": "IPY_MODEL_8774db4d488540d5a640356bceefdb04",
      "max": 267967963,
      "min": 0,
      "orientation": "horizontal",
      "style": "IPY_MODEL_3548e016675142abb7dc0200635130b8",
      "value": 267967963
     }
    },
    "9254fe5fc823456bb534029578e4afb1": {
     "model_module": "@jupyter-widgets/controls",
     "model_name": "DescriptionStyleModel",
     "state": {
      "_model_module": "@jupyter-widgets/controls",
      "_model_module_version": "1.5.0",
      "_model_name": "DescriptionStyleModel",
      "_view_count": null,
      "_view_module": "@jupyter-widgets/base",
      "_view_module_version": "1.2.0",
      "_view_name": "StyleView",
      "description_width": ""
     }
    },
    "a52fa27484f34ebdb0abc12c73bf07df": {
     "model_module": "@jupyter-widgets/base",
     "model_name": "LayoutModel",
     "state": {
      "_model_module": "@jupyter-widgets/base",
      "_model_module_version": "1.2.0",
      "_model_name": "LayoutModel",
      "_view_count": null,
      "_view_module": "@jupyter-widgets/base",
      "_view_module_version": "1.2.0",
      "_view_name": "LayoutView",
      "align_content": null,
      "align_items": null,
      "align_self": null,
      "border": null,
      "bottom": null,
      "display": null,
      "flex": null,
      "flex_flow": null,
      "grid_area": null,
      "grid_auto_columns": null,
      "grid_auto_flow": null,
      "grid_auto_rows": null,
      "grid_column": null,
      "grid_gap": null,
      "grid_row": null,
      "grid_template_areas": null,
      "grid_template_columns": null,
      "grid_template_rows": null,
      "height": null,
      "justify_content": null,
      "justify_items": null,
      "left": null,
      "margin": null,
      "max_height": null,
      "max_width": null,
      "min_height": null,
      "min_width": null,
      "object_fit": null,
      "object_position": null,
      "order": null,
      "overflow": null,
      "overflow_x": null,
      "overflow_y": null,
      "padding": null,
      "right": null,
      "top": null,
      "visibility": null,
      "width": null
     }
    },
    "acd20cabcaca47898ce9e056f81dab57": {
     "model_module": "@jupyter-widgets/base",
     "model_name": "LayoutModel",
     "state": {
      "_model_module": "@jupyter-widgets/base",
      "_model_module_version": "1.2.0",
      "_model_name": "LayoutModel",
      "_view_count": null,
      "_view_module": "@jupyter-widgets/base",
      "_view_module_version": "1.2.0",
      "_view_name": "LayoutView",
      "align_content": null,
      "align_items": null,
      "align_self": null,
      "border": null,
      "bottom": null,
      "display": null,
      "flex": null,
      "flex_flow": null,
      "grid_area": null,
      "grid_auto_columns": null,
      "grid_auto_flow": null,
      "grid_auto_rows": null,
      "grid_column": null,
      "grid_gap": null,
      "grid_row": null,
      "grid_template_areas": null,
      "grid_template_columns": null,
      "grid_template_rows": null,
      "height": null,
      "justify_content": null,
      "justify_items": null,
      "left": null,
      "margin": null,
      "max_height": null,
      "max_width": null,
      "min_height": null,
      "min_width": null,
      "object_fit": null,
      "object_position": null,
      "order": null,
      "overflow": null,
      "overflow_x": null,
      "overflow_y": null,
      "padding": null,
      "right": null,
      "top": null,
      "visibility": null,
      "width": null
     }
    },
    "b0861ec9ac15401783bfd9e92487fe43": {
     "model_module": "@jupyter-widgets/controls",
     "model_name": "HBoxModel",
     "state": {
      "_dom_classes": [],
      "_model_module": "@jupyter-widgets/controls",
      "_model_module_version": "1.5.0",
      "_model_name": "HBoxModel",
      "_view_count": null,
      "_view_module": "@jupyter-widgets/controls",
      "_view_module_version": "1.5.0",
      "_view_name": "HBoxView",
      "box_style": "",
      "children": [
       "IPY_MODEL_5f785c79f13a48099bbb1477df8aa16d",
       "IPY_MODEL_0feedfdfac074b0fb7a7950a8a65fe6e"
      ],
      "layout": "IPY_MODEL_a52fa27484f34ebdb0abc12c73bf07df"
     }
    },
    "b21f2efe553e4b388d8647e06e8288f2": {
     "model_module": "@jupyter-widgets/base",
     "model_name": "LayoutModel",
     "state": {
      "_model_module": "@jupyter-widgets/base",
      "_model_module_version": "1.2.0",
      "_model_name": "LayoutModel",
      "_view_count": null,
      "_view_module": "@jupyter-widgets/base",
      "_view_module_version": "1.2.0",
      "_view_name": "LayoutView",
      "align_content": null,
      "align_items": null,
      "align_self": null,
      "border": null,
      "bottom": null,
      "display": null,
      "flex": null,
      "flex_flow": null,
      "grid_area": null,
      "grid_auto_columns": null,
      "grid_auto_flow": null,
      "grid_auto_rows": null,
      "grid_column": null,
      "grid_gap": null,
      "grid_row": null,
      "grid_template_areas": null,
      "grid_template_columns": null,
      "grid_template_rows": null,
      "height": null,
      "justify_content": null,
      "justify_items": null,
      "left": null,
      "margin": null,
      "max_height": null,
      "max_width": null,
      "min_height": null,
      "min_width": null,
      "object_fit": null,
      "object_position": null,
      "order": null,
      "overflow": null,
      "overflow_x": null,
      "overflow_y": null,
      "padding": null,
      "right": null,
      "top": null,
      "visibility": null,
      "width": null
     }
    },
    "b60402a9beae452eb791e6d3caf644ea": {
     "model_module": "@jupyter-widgets/base",
     "model_name": "LayoutModel",
     "state": {
      "_model_module": "@jupyter-widgets/base",
      "_model_module_version": "1.2.0",
      "_model_name": "LayoutModel",
      "_view_count": null,
      "_view_module": "@jupyter-widgets/base",
      "_view_module_version": "1.2.0",
      "_view_name": "LayoutView",
      "align_content": null,
      "align_items": null,
      "align_self": null,
      "border": null,
      "bottom": null,
      "display": null,
      "flex": null,
      "flex_flow": null,
      "grid_area": null,
      "grid_auto_columns": null,
      "grid_auto_flow": null,
      "grid_auto_rows": null,
      "grid_column": null,
      "grid_gap": null,
      "grid_row": null,
      "grid_template_areas": null,
      "grid_template_columns": null,
      "grid_template_rows": null,
      "height": null,
      "justify_content": null,
      "justify_items": null,
      "left": null,
      "margin": null,
      "max_height": null,
      "max_width": null,
      "min_height": null,
      "min_width": null,
      "object_fit": null,
      "object_position": null,
      "order": null,
      "overflow": null,
      "overflow_x": null,
      "overflow_y": null,
      "padding": null,
      "right": null,
      "top": null,
      "visibility": null,
      "width": null
     }
    },
    "b7ce597d0d0741f5aca0711118f7c9f0": {
     "model_module": "@jupyter-widgets/controls",
     "model_name": "DescriptionStyleModel",
     "state": {
      "_model_module": "@jupyter-widgets/controls",
      "_model_module_version": "1.5.0",
      "_model_name": "DescriptionStyleModel",
      "_view_count": null,
      "_view_module": "@jupyter-widgets/base",
      "_view_module_version": "1.2.0",
      "_view_name": "StyleView",
      "description_width": ""
     }
    },
    "be5d412ffb7b439f977f29c84fef6974": {
     "model_module": "@jupyter-widgets/controls",
     "model_name": "HTMLModel",
     "state": {
      "_dom_classes": [],
      "_model_module": "@jupyter-widgets/controls",
      "_model_module_version": "1.5.0",
      "_model_name": "HTMLModel",
      "_view_count": null,
      "_view_module": "@jupyter-widgets/controls",
      "_view_module_version": "1.5.0",
      "_view_name": "HTMLView",
      "description": "",
      "description_tooltip": null,
      "layout": "IPY_MODEL_1397386380fe4080ad53a54958c2fbe6",
      "placeholder": "​",
      "style": "IPY_MODEL_8d474015aada485883408a7c89d6d190",
      "value": " 28.0/28.0 [00:01&lt;00:00, 27.6B/s]"
     }
    },
    "c084b8dc32d442fe9310792cd36e657c": {
     "model_module": "@jupyter-widgets/controls",
     "model_name": "FloatProgressModel",
     "state": {
      "_dom_classes": [],
      "_model_module": "@jupyter-widgets/controls",
      "_model_module_version": "1.5.0",
      "_model_name": "FloatProgressModel",
      "_view_count": null,
      "_view_module": "@jupyter-widgets/controls",
      "_view_module_version": "1.5.0",
      "_view_name": "ProgressView",
      "bar_style": "success",
      "description": "Downloading: 100%",
      "description_tooltip": null,
      "layout": "IPY_MODEL_7927b9590f3b435da0347bce52ce60dc",
      "max": 231508,
      "min": 0,
      "orientation": "horizontal",
      "style": "IPY_MODEL_c8314794652f4c09922340116c972962",
      "value": 231508
     }
    },
    "c60890f71d0241f698caf3304e727668": {
     "model_module": "@jupyter-widgets/base",
     "model_name": "LayoutModel",
     "state": {
      "_model_module": "@jupyter-widgets/base",
      "_model_module_version": "1.2.0",
      "_model_name": "LayoutModel",
      "_view_count": null,
      "_view_module": "@jupyter-widgets/base",
      "_view_module_version": "1.2.0",
      "_view_name": "LayoutView",
      "align_content": null,
      "align_items": null,
      "align_self": null,
      "border": null,
      "bottom": null,
      "display": null,
      "flex": null,
      "flex_flow": null,
      "grid_area": null,
      "grid_auto_columns": null,
      "grid_auto_flow": null,
      "grid_auto_rows": null,
      "grid_column": null,
      "grid_gap": null,
      "grid_row": null,
      "grid_template_areas": null,
      "grid_template_columns": null,
      "grid_template_rows": null,
      "height": null,
      "justify_content": null,
      "justify_items": null,
      "left": null,
      "margin": null,
      "max_height": null,
      "max_width": null,
      "min_height": null,
      "min_width": null,
      "object_fit": null,
      "object_position": null,
      "order": null,
      "overflow": null,
      "overflow_x": null,
      "overflow_y": null,
      "padding": null,
      "right": null,
      "top": null,
      "visibility": null,
      "width": null
     }
    },
    "c8314794652f4c09922340116c972962": {
     "model_module": "@jupyter-widgets/controls",
     "model_name": "ProgressStyleModel",
     "state": {
      "_model_module": "@jupyter-widgets/controls",
      "_model_module_version": "1.5.0",
      "_model_name": "ProgressStyleModel",
      "_view_count": null,
      "_view_module": "@jupyter-widgets/base",
      "_view_module_version": "1.2.0",
      "_view_name": "StyleView",
      "bar_color": null,
      "description_width": "initial"
     }
    },
    "ca00d8df97514714ba60deb51512397f": {
     "model_module": "@jupyter-widgets/controls",
     "model_name": "FloatProgressModel",
     "state": {
      "_dom_classes": [],
      "_model_module": "@jupyter-widgets/controls",
      "_model_module_version": "1.5.0",
      "_model_name": "FloatProgressModel",
      "_view_count": null,
      "_view_module": "@jupyter-widgets/controls",
      "_view_module_version": "1.5.0",
      "_view_name": "ProgressView",
      "bar_style": "success",
      "description": "Downloading: 100%",
      "description_tooltip": null,
      "layout": "IPY_MODEL_acd20cabcaca47898ce9e056f81dab57",
      "max": 28,
      "min": 0,
      "orientation": "horizontal",
      "style": "IPY_MODEL_cae5484150364375b7e97bd83366b9f9",
      "value": 28
     }
    },
    "cae5484150364375b7e97bd83366b9f9": {
     "model_module": "@jupyter-widgets/controls",
     "model_name": "ProgressStyleModel",
     "state": {
      "_model_module": "@jupyter-widgets/controls",
      "_model_module_version": "1.5.0",
      "_model_name": "ProgressStyleModel",
      "_view_count": null,
      "_view_module": "@jupyter-widgets/base",
      "_view_module_version": "1.2.0",
      "_view_name": "StyleView",
      "bar_color": null,
      "description_width": "initial"
     }
    },
    "d0a6d051ee204c33a851ed98dc6cbf33": {
     "model_module": "@jupyter-widgets/controls",
     "model_name": "FloatProgressModel",
     "state": {
      "_dom_classes": [],
      "_model_module": "@jupyter-widgets/controls",
      "_model_module_version": "1.5.0",
      "_model_name": "FloatProgressModel",
      "_view_count": null,
      "_view_module": "@jupyter-widgets/controls",
      "_view_module_version": "1.5.0",
      "_view_name": "ProgressView",
      "bar_style": "success",
      "description": "Downloading: 100%",
      "description_tooltip": null,
      "layout": "IPY_MODEL_b21f2efe553e4b388d8647e06e8288f2",
      "max": 466062,
      "min": 0,
      "orientation": "horizontal",
      "style": "IPY_MODEL_5d4d62208b0e45b5a063e2d85ab07ce1",
      "value": 466062
     }
    },
    "d2eca679c7ac4bb7acb8a8950a83cbff": {
     "model_module": "@jupyter-widgets/base",
     "model_name": "LayoutModel",
     "state": {
      "_model_module": "@jupyter-widgets/base",
      "_model_module_version": "1.2.0",
      "_model_name": "LayoutModel",
      "_view_count": null,
      "_view_module": "@jupyter-widgets/base",
      "_view_module_version": "1.2.0",
      "_view_name": "LayoutView",
      "align_content": null,
      "align_items": null,
      "align_self": null,
      "border": null,
      "bottom": null,
      "display": null,
      "flex": null,
      "flex_flow": null,
      "grid_area": null,
      "grid_auto_columns": null,
      "grid_auto_flow": null,
      "grid_auto_rows": null,
      "grid_column": null,
      "grid_gap": null,
      "grid_row": null,
      "grid_template_areas": null,
      "grid_template_columns": null,
      "grid_template_rows": null,
      "height": null,
      "justify_content": null,
      "justify_items": null,
      "left": null,
      "margin": null,
      "max_height": null,
      "max_width": null,
      "min_height": null,
      "min_width": null,
      "object_fit": null,
      "object_position": null,
      "order": null,
      "overflow": null,
      "overflow_x": null,
      "overflow_y": null,
      "padding": null,
      "right": null,
      "top": null,
      "visibility": null,
      "width": null
     }
    },
    "d7dbec6e19ec470c9f7289056fc4bfb1": {
     "model_module": "@jupyter-widgets/base",
     "model_name": "LayoutModel",
     "state": {
      "_model_module": "@jupyter-widgets/base",
      "_model_module_version": "1.2.0",
      "_model_name": "LayoutModel",
      "_view_count": null,
      "_view_module": "@jupyter-widgets/base",
      "_view_module_version": "1.2.0",
      "_view_name": "LayoutView",
      "align_content": null,
      "align_items": null,
      "align_self": null,
      "border": null,
      "bottom": null,
      "display": null,
      "flex": null,
      "flex_flow": null,
      "grid_area": null,
      "grid_auto_columns": null,
      "grid_auto_flow": null,
      "grid_auto_rows": null,
      "grid_column": null,
      "grid_gap": null,
      "grid_row": null,
      "grid_template_areas": null,
      "grid_template_columns": null,
      "grid_template_rows": null,
      "height": null,
      "justify_content": null,
      "justify_items": null,
      "left": null,
      "margin": null,
      "max_height": null,
      "max_width": null,
      "min_height": null,
      "min_width": null,
      "object_fit": null,
      "object_position": null,
      "order": null,
      "overflow": null,
      "overflow_x": null,
      "overflow_y": null,
      "padding": null,
      "right": null,
      "top": null,
      "visibility": null,
      "width": null
     }
    },
    "f0b8894c06e5406098b1b70403041316": {
     "model_module": "@jupyter-widgets/controls",
     "model_name": "DescriptionStyleModel",
     "state": {
      "_model_module": "@jupyter-widgets/controls",
      "_model_module_version": "1.5.0",
      "_model_name": "DescriptionStyleModel",
      "_view_count": null,
      "_view_module": "@jupyter-widgets/base",
      "_view_module_version": "1.2.0",
      "_view_name": "StyleView",
      "description_width": ""
     }
    },
    "fa80c969c2c14b478caffc7d37384384": {
     "model_module": "@jupyter-widgets/controls",
     "model_name": "HBoxModel",
     "state": {
      "_dom_classes": [],
      "_model_module": "@jupyter-widgets/controls",
      "_model_module_version": "1.5.0",
      "_model_name": "HBoxModel",
      "_view_count": null,
      "_view_module": "@jupyter-widgets/controls",
      "_view_module_version": "1.5.0",
      "_view_name": "HBoxView",
      "box_style": "",
      "children": [
       "IPY_MODEL_c084b8dc32d442fe9310792cd36e657c",
       "IPY_MODEL_7f14314f8e9947a4bc9f83737f137386"
      ],
      "layout": "IPY_MODEL_b60402a9beae452eb791e6d3caf644ea"
     }
    }
   }
  }
 },
 "nbformat": 4,
 "nbformat_minor": 1
}
