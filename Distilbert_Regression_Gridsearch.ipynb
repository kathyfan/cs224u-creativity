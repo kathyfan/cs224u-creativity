{
 "cells": [
  {
   "cell_type": "markdown",
   "metadata": {
    "id": "p270iyuaIsPb"
   },
   "source": [
    "This notebook is written based on [this reference implementation](https://github.com/bentrevett/pytorch-sentiment-analysis/blob/master/6%20-%20Transformers%20for%20Sentiment%20Analysis.ipynb).\n",
    "\n",
    "Other refs for model:\n",
    "* https://stackoverflow.com/questions/65205582/how-can-i-add-a-bi-lstm-layer-on-top-of-bert-model\n",
    "* https://discuss.pytorch.org/t/how-to-connect-hook-two-or-even-more-models-together/21033\n",
    "* https://pytorch.org/tutorials/beginner/transformer_tutorial.html\n",
    "* https://pytorch.org/tutorials/beginner/basics/buildmodel_tutorial.html\n",
    "\n",
    "Other refs for torchtext:\n",
    "* https://towardsdatascience.com/use-torchtext-to-load-nlp-datasets-part-i-5da6f1c89d84\n",
    "* https://towardsdatascience.com/use-torchtext-to-load-nlp-datasets-part-ii-f146c8b9a496\n",
    "* http://anie.me/On-Torchtext/"
   ]
  },
  {
   "cell_type": "markdown",
   "metadata": {
    "id": "FRXm2FfxzC9A"
   },
   "source": [
    "# Imports and setup"
   ]
  },
  {
   "cell_type": "code",
   "execution_count": 17,
   "metadata": {
    "executionInfo": {
     "elapsed": 5222,
     "status": "ok",
     "timestamp": 1621625578255,
     "user": {
      "displayName": "Xubo Cao",
      "photoUrl": "",
      "userId": "10438589586656072815"
     },
     "user_tz": 420
    },
    "id": "QtVQ8yVAzMTS"
   },
   "outputs": [],
   "source": [
    "import pandas as pd\n",
    "import numpy as np\n",
    "import os\n",
    "import random\n",
    "random.seed(1)\n",
    "import re\n",
    "import time\n",
    "\n",
    "# Data processing.\n",
    "import dataset # dataset.py\n",
    "import torch\n",
    "from torchtext.legacy import data \n",
    "\n",
    "# Model.\n",
    "import models # models.py\n",
    "import torch.nn as nn\n",
    "import torch.optim as optim\n",
    "from transformers import DistilBertModel, DistilBertTokenizer\n",
    "\n",
    "# Training.\n",
    "import training # training.py\n",
    "from sklearn.model_selection import KFold\n",
    "import utils # utils.py\n",
    "\n",
    "# Visualization.\n",
    "import matplotlib.pyplot as plt\n",
    "\n",
    "# If you make a code change that doesn't get picked up by\n",
    "# Jupyter notebook, try reloading like below:\n",
    "# import imp\n",
    "# imp.reload(training)"
   ]
  },
  {
   "cell_type": "markdown",
   "metadata": {
    "id": "ql2Dve4xza-Z"
   },
   "source": [
    "# Load a BERT tokenizer"
   ]
  },
  {
   "cell_type": "code",
   "execution_count": 18,
   "metadata": {
    "colab": {
     "base_uri": "https://localhost:8080/",
     "height": 333,
     "referenced_widgets": [
      "fa80c969c2c14b478caffc7d37384384",
      "b60402a9beae452eb791e6d3caf644ea",
      "c084b8dc32d442fe9310792cd36e657c",
      "7f14314f8e9947a4bc9f83737f137386",
      "c8314794652f4c09922340116c972962",
      "7927b9590f3b435da0347bce52ce60dc",
      "9254fe5fc823456bb534029578e4afb1",
      "5290ba323ad94ad3b3a02d291fed4cb0",
      "2200957fd62b45999a0bf09d10aafd09",
      "2fd29741371347b29d3ab79702293f89",
      "ca00d8df97514714ba60deb51512397f",
      "be5d412ffb7b439f977f29c84fef6974",
      "cae5484150364375b7e97bd83366b9f9",
      "acd20cabcaca47898ce9e056f81dab57",
      "8d474015aada485883408a7c89d6d190",
      "1397386380fe4080ad53a54958c2fbe6",
      "57d1101e366c43e488111e81e56639f8",
      "c60890f71d0241f698caf3304e727668",
      "d0a6d051ee204c33a851ed98dc6cbf33",
      "746f4e383e0047b28e64d9d93fffe0aa",
      "5d4d62208b0e45b5a063e2d85ab07ce1",
      "b21f2efe553e4b388d8647e06e8288f2",
      "15f6d4fd47d0447597adc90e439d2483",
      "d7dbec6e19ec470c9f7289056fc4bfb1",
      "b0861ec9ac15401783bfd9e92487fe43",
      "a52fa27484f34ebdb0abc12c73bf07df",
      "5f785c79f13a48099bbb1477df8aa16d",
      "0feedfdfac074b0fb7a7950a8a65fe6e",
      "35389ca9c4134cd2bd3db516a30f805b",
      "082ca58e4f2f42d7af0230ed3b5c40e4",
      "b7ce597d0d0741f5aca0711118f7c9f0",
      "64b90e94382b477cad9365457ce1476f",
      "6e67df8d4c044ab0b4e11d19b7183d30",
      "d2eca679c7ac4bb7acb8a8950a83cbff",
      "8d6916f93ffc41cca2bf8be42251ab5f",
      "2f9ea867a0594f9f98d88b79106f03a5",
      "3548e016675142abb7dc0200635130b8",
      "8774db4d488540d5a640356bceefdb04",
      "f0b8894c06e5406098b1b70403041316",
      "382c65ed728d4b2ca46a7b83468c6d73"
     ]
    },
    "executionInfo": {
     "elapsed": 11286,
     "status": "ok",
     "timestamp": 1621625589539,
     "user": {
      "displayName": "Xubo Cao",
      "photoUrl": "",
      "userId": "10438589586656072815"
     },
     "user_tz": 420
    },
    "id": "gLPcwP45zoL5",
    "outputId": "c4c84928-8b41-434f-c81c-e5c5c4613e17"
   },
   "outputs": [],
   "source": [
    "WEIGHTS_NAME = 'distilbert-base-uncased'\n",
    "\n",
    "tokenizer = DistilBertTokenizer.from_pretrained(WEIGHTS_NAME)"
   ]
  },
  {
   "cell_type": "markdown",
   "metadata": {
    "id": "PL4p_28SzGCv"
   },
   "source": [
    "# Read the data"
   ]
  },
  {
   "cell_type": "code",
   "execution_count": 19,
   "metadata": {
    "executionInfo": {
     "elapsed": 2809,
     "status": "ok",
     "timestamp": 1621625592336,
     "user": {
      "displayName": "Xubo Cao",
      "photoUrl": "",
      "userId": "10438589586656072815"
     },
     "user_tz": 420
    },
    "id": "HwNKmWDey-q9"
   },
   "outputs": [],
   "source": [
    "data_df = dataset.get_multiple_datasets([1,2,3], 'Creativity_Combined', shuffle=True)"
   ]
  },
  {
   "cell_type": "code",
   "execution_count": 20,
   "metadata": {
    "executionInfo": {
     "elapsed": 1002,
     "status": "ok",
     "timestamp": 1621625593325,
     "user": {
      "displayName": "Xubo Cao",
      "photoUrl": "",
      "userId": "10438589586656072815"
     },
     "user_tz": 420
    },
    "id": "wvWVLrupUEnt"
   },
   "outputs": [],
   "source": [
    "# For prototype purposes:\n",
    "# split into train, test sets. (Train set will be further split into \n",
    "# train+validation sets, via k-fold CV.)\n",
    "train_df = data_df[:1000]\n",
    "test_df = data_df[1000:] # roughly 190 test examples set aside\n",
    "\n",
    "# write them to CSV files\n",
    "train_df.to_csv('ktrain.csv', index=False, header=False)\n",
    "test_df.to_csv('ktest.csv', index=False, header=False)"
   ]
  },
  {
   "cell_type": "markdown",
   "metadata": {
    "id": "eXVH4t-UC_wD"
   },
   "source": [
    "## Preprocessing and transform into torchtext Dataset format.\n",
    "\n",
    "From what I understand, some preprocessing is done when data.Field() is applied."
   ]
  },
  {
   "cell_type": "code",
   "execution_count": 21,
   "metadata": {
    "executionInfo": {
     "elapsed": 2679,
     "status": "ok",
     "timestamp": 1621625596002,
     "user": {
      "displayName": "Xubo Cao",
      "photoUrl": "",
      "userId": "10438589586656072815"
     },
     "user_tz": 420
    },
    "id": "ifqSE8yj76Vb"
   },
   "outputs": [],
   "source": [
    "INIT_TOKEN_IDX = tokenizer.cls_token_id\n",
    "EOS_TOKEN_IDX = tokenizer.sep_token_id\n",
    "PAD_TOKEN_IDX = tokenizer.pad_token_id\n",
    "UNK_TOKEN_IDX = tokenizer.unk_token_id\n",
    "\n",
    "# BERT input can be at most 512 words\n",
    "MAX_INPUT_LENGTH = tokenizer.max_model_input_sizes[WEIGHTS_NAME]\n",
    "\n",
    "# Apply tokenization and some preprocessing steps to the input sentence.\n",
    "# Namely, this trims examples down to MAX_INPUT_LENGTH. (There is a -2 \n",
    "# since the [CLS] and [SEP] tokens will be added)\n",
    "def tokenize_and_cut(sentence):\n",
    "  sentence = sentence.replace('/', '') # remove slashes\n",
    "  tokens = tokenizer.tokenize(sentence) \n",
    "  tokens = tokens[:MAX_INPUT_LENGTH-2]\n",
    "  return tokens\n",
    "\n",
    "# text_fields defines preprocessing and handling of the text of an example.\n",
    "text_fields = data.Field(batch_first = True,\n",
    "                  use_vocab = False,\n",
    "                  tokenize = tokenize_and_cut,\n",
    "                  preprocessing = tokenizer.convert_tokens_to_ids,\n",
    "                  init_token = INIT_TOKEN_IDX, # add [CLS] token\n",
    "                  eos_token = EOS_TOKEN_IDX, # add [SEP] token\n",
    "                  pad_token = PAD_TOKEN_IDX,\n",
    "                  unk_token = UNK_TOKEN_IDX)\n",
    "\n",
    "# label_fields defines how to handle the label of an example.\n",
    "# for regression, we do not need to build a vocabulary.\n",
    "label_fields = data.LabelField(sequential=False, use_vocab=False, dtype = torch.float)\n",
    "all_fields = [('text', text_fields), ('label', label_fields)] # must match order of cols in csv\n",
    "\n",
    "train_dataset, test_dataset = data.TabularDataset.splits(\n",
    "  path='', # path='' because the csvs are in the same directory\n",
    "  train='ktrain.csv', test='ktest.csv', format='csv',\n",
    "  fields=all_fields  \n",
    ")"
   ]
  },
  {
   "cell_type": "code",
   "execution_count": 12,
   "metadata": {},
   "outputs": [
    {
     "name": "stdout",
     "output_type": "stream",
     "text": [
      "                                                  text  label\n",
      "260  This exercise specially work for the patient w...  2.925\n"
     ]
    }
   ],
   "source": [
    "print(data_df.head(1))"
   ]
  },
  {
   "cell_type": "code",
   "execution_count": 22,
   "metadata": {
    "executionInfo": {
     "elapsed": 15,
     "status": "ok",
     "timestamp": 1621625596006,
     "user": {
      "displayName": "Xubo Cao",
      "photoUrl": "",
      "userId": "10438589586656072815"
     },
     "user_tz": 420
    },
    "id": "zfxEmIj65PFa"
   },
   "outputs": [],
   "source": [
    "# Transform train_dataset into an np array representation.\n",
    "# This will be used for generating the K folds.\n",
    "train_exs_arr = np.array(train_dataset.examples)"
   ]
  },
  {
   "cell_type": "markdown",
   "metadata": {
    "id": "wb9qlt-_0xlO"
   },
   "source": [
    "# Training pipeline begins here\n"
   ]
  },
  {
   "cell_type": "markdown",
   "metadata": {
    "id": "aSm060wNE-NF"
   },
   "source": [
    "## Define parameters"
   ]
  },
  {
   "cell_type": "code",
   "execution_count": 23,
   "metadata": {
    "colab": {
     "base_uri": "https://localhost:8080/"
    },
    "executionInfo": {
     "elapsed": 6750,
     "status": "ok",
     "timestamp": 1621625602743,
     "user": {
      "displayName": "Xubo Cao",
      "photoUrl": "",
      "userId": "10438589586656072815"
     },
     "user_tz": 420
    },
    "id": "Ht9cEYK_TeGB",
    "outputId": "01d6745b-e8d8-46b7-efd2-569654d1a558"
   },
   "outputs": [
    {
     "name": "stderr",
     "output_type": "stream",
     "text": [
      "/opt/conda/lib/python3.7/site-packages/torch/nn/_reduction.py:42: UserWarning: size_average and reduce args will be deprecated, please use reduction='sum' instead.\n",
      "  warnings.warn(warning.format(ret))\n"
     ]
    }
   ],
   "source": [
    "# Model parameters\n",
    "OUTPUT_DIM = 1\n",
    "DROPOUT = 0.2 # This is the distilbert default\n",
    "\n",
    "# Training parameters\n",
    "N_SPLITS = 5 # For cross validation\n",
    "BATCH_SIZE = 1 # This is the distilbert default\n",
    "N_EPOCHS = 3 # This is the distilbert default\n",
    "\n",
    "device = torch.device('cuda' if torch.cuda.is_available() else 'cpu')\n",
    "criterion = nn.MSELoss(size_average=False)\n",
    "criterion = criterion.to(device)"
   ]
  },
  {
   "cell_type": "code",
   "execution_count": 24,
   "metadata": {},
   "outputs": [
    {
     "ename": "KeyboardInterrupt",
     "evalue": "",
     "output_type": "error",
     "traceback": [
      "\u001b[0;31m---------------------------------------------------------------------------\u001b[0m",
      "\u001b[0;31mKeyboardInterrupt\u001b[0m                         Traceback (most recent call last)",
      "\u001b[0;32m<ipython-input-24-55bdc4c81e30>\u001b[0m in \u001b[0;36m<module>\u001b[0;34m\u001b[0m\n\u001b[1;32m      3\u001b[0m \u001b[0mADDED_DIM\u001b[0m \u001b[0;34m=\u001b[0m \u001b[0mADDED_FEATURES\u001b[0m\u001b[0;34m.\u001b[0m\u001b[0mshape\u001b[0m\u001b[0;34m[\u001b[0m\u001b[0;36m1\u001b[0m\u001b[0;34m]\u001b[0m\u001b[0;34m\u001b[0m\u001b[0;34m\u001b[0m\u001b[0m\n\u001b[1;32m      4\u001b[0m \u001b[0;31m# Move the added features to device so that it can\u001b[0m\u001b[0;34m\u001b[0m\u001b[0;34m\u001b[0m\u001b[0;34m\u001b[0m\u001b[0m\n\u001b[0;32m----> 5\u001b[0;31m \u001b[0mADDED_FEATURES\u001b[0m \u001b[0;34m=\u001b[0m \u001b[0mADDED_FEATURES\u001b[0m\u001b[0;34m.\u001b[0m\u001b[0mto\u001b[0m\u001b[0;34m(\u001b[0m\u001b[0mdevice\u001b[0m\u001b[0;34m)\u001b[0m\u001b[0;34m\u001b[0m\u001b[0;34m\u001b[0m\u001b[0m\n\u001b[0m",
      "\u001b[0;31mKeyboardInterrupt\u001b[0m: "
     ]
    }
   ],
   "source": [
    "# For testing purpose, I am using randomly generated tensors with 3 columns\n",
    "ADDED_FEATURES = torch.rand(BATCH_SIZE,3)\n",
    "ADDED_DIM = ADDED_FEATURES.shape[1]\n",
    "# Move the added features to device so that it can\n",
    "ADDED_FEATURES = ADDED_FEATURES.to(device)"
   ]
  },
  {
   "cell_type": "markdown",
   "metadata": {
    "id": "pKN3vFd0FSre"
   },
   "source": [
    "## The cell where it actually trains!"
   ]
  },
  {
   "cell_type": "code",
   "execution_count": 36,
   "metadata": {
    "colab": {
     "base_uri": "https://localhost:8080/",
     "height": 358
    },
    "executionInfo": {
     "elapsed": 258,
     "status": "error",
     "timestamp": 1621625602985,
     "user": {
      "displayName": "Xubo Cao",
      "photoUrl": "",
      "userId": "10438589586656072815"
     },
     "user_tz": 420
    },
    "id": "2rJKFKqxSXLE",
    "outputId": "5c30be6e-ce82-40ef-c9e5-8e4bd2df5f82"
   },
   "outputs": [],
   "source": [
    "# The main training loop\n",
    "def launch_experiment(train_data_df, n_splits=N_SPLITS):\n",
    "  # valid_corrs = np.empty(n_splits)\n",
    "  best_valid_loss = float('inf') \n",
    "  \n",
    "  kf = KFold(n_splits=n_splits)\n",
    "  fold = 0\n",
    "  for train_index, valid_index in kf.split(train_data_df):\n",
    "    print('training on fold {}'.format(fold))\n",
    "    train_data = data.Dataset(train_exs_arr[train_index], all_fields)\n",
    "    valid_data = data.Dataset(train_exs_arr[valid_index], all_fields)\n",
    "    \n",
    "    # Initialize a new model each fold.\n",
    "    # https://ai.stackexchange.com/questions/18221/deep-learning-with-kfold-cross-validation-with-epochs\n",
    "    # https://stats.stackexchange.com/questions/358380/neural-networks-epochs-with-10-fold-cross-validation-doing-something-wrong\n",
    "    bert = DistilBertModel.from_pretrained(WEIGHTS_NAME)\n",
    "    model = models.BERTLinear(bert,\n",
    "                              OUTPUT_DIM,\n",
    "                              DROPOUT,\n",
    "                              added_dim = ADDED_DIM, \n",
    "                              # I modified to model function such that the dimension of the addtional features is added to BERT dimension (768)\n",
    ")\n",
    "    # optimizer = optim.Adam(model.parameters())\n",
    "    optimizer = optim.Adam(model.parameters(),lr=5e-05,betas=(0.9, 0.999),eps=1e-08) # lr is not Adam default\n",
    "    model = model.to(device)\n",
    "\n",
    "    train_iterator, valid_iterator = training.get_iterators(train_data, valid_data, BATCH_SIZE, device)\n",
    "\n",
    "    for epoch in range(N_EPOCHS):\n",
    "      start_time = time.time()\n",
    "    # I modified the training and model functions so that we can concatenate hand-picked features with BERT representations\n",
    "      train_loss, train_corr = training.train(model, train_iterator, optimizer, criterion, added_features = ADDED_FEATURES)\n",
    "      valid_loss, valid_corr = training.evaluate(model, valid_iterator, criterion, debug=False,added_features = ADDED_FEATURES)\n",
    "     # valid_corrs[fold] will end up holding the valid_corr from the last epoch for this fold\n",
    "      # is this what we want?\n",
    "      # valid_corrs[fold] = valid_corr\n",
    "      end_time = time.time()\n",
    "      epoch_mins, epoch_secs = utils.epoch_time(start_time, end_time)\n",
    "\n",
    "      if valid_loss < best_valid_loss:\n",
    "        best_valid_loss = valid_loss\n",
    "        # Save the weights of the model with the best valid loss\n",
    "        print('updating saved weights of best model')\n",
    "        torch.save(model.state_dict(), \"best_valid_loss.pt\")\n",
    "\n",
    "      print(f'Epoch: {epoch:02} | Epoch Time: {epoch_mins}m {epoch_secs}s')\n",
    "      print(f'\\t Train Loss: {train_loss:.3f} | Train Corr: {train_corr:.2f}')\n",
    "      print(f'\\t Val. Loss: {valid_loss:.3f} |  Val. Corr: {valid_corr:.2f}')\n",
    "    \n",
    "    fold += 1\n",
    "    # return best_valid_loss # TODO REMOVE -- JUST TRAIN ONE FOLD\n",
    "  \n",
    "  return best_valid_loss # , valid_corrs"
   ]
  },
  {
   "cell_type": "code",
   "execution_count": 39,
   "metadata": {
    "scrolled": true
   },
   "outputs": [
    {
     "name": "stdout",
     "output_type": "stream",
     "text": [
      "training on fold 0\n"
     ]
    },
    {
     "name": "stderr",
     "output_type": "stream",
     "text": [
      "Some weights of the model checkpoint at distilbert-base-uncased were not used when initializing DistilBertModel: ['vocab_projector.bias', 'vocab_layer_norm.bias', 'vocab_layer_norm.weight', 'vocab_projector.weight', 'vocab_transform.weight', 'vocab_transform.bias']\n",
      "- This IS expected if you are initializing DistilBertModel from the checkpoint of a model trained on another task or with another architecture (e.g. initializing a BertForSequenceClassification model from a BertForPreTraining model).\n",
      "- This IS NOT expected if you are initializing DistilBertModel from the checkpoint of a model that you expect to be exactly identical (initializing a BertForSequenceClassification model from a BertForSequenceClassification model).\n"
     ]
    },
    {
     "name": "stdout",
     "output_type": "stream",
     "text": [
      "updating saved weights of best model\n",
      "Epoch: 00 | Epoch Time: 1m 8s\n",
      "\t Train Loss: 0.582 | Train Corr: 0.39\n",
      "\t Val. Loss: 0.386 |  Val. Corr: 0.60\n",
      "Epoch: 01 | Epoch Time: 1m 8s\n",
      "\t Train Loss: 0.288 | Train Corr: 0.71\n",
      "\t Val. Loss: 0.499 |  Val. Corr: 0.57\n",
      "Epoch: 02 | Epoch Time: 1m 8s\n",
      "\t Train Loss: 0.216 | Train Corr: 0.79\n",
      "\t Val. Loss: 0.416 |  Val. Corr: 0.61\n",
      "training on fold 1\n"
     ]
    },
    {
     "name": "stderr",
     "output_type": "stream",
     "text": [
      "Some weights of the model checkpoint at distilbert-base-uncased were not used when initializing DistilBertModel: ['vocab_projector.bias', 'vocab_layer_norm.bias', 'vocab_layer_norm.weight', 'vocab_projector.weight', 'vocab_transform.weight', 'vocab_transform.bias']\n",
      "- This IS expected if you are initializing DistilBertModel from the checkpoint of a model trained on another task or with another architecture (e.g. initializing a BertForSequenceClassification model from a BertForPreTraining model).\n",
      "- This IS NOT expected if you are initializing DistilBertModel from the checkpoint of a model that you expect to be exactly identical (initializing a BertForSequenceClassification model from a BertForSequenceClassification model).\n"
     ]
    },
    {
     "name": "stdout",
     "output_type": "stream",
     "text": [
      "Epoch: 00 | Epoch Time: 1m 8s\n",
      "\t Train Loss: 0.722 | Train Corr: 0.20\n",
      "\t Val. Loss: 0.425 |  Val. Corr: 0.66\n",
      "updating saved weights of best model\n",
      "Epoch: 01 | Epoch Time: 1m 8s\n",
      "\t Train Loss: 0.377 | Train Corr: 0.60\n",
      "\t Val. Loss: 0.319 |  Val. Corr: 0.70\n",
      "updating saved weights of best model\n",
      "Epoch: 02 | Epoch Time: 1m 8s\n",
      "\t Train Loss: 0.265 | Train Corr: 0.74\n",
      "\t Val. Loss: 0.274 |  Val. Corr: 0.72\n",
      "training on fold 2\n"
     ]
    },
    {
     "name": "stderr",
     "output_type": "stream",
     "text": [
      "Some weights of the model checkpoint at distilbert-base-uncased were not used when initializing DistilBertModel: ['vocab_projector.bias', 'vocab_layer_norm.bias', 'vocab_layer_norm.weight', 'vocab_projector.weight', 'vocab_transform.weight', 'vocab_transform.bias']\n",
      "- This IS expected if you are initializing DistilBertModel from the checkpoint of a model trained on another task or with another architecture (e.g. initializing a BertForSequenceClassification model from a BertForPreTraining model).\n",
      "- This IS NOT expected if you are initializing DistilBertModel from the checkpoint of a model that you expect to be exactly identical (initializing a BertForSequenceClassification model from a BertForSequenceClassification model).\n"
     ]
    },
    {
     "name": "stdout",
     "output_type": "stream",
     "text": [
      "Epoch: 00 | Epoch Time: 1m 8s\n",
      "\t Train Loss: 0.606 | Train Corr: 0.33\n",
      "\t Val. Loss: 0.517 |  Val. Corr: 0.67\n",
      "Epoch: 01 | Epoch Time: 1m 8s\n",
      "\t Train Loss: 0.330 | Train Corr: 0.65\n",
      "\t Val. Loss: 0.281 |  Val. Corr: 0.75\n",
      "Epoch: 02 | Epoch Time: 1m 8s\n",
      "\t Train Loss: 0.205 | Train Corr: 0.80\n",
      "\t Val. Loss: 0.336 |  Val. Corr: 0.73\n",
      "training on fold 3\n"
     ]
    },
    {
     "name": "stderr",
     "output_type": "stream",
     "text": [
      "Some weights of the model checkpoint at distilbert-base-uncased were not used when initializing DistilBertModel: ['vocab_projector.bias', 'vocab_layer_norm.bias', 'vocab_layer_norm.weight', 'vocab_projector.weight', 'vocab_transform.weight', 'vocab_transform.bias']\n",
      "- This IS expected if you are initializing DistilBertModel from the checkpoint of a model trained on another task or with another architecture (e.g. initializing a BertForSequenceClassification model from a BertForPreTraining model).\n",
      "- This IS NOT expected if you are initializing DistilBertModel from the checkpoint of a model that you expect to be exactly identical (initializing a BertForSequenceClassification model from a BertForSequenceClassification model).\n"
     ]
    },
    {
     "name": "stdout",
     "output_type": "stream",
     "text": [
      "Epoch: 00 | Epoch Time: 1m 8s\n",
      "\t Train Loss: 0.566 | Train Corr: 0.43\n",
      "\t Val. Loss: 0.305 |  Val. Corr: 0.73\n",
      "updating saved weights of best model\n",
      "Epoch: 01 | Epoch Time: 1m 8s\n",
      "\t Train Loss: 0.318 | Train Corr: 0.68\n",
      "\t Val. Loss: 0.270 |  Val. Corr: 0.71\n",
      "Epoch: 02 | Epoch Time: 1m 8s\n",
      "\t Train Loss: 0.224 | Train Corr: 0.79\n",
      "\t Val. Loss: 0.278 |  Val. Corr: 0.78\n",
      "training on fold 4\n"
     ]
    },
    {
     "name": "stderr",
     "output_type": "stream",
     "text": [
      "Some weights of the model checkpoint at distilbert-base-uncased were not used when initializing DistilBertModel: ['vocab_projector.bias', 'vocab_layer_norm.bias', 'vocab_layer_norm.weight', 'vocab_projector.weight', 'vocab_transform.weight', 'vocab_transform.bias']\n",
      "- This IS expected if you are initializing DistilBertModel from the checkpoint of a model trained on another task or with another architecture (e.g. initializing a BertForSequenceClassification model from a BertForPreTraining model).\n",
      "- This IS NOT expected if you are initializing DistilBertModel from the checkpoint of a model that you expect to be exactly identical (initializing a BertForSequenceClassification model from a BertForSequenceClassification model).\n"
     ]
    },
    {
     "name": "stdout",
     "output_type": "stream",
     "text": [
      "Epoch: 00 | Epoch Time: 1m 7s\n",
      "\t Train Loss: 0.596 | Train Corr: 0.38\n",
      "\t Val. Loss: 0.284 |  Val. Corr: 0.69\n",
      "Epoch: 01 | Epoch Time: 1m 7s\n",
      "\t Train Loss: 0.305 | Train Corr: 0.69\n",
      "\t Val. Loss: 0.360 |  Val. Corr: 0.65\n",
      "Epoch: 02 | Epoch Time: 1m 7s\n",
      "\t Train Loss: 0.200 | Train Corr: 0.81\n",
      "\t Val. Loss: 0.328 |  Val. Corr: 0.63\n",
      "best validation loss: 0.27033982449457655\n"
     ]
    }
   ],
   "source": [
    "import imp\n",
    "imp.reload(models)\n",
    "imp.reload(training)\n",
    "\n",
    "best_valid_loss = launch_experiment(train_exs_arr)\n",
    "print('best validation loss: {}'.format(best_valid_loss))\n",
    "# print('validation correlations for each fold: {}'.format(valid_corrs))\n",
    "# print('average of validation correlations: {}'.format(np.mean(valid_corrs)))"
   ]
  },
  {
   "cell_type": "markdown",
   "metadata": {},
   "source": [
    "# Parameter Search"
   ]
  },
  {
   "cell_type": "code",
   "execution_count": 39,
   "metadata": {},
   "outputs": [
    {
     "name": "stdout",
     "output_type": "stream",
     "text": [
      "{'added_features': None, 'batch_size': 1, 'dropout': 0.2, 'lr': 5e-05, 'n_epoch': 3}\n",
      "training on fold 0\n"
     ]
    },
    {
     "name": "stderr",
     "output_type": "stream",
     "text": [
      "Some weights of the model checkpoint at distilbert-base-uncased were not used when initializing DistilBertModel: ['vocab_projector.bias', 'vocab_transform.weight', 'vocab_layer_norm.bias', 'vocab_projector.weight', 'vocab_transform.bias', 'vocab_layer_norm.weight']\n",
      "- This IS expected if you are initializing DistilBertModel from the checkpoint of a model trained on another task or with another architecture (e.g. initializing a BertForSequenceClassification model from a BertForPreTraining model).\n",
      "- This IS NOT expected if you are initializing DistilBertModel from the checkpoint of a model that you expect to be exactly identical (initializing a BertForSequenceClassification model from a BertForSequenceClassification model).\n"
     ]
    },
    {
     "name": "stdout",
     "output_type": "stream",
     "text": [
      "Epoch: 00 | Epoch Time: 0m 49s\n",
      "\t Train Loss: 0.615 | Train Corr: 0.44\n",
      "\t Val. Loss: 0.542 |  Val. Corr: 0.67\n",
      "Epoch: 01 | Epoch Time: 0m 49s\n",
      "\t Train Loss: 0.269 | Train Corr: 0.75\n",
      "\t Val. Loss: 0.383 |  Val. Corr: 0.64\n",
      "Epoch: 02 | Epoch Time: 0m 49s\n",
      "\t Train Loss: 0.193 | Train Corr: 0.83\n",
      "\t Val. Loss: 0.548 |  Val. Corr: 0.69\n",
      "training on fold 1\n"
     ]
    },
    {
     "name": "stderr",
     "output_type": "stream",
     "text": [
      "Some weights of the model checkpoint at distilbert-base-uncased were not used when initializing DistilBertModel: ['vocab_projector.bias', 'vocab_transform.weight', 'vocab_layer_norm.bias', 'vocab_projector.weight', 'vocab_transform.bias', 'vocab_layer_norm.weight']\n",
      "- This IS expected if you are initializing DistilBertModel from the checkpoint of a model trained on another task or with another architecture (e.g. initializing a BertForSequenceClassification model from a BertForPreTraining model).\n",
      "- This IS NOT expected if you are initializing DistilBertModel from the checkpoint of a model that you expect to be exactly identical (initializing a BertForSequenceClassification model from a BertForSequenceClassification model).\n"
     ]
    },
    {
     "name": "stdout",
     "output_type": "stream",
     "text": [
      "Epoch: 00 | Epoch Time: 0m 48s\n",
      "\t Train Loss: 0.788 | Train Corr: 0.19\n",
      "\t Val. Loss: 0.480 |  Val. Corr: 0.67\n",
      "Epoch: 01 | Epoch Time: 0m 48s\n",
      "\t Train Loss: 0.420 | Train Corr: 0.53\n",
      "\t Val. Loss: 0.450 |  Val. Corr: 0.64\n",
      "Epoch: 02 | Epoch Time: 0m 48s\n",
      "\t Train Loss: 0.305 | Train Corr: 0.69\n",
      "\t Val. Loss: 0.306 |  Val. Corr: 0.71\n",
      "{'added_features': None, 'batch_size': 8, 'dropout': 0.2, 'lr': 5e-05, 'n_epoch': 3}\n",
      "training on fold 0\n"
     ]
    },
    {
     "name": "stderr",
     "output_type": "stream",
     "text": [
      "Some weights of the model checkpoint at distilbert-base-uncased were not used when initializing DistilBertModel: ['vocab_projector.bias', 'vocab_transform.weight', 'vocab_layer_norm.bias', 'vocab_projector.weight', 'vocab_transform.bias', 'vocab_layer_norm.weight']\n",
      "- This IS expected if you are initializing DistilBertModel from the checkpoint of a model trained on another task or with another architecture (e.g. initializing a BertForSequenceClassification model from a BertForPreTraining model).\n",
      "- This IS NOT expected if you are initializing DistilBertModel from the checkpoint of a model that you expect to be exactly identical (initializing a BertForSequenceClassification model from a BertForSequenceClassification model).\n"
     ]
    },
    {
     "name": "stdout",
     "output_type": "stream",
     "text": [
      "Epoch: 00 | Epoch Time: 0m 32s\n",
      "\t Train Loss: 13.229 | Train Corr: 0.09\n",
      "\t Val. Loss: 7.008 |  Val. Corr: 0.55\n",
      "Epoch: 01 | Epoch Time: 0m 32s\n",
      "\t Train Loss: 3.246 | Train Corr: 0.57\n",
      "\t Val. Loss: 7.226 |  Val. Corr: 0.59\n",
      "Epoch: 02 | Epoch Time: 0m 34s\n",
      "\t Train Loss: 2.606 | Train Corr: 0.67\n",
      "\t Val. Loss: 5.254 |  Val. Corr: 0.62\n",
      "training on fold 1\n"
     ]
    },
    {
     "name": "stderr",
     "output_type": "stream",
     "text": [
      "Some weights of the model checkpoint at distilbert-base-uncased were not used when initializing DistilBertModel: ['vocab_projector.bias', 'vocab_transform.weight', 'vocab_layer_norm.bias', 'vocab_projector.weight', 'vocab_transform.bias', 'vocab_layer_norm.weight']\n",
      "- This IS expected if you are initializing DistilBertModel from the checkpoint of a model trained on another task or with another architecture (e.g. initializing a BertForSequenceClassification model from a BertForPreTraining model).\n",
      "- This IS NOT expected if you are initializing DistilBertModel from the checkpoint of a model that you expect to be exactly identical (initializing a BertForSequenceClassification model from a BertForSequenceClassification model).\n"
     ]
    },
    {
     "name": "stdout",
     "output_type": "stream",
     "text": [
      "Epoch: 00 | Epoch Time: 0m 28s\n",
      "\t Train Loss: 13.256 | Train Corr: 0.17\n",
      "\t Val. Loss: 5.339 |  Val. Corr: 0.63\n",
      "Epoch: 01 | Epoch Time: 0m 29s\n",
      "\t Train Loss: 3.375 | Train Corr: 0.51\n",
      "\t Val. Loss: 3.874 |  Val. Corr: 0.69\n",
      "Epoch: 02 | Epoch Time: 0m 29s\n",
      "\t Train Loss: 2.767 | Train Corr: 0.62\n",
      "\t Val. Loss: 3.457 |  Val. Corr: 0.72\n"
     ]
    }
   ],
   "source": [
    "from sklearn.model_selection import ParameterGrid\n",
    "\n",
    "# Takes a parameter grid and search for the best model using all combinations of parameters\n",
    "# The param_grid is a dictionary like the input for sklearn.model_selection.GridSearchCV\n",
    "# Example: {'batch_size': [1,8], 'lr': [5e-05, 1e-05]}\n",
    "# Each model will be evaluated using k-fold (default = 5) cross validations\n",
    "# The model with the highest average correlations across all folds will be selected as the best model\n",
    "# The function returns the performance of all models (k-element lists stored in dictionaries)\n",
    "# These results can be used for model comparison (e.g., Wilcoxin test)\n",
    "# and the best model (a tuple with the parameters and the average correlation)\n",
    "def DistilBERT_with_parameter_search(param_grid, cv = 5):\n",
    "    \n",
    "    # Set default arguments. If the argument is not given in the parameter grid, the defauly will be used\n",
    "    default = {'dropout': [.2], \n",
    "              'batch_size': [8],\n",
    "               'lr': [5e-05],\n",
    "              'added_features': [None],\n",
    "              'n_epoch': [3]}\n",
    "    for argum in default:\n",
    "        if argum not in param_grid:\n",
    "            param_grid[argum] = default[argum]\n",
    "    \n",
    "    # Use this function to expand the parameter grid\n",
    "    grid = ParameterGrid(param_grid)\n",
    "    \n",
    "    # Place holder for model performance\n",
    "    results = {}\n",
    "    results_mean = {}\n",
    "    \n",
    "    for params in grid:\n",
    "        print(params)\n",
    "        # Index of the model, represents the parameters\n",
    "        index = '; '.join(x + '_' + str(y) for x, y in params.items())\n",
    "        \n",
    "        # Evaluate the model using the current set of parameters\n",
    "        result = evaluate_candidates(train_data_df = train_exs_arr\n",
    "                                ,n_splits = cv\n",
    "                                ,dropout = params['dropout']\n",
    "                                ,added_features = params['added_features']\n",
    "                                ,lr = params['lr']\n",
    "                                ,batch_size = params['batch_size']\n",
    "                                ,n_epoch = params['n_epoch']\n",
    "                               )\n",
    "        \n",
    "        # Store the the results\n",
    "        results[index] = result\n",
    "        results_mean[index] = np.mean(result)\n",
    "    \n",
    "    # Select the best results\n",
    "    best_index = max(results_mean, key = results_mean.get)\n",
    "    best_model = (best_index,results_mean[best_index])\n",
    "\n",
    "    return results, best_model\n",
    "        \n",
    "\n",
    "# This function evaluates a model with a certain set of parameters\n",
    "# Similar to launch_experiment, except that the validation correlations are returned \n",
    "def evaluate_candidates(train_data_df\n",
    "                        ,dropout\n",
    "                        ,added_features\n",
    "                        ,lr\n",
    "                        ,batch_size\n",
    "                        ,n_epoch\n",
    "                        ,n_splits\n",
    "                       ):\n",
    "  valid_corrs = np.empty(n_splits)\n",
    "  added_dim = 0\n",
    "  if added_features is not None:\n",
    "        added_dim = added_features.shape[1]\n",
    "        added_features = added_features.to(device)\n",
    "  kf = KFold(n_splits=n_splits)\n",
    "  fold = 0\n",
    "    \n",
    "  for train_index, valid_index in kf.split(train_data_df):\n",
    "    print('training on fold {}'.format(fold))\n",
    "    train_data = data.Dataset(train_exs_arr[train_index], all_fields)\n",
    "    valid_data = data.Dataset(train_exs_arr[valid_index], all_fields)\n",
    "    \n",
    "    # Initialize a new model each fold.\n",
    "    # https://ai.stackexchange.com/questions/18221/deep-learning-with-kfold-cross-validation-with-epochs\n",
    "    # https://stats.stackexchange.com/questions/358380/neural-networks-epochs-with-10-fold-cross-validation-doing-something-wrong\n",
    "    bert = DistilBertModel.from_pretrained(WEIGHTS_NAME)\n",
    "    model = models.BERTLinear(bert,\n",
    "                              OUTPUT_DIM,\n",
    "                              dropout,\n",
    "                              added_dim = added_dim, \n",
    "                              # I modified to model function such that the dimension of the addtional features is added to BERT dimension (768)\n",
    ")\n",
    "    # optimizer = optim.Adam(model.parameters())\n",
    "    optimizer = optim.Adam(model.parameters(),lr=lr,betas=(0.9, 0.999),eps=1e-08) # lr is not Adam default\n",
    "    model = model.to(device)\n",
    "\n",
    "    train_iterator, valid_iterator = training.get_iterators(train_data, valid_data, batch_size, device)\n",
    "\n",
    "    for epoch in range(n_epoch):\n",
    "      start_time = time.time()\n",
    "    # I modified the training and model functions so that we can concatenate hand-picked features with BERT representations\n",
    "      train_loss, train_corr = training.train(model, train_iterator, optimizer, criterion, added_features = added_features)\n",
    "      valid_loss, valid_corr = training.evaluate(model, valid_iterator, criterion, debug=False,added_features = added_features)\n",
    "     # valid_corrs[fold] will end up holding the valid_corr from the last epoch for this fold\n",
    "      # is this what we want?\n",
    "      # valid_corrs[fold] = valid_corr\n",
    "      end_time = time.time()\n",
    "      epoch_mins, epoch_secs = utils.epoch_time(start_time, end_time)\n",
    "\n",
    "\n",
    "      print(f'Epoch: {epoch:02} | Epoch Time: {epoch_mins}m {epoch_secs}s')\n",
    "      print(f'\\t Train Loss: {train_loss:.3f} | Train Corr: {train_corr:.2f}')\n",
    "      print(f'\\t Val. Loss: {valid_loss:.3f} |  Val. Corr: {valid_corr:.2f}')\n",
    "    \n",
    "    valid_corrs[fold] = valid_corr\n",
    "    fold += 1\n",
    "  return valid_corrs\n",
    "\n",
    "param_grid = {'batch_size': [1,8]}\n",
    "all_results, best_model = DistilBERT_with_parameter_search(param_grid, cv = 2)"
   ]
  },
  {
   "cell_type": "code",
   "execution_count": 42,
   "metadata": {},
   "outputs": [
    {
     "name": "stdout",
     "output_type": "stream",
     "text": [
      "{'added_features_None; batch_size_1; dropout_0.2; lr_5e-05; n_epoch_3': array([0.69352679, 0.71319378]), 'added_features_None; batch_size_8; dropout_0.2; lr_5e-05; n_epoch_3': array([0.61965209, 0.71505918])}\n",
      "('added_features_None; batch_size_1; dropout_0.2; lr_5e-05; n_epoch_3', 0.7033602868459449)\n"
     ]
    }
   ],
   "source": [
    "print(all_results)\n",
    "print(best_model)"
   ]
  },
  {
   "cell_type": "markdown",
   "metadata": {
    "id": "NIXP6rB_FY8K"
   },
   "source": [
    "# Test the trained model on held-out dataset."
   ]
  },
  {
   "cell_type": "code",
   "execution_count": 11,
   "metadata": {
    "id": "-1w-zVceFsx3"
   },
   "outputs": [],
   "source": [
    "# Get a test iterator\n",
    "test_iterator = training.get_iterator(test_dataset, BATCH_SIZE, device)"
   ]
  },
  {
   "cell_type": "code",
   "execution_count": 12,
   "metadata": {
    "colab": {
     "base_uri": "https://localhost:8080/"
    },
    "collapsed": true,
    "executionInfo": {
     "elapsed": 18,
     "status": "ok",
     "timestamp": 1621580211381,
     "user": {
      "displayName": "Xubo Cao",
      "photoUrl": "",
      "userId": "10438589586656072815"
     },
     "user_tz": 420
    },
    "id": "XgAhdm2rTGrP",
    "outputId": "4e305da0-ec5d-4406-9fb9-7f634df6c507"
   },
   "outputs": [
    {
     "name": "stderr",
     "output_type": "stream",
     "text": [
      "Some weights of the model checkpoint at distilbert-base-uncased were not used when initializing DistilBertModel: ['vocab_projector.bias', 'vocab_layer_norm.weight', 'vocab_projector.weight', 'vocab_transform.weight', 'vocab_transform.bias', 'vocab_layer_norm.bias']\n",
      "- This IS expected if you are initializing DistilBertModel from the checkpoint of a model trained on another task or with another architecture (e.g. initializing a BertForSequenceClassification model from a BertForPreTraining model).\n",
      "- This IS NOT expected if you are initializing DistilBertModel from the checkpoint of a model that you expect to be exactly identical (initializing a BertForSequenceClassification model from a BertForSequenceClassification model).\n"
     ]
    },
    {
     "name": "stdout",
     "output_type": "stream",
     "text": [
      "predictions: tensor([3.7420, 3.1371, 2.9669, 4.6738, 4.3069, 4.3898, 3.0036, 3.5888],\n",
      "       device='cuda:0')\n",
      "true labels: tensor([4.1750, 2.6750, 3.3500, 4.3250, 4.1750, 4.5750, 3.2500, 4.9500],\n",
      "       device='cuda:0')\n",
      "predictions: tensor([3.4298, 4.1198, 3.7915, 3.9154, 3.7454, 2.9854, 4.5348, 3.8341],\n",
      "       device='cuda:0')\n",
      "true labels: tensor([4.1250, 4.3500, 4.7000, 4.3000, 5.2750, 2.5500, 5.4250, 3.2750],\n",
      "       device='cuda:0')\n",
      "predictions: tensor([3.9121, 2.8993, 3.8251, 4.6524, 3.7348, 4.3551, 3.6334, 3.5260],\n",
      "       device='cuda:0')\n",
      "true labels: tensor([5.2750, 2.7750, 4.3750, 4.7750, 4.3750, 3.5500, 4.0500, 3.9250],\n",
      "       device='cuda:0')\n",
      "predictions: tensor([3.3758, 3.6365, 2.9481, 3.0048, 4.2327, 4.4699, 3.6686, 3.5043],\n",
      "       device='cuda:0')\n",
      "true labels: tensor([4.6000, 3.9250, 2.8500, 3.3000, 4.8000, 3.3250, 5.0500, 3.7250],\n",
      "       device='cuda:0')\n",
      "predictions: tensor([3.5478, 4.4148, 3.4240, 3.7057, 3.6455, 4.6826, 4.1336, 3.1818],\n",
      "       device='cuda:0')\n",
      "true labels: tensor([3.3000, 4.6500, 4.0750, 4.5000, 4.7000, 4.7250, 5.2000, 3.0250],\n",
      "       device='cuda:0')\n",
      "predictions: tensor([2.9418, 3.0340, 3.7459, 3.6615, 3.0231, 3.6620, 4.4739, 3.1500],\n",
      "       device='cuda:0')\n",
      "true labels: tensor([2.7000, 2.6750, 4.5250, 4.6000, 2.7500, 4.9500, 4.7000, 3.3250],\n",
      "       device='cuda:0')\n",
      "predictions: tensor([3.9707, 2.9748, 4.6849, 3.4207, 4.0088, 4.0649, 3.4685, 3.4749],\n",
      "       device='cuda:0')\n",
      "true labels: tensor([4.7000, 4.0500, 4.9000, 4.0250, 4.2500, 4.3250, 3.7750, 4.4000],\n",
      "       device='cuda:0')\n",
      "predictions: tensor([3.7085, 4.6848, 3.2371, 3.6473, 3.3469, 3.7886, 3.4397, 4.0403],\n",
      "       device='cuda:0')\n",
      "true labels: tensor([3.7500, 5.3250, 3.9250, 4.4500, 4.7000, 4.7500, 3.9250, 5.0750],\n",
      "       device='cuda:0')\n",
      "predictions: tensor([3.3774, 3.3251, 4.4747, 4.2724, 3.6297, 4.3420, 3.9799, 3.4890],\n",
      "       device='cuda:0')\n",
      "true labels: tensor([3.4750, 4.3000, 5.0000, 4.6000, 3.5000, 5.1000, 4.6000, 3.6500],\n",
      "       device='cuda:0')\n",
      "predictions: tensor([3.0693, 4.3341, 3.1923], device='cuda:0')\n",
      "true labels: tensor([4.0500, 5.2500, 3.4750], device='cuda:0')\n",
      "predictions: tensor([3.7572, 3.9831, 3.8567, 3.1186, 3.9378, 3.8679, 3.3951, 3.1404],\n",
      "       device='cuda:0')\n",
      "true labels: tensor([3.9750, 5.0500, 4.2000, 3.8250, 4.0250, 5.1750, 4.3250, 3.7750],\n",
      "       device='cuda:0')\n",
      "predictions: tensor([3.7293, 3.6106, 3.3158, 4.0518, 3.2963, 3.9668, 4.3088, 3.6486],\n",
      "       device='cuda:0')\n",
      "true labels: tensor([4.7250, 3.8250, 3.4000, 4.2500, 4.3250, 4.5250, 4.8000, 4.5250],\n",
      "       device='cuda:0')\n",
      "predictions: tensor([4.2122, 3.0980, 3.4634, 4.5538, 3.6155, 3.7657, 3.4092, 3.9686],\n",
      "       device='cuda:0')\n",
      "true labels: tensor([4.3000, 4.0500, 3.0500, 4.7500, 4.1000, 4.5000, 3.9000, 4.4250],\n",
      "       device='cuda:0')\n",
      "predictions: tensor([4.0008, 4.5853, 3.8086, 3.2087, 4.2148, 3.3476, 3.7768, 2.9068],\n",
      "       device='cuda:0')\n",
      "true labels: tensor([4.3500, 5.0500, 3.9500, 2.7750, 4.5250, 3.7000, 3.8000, 2.6500],\n",
      "       device='cuda:0')\n",
      "predictions: tensor([3.5310, 3.3709, 3.6369, 3.5626, 4.5816, 3.5023, 3.9567, 3.6874],\n",
      "       device='cuda:0')\n",
      "true labels: tensor([3.9750, 4.1000, 3.8750, 4.2000, 3.8250, 3.5500, 4.0500, 5.0750],\n",
      "       device='cuda:0')\n",
      "predictions: tensor([4.2681, 4.6112, 4.2046, 4.5773, 3.9109, 4.1011, 3.1822, 3.6260],\n",
      "       device='cuda:0')\n",
      "true labels: tensor([4.3750, 5.1500, 4.8000, 4.8750, 4.5000, 5.0250, 2.7500, 4.2500],\n",
      "       device='cuda:0')\n",
      "predictions: tensor([4.5069, 3.4789, 3.9128, 3.6057, 3.0290, 3.5892, 3.3972, 3.9177],\n",
      "       device='cuda:0')\n",
      "true labels: tensor([5.5000, 3.8000, 4.7500, 3.6750, 4.4500, 4.7250, 4.2250, 4.4500],\n",
      "       device='cuda:0')\n",
      "predictions: tensor([3.2634, 4.6797, 3.2912, 3.6380, 3.6381, 3.1916, 3.9320, 3.7417],\n",
      "       device='cuda:0')\n",
      "true labels: tensor([3.7500, 5.2750, 3.5500, 4.1000, 5.0750, 3.3500, 4.8750, 4.7750],\n",
      "       device='cuda:0')\n",
      "predictions: tensor([3.6146, 3.6415, 3.8492, 3.3819, 3.3794, 4.5021, 3.6693, 3.5285],\n",
      "       device='cuda:0')\n",
      "true labels: tensor([3.7000, 4.4000, 4.2500, 3.8500, 3.5000, 4.5750, 4.5500, 4.0250],\n",
      "       device='cuda:0')\n",
      "predictions: tensor([3.7587, 3.6031, 4.4017, 2.8761, 2.7216, 3.5265, 4.6097, 3.5348],\n",
      "       device='cuda:0')\n",
      "true labels: tensor([4.8250, 3.8750, 5.3250, 3.4000, 2.8500, 4.7250, 4.6500, 3.8500],\n",
      "       device='cuda:0')\n",
      "predictions: tensor([4.1477, 3.9267, 3.4433, 4.1151, 3.9165, 4.1946, 3.9753, 4.5002],\n",
      "       device='cuda:0')\n",
      "true labels: tensor([4.6000, 5.2500, 3.3250, 4.3750, 4.7000, 4.8750, 5.1500, 4.8500],\n",
      "       device='cuda:0')\n",
      "predictions: tensor([3.8566, 3.7279, 3.2902, 3.2604, 3.3508, 3.4791, 3.0852, 2.7239],\n",
      "       device='cuda:0')\n",
      "true labels: tensor([4.5250, 4.1250, 3.8750, 3.4750, 4.6750, 3.9500, 2.9000, 2.5250],\n",
      "       device='cuda:0')\n",
      "predictions: tensor([3.4345, 3.6907, 4.0309, 3.4525, 3.6635, 4.1230, 3.6514, 4.6397],\n",
      "       device='cuda:0')\n",
      "true labels: tensor([4.0250, 4.4750, 4.5500, 3.5000, 4.5750, 5.1000, 4.8750, 5.0000],\n",
      "       device='cuda:0')\n",
      "predictions: tensor([4.4386, 3.4270, 4.2734, 4.1377, 4.3720, 3.4071, 2.7264, 4.1271],\n",
      "       device='cuda:0')\n",
      "true labels: tensor([4.0250, 4.1500, 4.6000, 4.2000, 4.5000, 3.1750, 1.8250, 3.5000],\n",
      "       device='cuda:0')\n",
      "predictions: tensor([3.1705, 4.1987, 4.5049, 4.1734, 4.5156, 3.6192, 4.5595, 3.5414],\n",
      "       device='cuda:0')\n",
      "true labels: tensor([3.8250, 4.7250, 4.4750, 4.7250, 4.9250, 4.6000, 5.0500, 4.5500],\n",
      "       device='cuda:0')\n",
      "predictions: tensor([4.0088, 4.4033, 4.1108, 4.5418, 4.1083, 4.5456, 3.7686, 4.6492],\n",
      "       device='cuda:0')\n",
      "true labels: tensor([4.6250, 4.3000, 4.6000, 4.8500, 4.1500, 4.7500, 4.7000, 4.9000],\n",
      "       device='cuda:0')\n",
      "3.483737732355411\n",
      "0.6894168253865316\n"
     ]
    }
   ],
   "source": [
    "# load the best model saved\n",
    "bert = DistilBertModel.from_pretrained(WEIGHTS_NAME)\n",
    "model = models.BERTLinear(bert, OUTPUT_DIM, DROPOUT)\n",
    "model.load_state_dict(torch.load(\"best_valid_loss.pt\"))\n",
    "model.to(device)\n",
    "model.eval()\n",
    "test_loss, test_corr = training.evaluate(model, test_iterator, criterion, debug=True)\n",
    "print(test_loss)\n",
    "print(test_corr)"
   ]
  },
  {
   "cell_type": "markdown",
   "metadata": {
    "id": "l5g0MO_uYqn7"
   },
   "source": [
    "# Misc other stuff"
   ]
  },
  {
   "cell_type": "markdown",
   "metadata": {
    "id": "IebHhmzl_anV"
   },
   "source": [
    "Link to the trainer class: https://huggingface.co/transformers/main_classes/trainer.html\n",
    "\n",
    "\n",
    "\n",
    "Default training arguments: https://huggingface.co/transformers/main_classes/trainer.html#transformers.TrainingArguments\n",
    "\n",
    "Batch size per device: 8\n",
    "\n",
    "Epoch: 3\n",
    "\n",
    "\n",
    "\n",
    "This should be the model I used to generate my initial results: https://huggingface.co/transformers/model_doc/distilbert.html#distilbertforsequenceclassification\n",
    "\"DistilBert Model transformer with a sequence classification/regression head on top (a linear layer on top of the pooled output) e.g. for GLUE tasks.\""
   ]
  }
 ],
 "metadata": {
  "accelerator": "GPU",
  "colab": {
   "collapsed_sections": [],
   "machine_shape": "hm",
   "name": "Regression_pipeline.ipynb",
   "provenance": [
    {
     "file_id": "1TbT1oPbbeEW7w-1XoUmceB67Z6hgJv9L",
     "timestamp": 1621569604758
    }
   ]
  },
  "kernelspec": {
   "display_name": "Python 3",
   "language": "python",
   "name": "python3"
  },
  "language_info": {
   "codemirror_mode": {
    "name": "ipython",
    "version": 3
   },
   "file_extension": ".py",
   "mimetype": "text/x-python",
   "name": "python",
   "nbconvert_exporter": "python",
   "pygments_lexer": "ipython3",
   "version": "3.7.10"
  },
  "widgets": {
   "application/vnd.jupyter.widget-state+json": {
    "082ca58e4f2f42d7af0230ed3b5c40e4": {
     "model_module": "@jupyter-widgets/base",
     "model_name": "LayoutModel",
     "state": {
      "_model_module": "@jupyter-widgets/base",
      "_model_module_version": "1.2.0",
      "_model_name": "LayoutModel",
      "_view_count": null,
      "_view_module": "@jupyter-widgets/base",
      "_view_module_version": "1.2.0",
      "_view_name": "LayoutView",
      "align_content": null,
      "align_items": null,
      "align_self": null,
      "border": null,
      "bottom": null,
      "display": null,
      "flex": null,
      "flex_flow": null,
      "grid_area": null,
      "grid_auto_columns": null,
      "grid_auto_flow": null,
      "grid_auto_rows": null,
      "grid_column": null,
      "grid_gap": null,
      "grid_row": null,
      "grid_template_areas": null,
      "grid_template_columns": null,
      "grid_template_rows": null,
      "height": null,
      "justify_content": null,
      "justify_items": null,
      "left": null,
      "margin": null,
      "max_height": null,
      "max_width": null,
      "min_height": null,
      "min_width": null,
      "object_fit": null,
      "object_position": null,
      "order": null,
      "overflow": null,
      "overflow_x": null,
      "overflow_y": null,
      "padding": null,
      "right": null,
      "top": null,
      "visibility": null,
      "width": null
     }
    },
    "0feedfdfac074b0fb7a7950a8a65fe6e": {
     "model_module": "@jupyter-widgets/controls",
     "model_name": "HTMLModel",
     "state": {
      "_dom_classes": [],
      "_model_module": "@jupyter-widgets/controls",
      "_model_module_version": "1.5.0",
      "_model_name": "HTMLModel",
      "_view_count": null,
      "_view_module": "@jupyter-widgets/controls",
      "_view_module_version": "1.5.0",
      "_view_name": "HTMLView",
      "description": "",
      "description_tooltip": null,
      "layout": "IPY_MODEL_64b90e94382b477cad9365457ce1476f",
      "placeholder": "​",
      "style": "IPY_MODEL_b7ce597d0d0741f5aca0711118f7c9f0",
      "value": " 442/442 [00:00&lt;00:00, 1.22kB/s]"
     }
    },
    "1397386380fe4080ad53a54958c2fbe6": {
     "model_module": "@jupyter-widgets/base",
     "model_name": "LayoutModel",
     "state": {
      "_model_module": "@jupyter-widgets/base",
      "_model_module_version": "1.2.0",
      "_model_name": "LayoutModel",
      "_view_count": null,
      "_view_module": "@jupyter-widgets/base",
      "_view_module_version": "1.2.0",
      "_view_name": "LayoutView",
      "align_content": null,
      "align_items": null,
      "align_self": null,
      "border": null,
      "bottom": null,
      "display": null,
      "flex": null,
      "flex_flow": null,
      "grid_area": null,
      "grid_auto_columns": null,
      "grid_auto_flow": null,
      "grid_auto_rows": null,
      "grid_column": null,
      "grid_gap": null,
      "grid_row": null,
      "grid_template_areas": null,
      "grid_template_columns": null,
      "grid_template_rows": null,
      "height": null,
      "justify_content": null,
      "justify_items": null,
      "left": null,
      "margin": null,
      "max_height": null,
      "max_width": null,
      "min_height": null,
      "min_width": null,
      "object_fit": null,
      "object_position": null,
      "order": null,
      "overflow": null,
      "overflow_x": null,
      "overflow_y": null,
      "padding": null,
      "right": null,
      "top": null,
      "visibility": null,
      "width": null
     }
    },
    "15f6d4fd47d0447597adc90e439d2483": {
     "model_module": "@jupyter-widgets/controls",
     "model_name": "DescriptionStyleModel",
     "state": {
      "_model_module": "@jupyter-widgets/controls",
      "_model_module_version": "1.5.0",
      "_model_name": "DescriptionStyleModel",
      "_view_count": null,
      "_view_module": "@jupyter-widgets/base",
      "_view_module_version": "1.2.0",
      "_view_name": "StyleView",
      "description_width": ""
     }
    },
    "2200957fd62b45999a0bf09d10aafd09": {
     "model_module": "@jupyter-widgets/controls",
     "model_name": "HBoxModel",
     "state": {
      "_dom_classes": [],
      "_model_module": "@jupyter-widgets/controls",
      "_model_module_version": "1.5.0",
      "_model_name": "HBoxModel",
      "_view_count": null,
      "_view_module": "@jupyter-widgets/controls",
      "_view_module_version": "1.5.0",
      "_view_name": "HBoxView",
      "box_style": "",
      "children": [
       "IPY_MODEL_ca00d8df97514714ba60deb51512397f",
       "IPY_MODEL_be5d412ffb7b439f977f29c84fef6974"
      ],
      "layout": "IPY_MODEL_2fd29741371347b29d3ab79702293f89"
     }
    },
    "2f9ea867a0594f9f98d88b79106f03a5": {
     "model_module": "@jupyter-widgets/controls",
     "model_name": "HTMLModel",
     "state": {
      "_dom_classes": [],
      "_model_module": "@jupyter-widgets/controls",
      "_model_module_version": "1.5.0",
      "_model_name": "HTMLModel",
      "_view_count": null,
      "_view_module": "@jupyter-widgets/controls",
      "_view_module_version": "1.5.0",
      "_view_name": "HTMLView",
      "description": "",
      "description_tooltip": null,
      "layout": "IPY_MODEL_382c65ed728d4b2ca46a7b83468c6d73",
      "placeholder": "​",
      "style": "IPY_MODEL_f0b8894c06e5406098b1b70403041316",
      "value": " 268M/268M [00:08&lt;00:00, 31.6MB/s]"
     }
    },
    "2fd29741371347b29d3ab79702293f89": {
     "model_module": "@jupyter-widgets/base",
     "model_name": "LayoutModel",
     "state": {
      "_model_module": "@jupyter-widgets/base",
      "_model_module_version": "1.2.0",
      "_model_name": "LayoutModel",
      "_view_count": null,
      "_view_module": "@jupyter-widgets/base",
      "_view_module_version": "1.2.0",
      "_view_name": "LayoutView",
      "align_content": null,
      "align_items": null,
      "align_self": null,
      "border": null,
      "bottom": null,
      "display": null,
      "flex": null,
      "flex_flow": null,
      "grid_area": null,
      "grid_auto_columns": null,
      "grid_auto_flow": null,
      "grid_auto_rows": null,
      "grid_column": null,
      "grid_gap": null,
      "grid_row": null,
      "grid_template_areas": null,
      "grid_template_columns": null,
      "grid_template_rows": null,
      "height": null,
      "justify_content": null,
      "justify_items": null,
      "left": null,
      "margin": null,
      "max_height": null,
      "max_width": null,
      "min_height": null,
      "min_width": null,
      "object_fit": null,
      "object_position": null,
      "order": null,
      "overflow": null,
      "overflow_x": null,
      "overflow_y": null,
      "padding": null,
      "right": null,
      "top": null,
      "visibility": null,
      "width": null
     }
    },
    "35389ca9c4134cd2bd3db516a30f805b": {
     "model_module": "@jupyter-widgets/controls",
     "model_name": "ProgressStyleModel",
     "state": {
      "_model_module": "@jupyter-widgets/controls",
      "_model_module_version": "1.5.0",
      "_model_name": "ProgressStyleModel",
      "_view_count": null,
      "_view_module": "@jupyter-widgets/base",
      "_view_module_version": "1.2.0",
      "_view_name": "StyleView",
      "bar_color": null,
      "description_width": "initial"
     }
    },
    "3548e016675142abb7dc0200635130b8": {
     "model_module": "@jupyter-widgets/controls",
     "model_name": "ProgressStyleModel",
     "state": {
      "_model_module": "@jupyter-widgets/controls",
      "_model_module_version": "1.5.0",
      "_model_name": "ProgressStyleModel",
      "_view_count": null,
      "_view_module": "@jupyter-widgets/base",
      "_view_module_version": "1.2.0",
      "_view_name": "StyleView",
      "bar_color": null,
      "description_width": "initial"
     }
    },
    "382c65ed728d4b2ca46a7b83468c6d73": {
     "model_module": "@jupyter-widgets/base",
     "model_name": "LayoutModel",
     "state": {
      "_model_module": "@jupyter-widgets/base",
      "_model_module_version": "1.2.0",
      "_model_name": "LayoutModel",
      "_view_count": null,
      "_view_module": "@jupyter-widgets/base",
      "_view_module_version": "1.2.0",
      "_view_name": "LayoutView",
      "align_content": null,
      "align_items": null,
      "align_self": null,
      "border": null,
      "bottom": null,
      "display": null,
      "flex": null,
      "flex_flow": null,
      "grid_area": null,
      "grid_auto_columns": null,
      "grid_auto_flow": null,
      "grid_auto_rows": null,
      "grid_column": null,
      "grid_gap": null,
      "grid_row": null,
      "grid_template_areas": null,
      "grid_template_columns": null,
      "grid_template_rows": null,
      "height": null,
      "justify_content": null,
      "justify_items": null,
      "left": null,
      "margin": null,
      "max_height": null,
      "max_width": null,
      "min_height": null,
      "min_width": null,
      "object_fit": null,
      "object_position": null,
      "order": null,
      "overflow": null,
      "overflow_x": null,
      "overflow_y": null,
      "padding": null,
      "right": null,
      "top": null,
      "visibility": null,
      "width": null
     }
    },
    "5290ba323ad94ad3b3a02d291fed4cb0": {
     "model_module": "@jupyter-widgets/base",
     "model_name": "LayoutModel",
     "state": {
      "_model_module": "@jupyter-widgets/base",
      "_model_module_version": "1.2.0",
      "_model_name": "LayoutModel",
      "_view_count": null,
      "_view_module": "@jupyter-widgets/base",
      "_view_module_version": "1.2.0",
      "_view_name": "LayoutView",
      "align_content": null,
      "align_items": null,
      "align_self": null,
      "border": null,
      "bottom": null,
      "display": null,
      "flex": null,
      "flex_flow": null,
      "grid_area": null,
      "grid_auto_columns": null,
      "grid_auto_flow": null,
      "grid_auto_rows": null,
      "grid_column": null,
      "grid_gap": null,
      "grid_row": null,
      "grid_template_areas": null,
      "grid_template_columns": null,
      "grid_template_rows": null,
      "height": null,
      "justify_content": null,
      "justify_items": null,
      "left": null,
      "margin": null,
      "max_height": null,
      "max_width": null,
      "min_height": null,
      "min_width": null,
      "object_fit": null,
      "object_position": null,
      "order": null,
      "overflow": null,
      "overflow_x": null,
      "overflow_y": null,
      "padding": null,
      "right": null,
      "top": null,
      "visibility": null,
      "width": null
     }
    },
    "57d1101e366c43e488111e81e56639f8": {
     "model_module": "@jupyter-widgets/controls",
     "model_name": "HBoxModel",
     "state": {
      "_dom_classes": [],
      "_model_module": "@jupyter-widgets/controls",
      "_model_module_version": "1.5.0",
      "_model_name": "HBoxModel",
      "_view_count": null,
      "_view_module": "@jupyter-widgets/controls",
      "_view_module_version": "1.5.0",
      "_view_name": "HBoxView",
      "box_style": "",
      "children": [
       "IPY_MODEL_d0a6d051ee204c33a851ed98dc6cbf33",
       "IPY_MODEL_746f4e383e0047b28e64d9d93fffe0aa"
      ],
      "layout": "IPY_MODEL_c60890f71d0241f698caf3304e727668"
     }
    },
    "5d4d62208b0e45b5a063e2d85ab07ce1": {
     "model_module": "@jupyter-widgets/controls",
     "model_name": "ProgressStyleModel",
     "state": {
      "_model_module": "@jupyter-widgets/controls",
      "_model_module_version": "1.5.0",
      "_model_name": "ProgressStyleModel",
      "_view_count": null,
      "_view_module": "@jupyter-widgets/base",
      "_view_module_version": "1.2.0",
      "_view_name": "StyleView",
      "bar_color": null,
      "description_width": "initial"
     }
    },
    "5f785c79f13a48099bbb1477df8aa16d": {
     "model_module": "@jupyter-widgets/controls",
     "model_name": "FloatProgressModel",
     "state": {
      "_dom_classes": [],
      "_model_module": "@jupyter-widgets/controls",
      "_model_module_version": "1.5.0",
      "_model_name": "FloatProgressModel",
      "_view_count": null,
      "_view_module": "@jupyter-widgets/controls",
      "_view_module_version": "1.5.0",
      "_view_name": "ProgressView",
      "bar_style": "success",
      "description": "Downloading: 100%",
      "description_tooltip": null,
      "layout": "IPY_MODEL_082ca58e4f2f42d7af0230ed3b5c40e4",
      "max": 442,
      "min": 0,
      "orientation": "horizontal",
      "style": "IPY_MODEL_35389ca9c4134cd2bd3db516a30f805b",
      "value": 442
     }
    },
    "64b90e94382b477cad9365457ce1476f": {
     "model_module": "@jupyter-widgets/base",
     "model_name": "LayoutModel",
     "state": {
      "_model_module": "@jupyter-widgets/base",
      "_model_module_version": "1.2.0",
      "_model_name": "LayoutModel",
      "_view_count": null,
      "_view_module": "@jupyter-widgets/base",
      "_view_module_version": "1.2.0",
      "_view_name": "LayoutView",
      "align_content": null,
      "align_items": null,
      "align_self": null,
      "border": null,
      "bottom": null,
      "display": null,
      "flex": null,
      "flex_flow": null,
      "grid_area": null,
      "grid_auto_columns": null,
      "grid_auto_flow": null,
      "grid_auto_rows": null,
      "grid_column": null,
      "grid_gap": null,
      "grid_row": null,
      "grid_template_areas": null,
      "grid_template_columns": null,
      "grid_template_rows": null,
      "height": null,
      "justify_content": null,
      "justify_items": null,
      "left": null,
      "margin": null,
      "max_height": null,
      "max_width": null,
      "min_height": null,
      "min_width": null,
      "object_fit": null,
      "object_position": null,
      "order": null,
      "overflow": null,
      "overflow_x": null,
      "overflow_y": null,
      "padding": null,
      "right": null,
      "top": null,
      "visibility": null,
      "width": null
     }
    },
    "6e67df8d4c044ab0b4e11d19b7183d30": {
     "model_module": "@jupyter-widgets/controls",
     "model_name": "HBoxModel",
     "state": {
      "_dom_classes": [],
      "_model_module": "@jupyter-widgets/controls",
      "_model_module_version": "1.5.0",
      "_model_name": "HBoxModel",
      "_view_count": null,
      "_view_module": "@jupyter-widgets/controls",
      "_view_module_version": "1.5.0",
      "_view_name": "HBoxView",
      "box_style": "",
      "children": [
       "IPY_MODEL_8d6916f93ffc41cca2bf8be42251ab5f",
       "IPY_MODEL_2f9ea867a0594f9f98d88b79106f03a5"
      ],
      "layout": "IPY_MODEL_d2eca679c7ac4bb7acb8a8950a83cbff"
     }
    },
    "746f4e383e0047b28e64d9d93fffe0aa": {
     "model_module": "@jupyter-widgets/controls",
     "model_name": "HTMLModel",
     "state": {
      "_dom_classes": [],
      "_model_module": "@jupyter-widgets/controls",
      "_model_module_version": "1.5.0",
      "_model_name": "HTMLModel",
      "_view_count": null,
      "_view_module": "@jupyter-widgets/controls",
      "_view_module_version": "1.5.0",
      "_view_name": "HTMLView",
      "description": "",
      "description_tooltip": null,
      "layout": "IPY_MODEL_d7dbec6e19ec470c9f7289056fc4bfb1",
      "placeholder": "​",
      "style": "IPY_MODEL_15f6d4fd47d0447597adc90e439d2483",
      "value": " 466k/466k [00:00&lt;00:00, 1.05MB/s]"
     }
    },
    "7927b9590f3b435da0347bce52ce60dc": {
     "model_module": "@jupyter-widgets/base",
     "model_name": "LayoutModel",
     "state": {
      "_model_module": "@jupyter-widgets/base",
      "_model_module_version": "1.2.0",
      "_model_name": "LayoutModel",
      "_view_count": null,
      "_view_module": "@jupyter-widgets/base",
      "_view_module_version": "1.2.0",
      "_view_name": "LayoutView",
      "align_content": null,
      "align_items": null,
      "align_self": null,
      "border": null,
      "bottom": null,
      "display": null,
      "flex": null,
      "flex_flow": null,
      "grid_area": null,
      "grid_auto_columns": null,
      "grid_auto_flow": null,
      "grid_auto_rows": null,
      "grid_column": null,
      "grid_gap": null,
      "grid_row": null,
      "grid_template_areas": null,
      "grid_template_columns": null,
      "grid_template_rows": null,
      "height": null,
      "justify_content": null,
      "justify_items": null,
      "left": null,
      "margin": null,
      "max_height": null,
      "max_width": null,
      "min_height": null,
      "min_width": null,
      "object_fit": null,
      "object_position": null,
      "order": null,
      "overflow": null,
      "overflow_x": null,
      "overflow_y": null,
      "padding": null,
      "right": null,
      "top": null,
      "visibility": null,
      "width": null
     }
    },
    "7f14314f8e9947a4bc9f83737f137386": {
     "model_module": "@jupyter-widgets/controls",
     "model_name": "HTMLModel",
     "state": {
      "_dom_classes": [],
      "_model_module": "@jupyter-widgets/controls",
      "_model_module_version": "1.5.0",
      "_model_name": "HTMLModel",
      "_view_count": null,
      "_view_module": "@jupyter-widgets/controls",
      "_view_module_version": "1.5.0",
      "_view_name": "HTMLView",
      "description": "",
      "description_tooltip": null,
      "layout": "IPY_MODEL_5290ba323ad94ad3b3a02d291fed4cb0",
      "placeholder": "​",
      "style": "IPY_MODEL_9254fe5fc823456bb534029578e4afb1",
      "value": " 232k/232k [00:02&lt;00:00, 94.9kB/s]"
     }
    },
    "8774db4d488540d5a640356bceefdb04": {
     "model_module": "@jupyter-widgets/base",
     "model_name": "LayoutModel",
     "state": {
      "_model_module": "@jupyter-widgets/base",
      "_model_module_version": "1.2.0",
      "_model_name": "LayoutModel",
      "_view_count": null,
      "_view_module": "@jupyter-widgets/base",
      "_view_module_version": "1.2.0",
      "_view_name": "LayoutView",
      "align_content": null,
      "align_items": null,
      "align_self": null,
      "border": null,
      "bottom": null,
      "display": null,
      "flex": null,
      "flex_flow": null,
      "grid_area": null,
      "grid_auto_columns": null,
      "grid_auto_flow": null,
      "grid_auto_rows": null,
      "grid_column": null,
      "grid_gap": null,
      "grid_row": null,
      "grid_template_areas": null,
      "grid_template_columns": null,
      "grid_template_rows": null,
      "height": null,
      "justify_content": null,
      "justify_items": null,
      "left": null,
      "margin": null,
      "max_height": null,
      "max_width": null,
      "min_height": null,
      "min_width": null,
      "object_fit": null,
      "object_position": null,
      "order": null,
      "overflow": null,
      "overflow_x": null,
      "overflow_y": null,
      "padding": null,
      "right": null,
      "top": null,
      "visibility": null,
      "width": null
     }
    },
    "8d474015aada485883408a7c89d6d190": {
     "model_module": "@jupyter-widgets/controls",
     "model_name": "DescriptionStyleModel",
     "state": {
      "_model_module": "@jupyter-widgets/controls",
      "_model_module_version": "1.5.0",
      "_model_name": "DescriptionStyleModel",
      "_view_count": null,
      "_view_module": "@jupyter-widgets/base",
      "_view_module_version": "1.2.0",
      "_view_name": "StyleView",
      "description_width": ""
     }
    },
    "8d6916f93ffc41cca2bf8be42251ab5f": {
     "model_module": "@jupyter-widgets/controls",
     "model_name": "FloatProgressModel",
     "state": {
      "_dom_classes": [],
      "_model_module": "@jupyter-widgets/controls",
      "_model_module_version": "1.5.0",
      "_model_name": "FloatProgressModel",
      "_view_count": null,
      "_view_module": "@jupyter-widgets/controls",
      "_view_module_version": "1.5.0",
      "_view_name": "ProgressView",
      "bar_style": "success",
      "description": "Downloading: 100%",
      "description_tooltip": null,
      "layout": "IPY_MODEL_8774db4d488540d5a640356bceefdb04",
      "max": 267967963,
      "min": 0,
      "orientation": "horizontal",
      "style": "IPY_MODEL_3548e016675142abb7dc0200635130b8",
      "value": 267967963
     }
    },
    "9254fe5fc823456bb534029578e4afb1": {
     "model_module": "@jupyter-widgets/controls",
     "model_name": "DescriptionStyleModel",
     "state": {
      "_model_module": "@jupyter-widgets/controls",
      "_model_module_version": "1.5.0",
      "_model_name": "DescriptionStyleModel",
      "_view_count": null,
      "_view_module": "@jupyter-widgets/base",
      "_view_module_version": "1.2.0",
      "_view_name": "StyleView",
      "description_width": ""
     }
    },
    "a52fa27484f34ebdb0abc12c73bf07df": {
     "model_module": "@jupyter-widgets/base",
     "model_name": "LayoutModel",
     "state": {
      "_model_module": "@jupyter-widgets/base",
      "_model_module_version": "1.2.0",
      "_model_name": "LayoutModel",
      "_view_count": null,
      "_view_module": "@jupyter-widgets/base",
      "_view_module_version": "1.2.0",
      "_view_name": "LayoutView",
      "align_content": null,
      "align_items": null,
      "align_self": null,
      "border": null,
      "bottom": null,
      "display": null,
      "flex": null,
      "flex_flow": null,
      "grid_area": null,
      "grid_auto_columns": null,
      "grid_auto_flow": null,
      "grid_auto_rows": null,
      "grid_column": null,
      "grid_gap": null,
      "grid_row": null,
      "grid_template_areas": null,
      "grid_template_columns": null,
      "grid_template_rows": null,
      "height": null,
      "justify_content": null,
      "justify_items": null,
      "left": null,
      "margin": null,
      "max_height": null,
      "max_width": null,
      "min_height": null,
      "min_width": null,
      "object_fit": null,
      "object_position": null,
      "order": null,
      "overflow": null,
      "overflow_x": null,
      "overflow_y": null,
      "padding": null,
      "right": null,
      "top": null,
      "visibility": null,
      "width": null
     }
    },
    "acd20cabcaca47898ce9e056f81dab57": {
     "model_module": "@jupyter-widgets/base",
     "model_name": "LayoutModel",
     "state": {
      "_model_module": "@jupyter-widgets/base",
      "_model_module_version": "1.2.0",
      "_model_name": "LayoutModel",
      "_view_count": null,
      "_view_module": "@jupyter-widgets/base",
      "_view_module_version": "1.2.0",
      "_view_name": "LayoutView",
      "align_content": null,
      "align_items": null,
      "align_self": null,
      "border": null,
      "bottom": null,
      "display": null,
      "flex": null,
      "flex_flow": null,
      "grid_area": null,
      "grid_auto_columns": null,
      "grid_auto_flow": null,
      "grid_auto_rows": null,
      "grid_column": null,
      "grid_gap": null,
      "grid_row": null,
      "grid_template_areas": null,
      "grid_template_columns": null,
      "grid_template_rows": null,
      "height": null,
      "justify_content": null,
      "justify_items": null,
      "left": null,
      "margin": null,
      "max_height": null,
      "max_width": null,
      "min_height": null,
      "min_width": null,
      "object_fit": null,
      "object_position": null,
      "order": null,
      "overflow": null,
      "overflow_x": null,
      "overflow_y": null,
      "padding": null,
      "right": null,
      "top": null,
      "visibility": null,
      "width": null
     }
    },
    "b0861ec9ac15401783bfd9e92487fe43": {
     "model_module": "@jupyter-widgets/controls",
     "model_name": "HBoxModel",
     "state": {
      "_dom_classes": [],
      "_model_module": "@jupyter-widgets/controls",
      "_model_module_version": "1.5.0",
      "_model_name": "HBoxModel",
      "_view_count": null,
      "_view_module": "@jupyter-widgets/controls",
      "_view_module_version": "1.5.0",
      "_view_name": "HBoxView",
      "box_style": "",
      "children": [
       "IPY_MODEL_5f785c79f13a48099bbb1477df8aa16d",
       "IPY_MODEL_0feedfdfac074b0fb7a7950a8a65fe6e"
      ],
      "layout": "IPY_MODEL_a52fa27484f34ebdb0abc12c73bf07df"
     }
    },
    "b21f2efe553e4b388d8647e06e8288f2": {
     "model_module": "@jupyter-widgets/base",
     "model_name": "LayoutModel",
     "state": {
      "_model_module": "@jupyter-widgets/base",
      "_model_module_version": "1.2.0",
      "_model_name": "LayoutModel",
      "_view_count": null,
      "_view_module": "@jupyter-widgets/base",
      "_view_module_version": "1.2.0",
      "_view_name": "LayoutView",
      "align_content": null,
      "align_items": null,
      "align_self": null,
      "border": null,
      "bottom": null,
      "display": null,
      "flex": null,
      "flex_flow": null,
      "grid_area": null,
      "grid_auto_columns": null,
      "grid_auto_flow": null,
      "grid_auto_rows": null,
      "grid_column": null,
      "grid_gap": null,
      "grid_row": null,
      "grid_template_areas": null,
      "grid_template_columns": null,
      "grid_template_rows": null,
      "height": null,
      "justify_content": null,
      "justify_items": null,
      "left": null,
      "margin": null,
      "max_height": null,
      "max_width": null,
      "min_height": null,
      "min_width": null,
      "object_fit": null,
      "object_position": null,
      "order": null,
      "overflow": null,
      "overflow_x": null,
      "overflow_y": null,
      "padding": null,
      "right": null,
      "top": null,
      "visibility": null,
      "width": null
     }
    },
    "b60402a9beae452eb791e6d3caf644ea": {
     "model_module": "@jupyter-widgets/base",
     "model_name": "LayoutModel",
     "state": {
      "_model_module": "@jupyter-widgets/base",
      "_model_module_version": "1.2.0",
      "_model_name": "LayoutModel",
      "_view_count": null,
      "_view_module": "@jupyter-widgets/base",
      "_view_module_version": "1.2.0",
      "_view_name": "LayoutView",
      "align_content": null,
      "align_items": null,
      "align_self": null,
      "border": null,
      "bottom": null,
      "display": null,
      "flex": null,
      "flex_flow": null,
      "grid_area": null,
      "grid_auto_columns": null,
      "grid_auto_flow": null,
      "grid_auto_rows": null,
      "grid_column": null,
      "grid_gap": null,
      "grid_row": null,
      "grid_template_areas": null,
      "grid_template_columns": null,
      "grid_template_rows": null,
      "height": null,
      "justify_content": null,
      "justify_items": null,
      "left": null,
      "margin": null,
      "max_height": null,
      "max_width": null,
      "min_height": null,
      "min_width": null,
      "object_fit": null,
      "object_position": null,
      "order": null,
      "overflow": null,
      "overflow_x": null,
      "overflow_y": null,
      "padding": null,
      "right": null,
      "top": null,
      "visibility": null,
      "width": null
     }
    },
    "b7ce597d0d0741f5aca0711118f7c9f0": {
     "model_module": "@jupyter-widgets/controls",
     "model_name": "DescriptionStyleModel",
     "state": {
      "_model_module": "@jupyter-widgets/controls",
      "_model_module_version": "1.5.0",
      "_model_name": "DescriptionStyleModel",
      "_view_count": null,
      "_view_module": "@jupyter-widgets/base",
      "_view_module_version": "1.2.0",
      "_view_name": "StyleView",
      "description_width": ""
     }
    },
    "be5d412ffb7b439f977f29c84fef6974": {
     "model_module": "@jupyter-widgets/controls",
     "model_name": "HTMLModel",
     "state": {
      "_dom_classes": [],
      "_model_module": "@jupyter-widgets/controls",
      "_model_module_version": "1.5.0",
      "_model_name": "HTMLModel",
      "_view_count": null,
      "_view_module": "@jupyter-widgets/controls",
      "_view_module_version": "1.5.0",
      "_view_name": "HTMLView",
      "description": "",
      "description_tooltip": null,
      "layout": "IPY_MODEL_1397386380fe4080ad53a54958c2fbe6",
      "placeholder": "​",
      "style": "IPY_MODEL_8d474015aada485883408a7c89d6d190",
      "value": " 28.0/28.0 [00:01&lt;00:00, 27.6B/s]"
     }
    },
    "c084b8dc32d442fe9310792cd36e657c": {
     "model_module": "@jupyter-widgets/controls",
     "model_name": "FloatProgressModel",
     "state": {
      "_dom_classes": [],
      "_model_module": "@jupyter-widgets/controls",
      "_model_module_version": "1.5.0",
      "_model_name": "FloatProgressModel",
      "_view_count": null,
      "_view_module": "@jupyter-widgets/controls",
      "_view_module_version": "1.5.0",
      "_view_name": "ProgressView",
      "bar_style": "success",
      "description": "Downloading: 100%",
      "description_tooltip": null,
      "layout": "IPY_MODEL_7927b9590f3b435da0347bce52ce60dc",
      "max": 231508,
      "min": 0,
      "orientation": "horizontal",
      "style": "IPY_MODEL_c8314794652f4c09922340116c972962",
      "value": 231508
     }
    },
    "c60890f71d0241f698caf3304e727668": {
     "model_module": "@jupyter-widgets/base",
     "model_name": "LayoutModel",
     "state": {
      "_model_module": "@jupyter-widgets/base",
      "_model_module_version": "1.2.0",
      "_model_name": "LayoutModel",
      "_view_count": null,
      "_view_module": "@jupyter-widgets/base",
      "_view_module_version": "1.2.0",
      "_view_name": "LayoutView",
      "align_content": null,
      "align_items": null,
      "align_self": null,
      "border": null,
      "bottom": null,
      "display": null,
      "flex": null,
      "flex_flow": null,
      "grid_area": null,
      "grid_auto_columns": null,
      "grid_auto_flow": null,
      "grid_auto_rows": null,
      "grid_column": null,
      "grid_gap": null,
      "grid_row": null,
      "grid_template_areas": null,
      "grid_template_columns": null,
      "grid_template_rows": null,
      "height": null,
      "justify_content": null,
      "justify_items": null,
      "left": null,
      "margin": null,
      "max_height": null,
      "max_width": null,
      "min_height": null,
      "min_width": null,
      "object_fit": null,
      "object_position": null,
      "order": null,
      "overflow": null,
      "overflow_x": null,
      "overflow_y": null,
      "padding": null,
      "right": null,
      "top": null,
      "visibility": null,
      "width": null
     }
    },
    "c8314794652f4c09922340116c972962": {
     "model_module": "@jupyter-widgets/controls",
     "model_name": "ProgressStyleModel",
     "state": {
      "_model_module": "@jupyter-widgets/controls",
      "_model_module_version": "1.5.0",
      "_model_name": "ProgressStyleModel",
      "_view_count": null,
      "_view_module": "@jupyter-widgets/base",
      "_view_module_version": "1.2.0",
      "_view_name": "StyleView",
      "bar_color": null,
      "description_width": "initial"
     }
    },
    "ca00d8df97514714ba60deb51512397f": {
     "model_module": "@jupyter-widgets/controls",
     "model_name": "FloatProgressModel",
     "state": {
      "_dom_classes": [],
      "_model_module": "@jupyter-widgets/controls",
      "_model_module_version": "1.5.0",
      "_model_name": "FloatProgressModel",
      "_view_count": null,
      "_view_module": "@jupyter-widgets/controls",
      "_view_module_version": "1.5.0",
      "_view_name": "ProgressView",
      "bar_style": "success",
      "description": "Downloading: 100%",
      "description_tooltip": null,
      "layout": "IPY_MODEL_acd20cabcaca47898ce9e056f81dab57",
      "max": 28,
      "min": 0,
      "orientation": "horizontal",
      "style": "IPY_MODEL_cae5484150364375b7e97bd83366b9f9",
      "value": 28
     }
    },
    "cae5484150364375b7e97bd83366b9f9": {
     "model_module": "@jupyter-widgets/controls",
     "model_name": "ProgressStyleModel",
     "state": {
      "_model_module": "@jupyter-widgets/controls",
      "_model_module_version": "1.5.0",
      "_model_name": "ProgressStyleModel",
      "_view_count": null,
      "_view_module": "@jupyter-widgets/base",
      "_view_module_version": "1.2.0",
      "_view_name": "StyleView",
      "bar_color": null,
      "description_width": "initial"
     }
    },
    "d0a6d051ee204c33a851ed98dc6cbf33": {
     "model_module": "@jupyter-widgets/controls",
     "model_name": "FloatProgressModel",
     "state": {
      "_dom_classes": [],
      "_model_module": "@jupyter-widgets/controls",
      "_model_module_version": "1.5.0",
      "_model_name": "FloatProgressModel",
      "_view_count": null,
      "_view_module": "@jupyter-widgets/controls",
      "_view_module_version": "1.5.0",
      "_view_name": "ProgressView",
      "bar_style": "success",
      "description": "Downloading: 100%",
      "description_tooltip": null,
      "layout": "IPY_MODEL_b21f2efe553e4b388d8647e06e8288f2",
      "max": 466062,
      "min": 0,
      "orientation": "horizontal",
      "style": "IPY_MODEL_5d4d62208b0e45b5a063e2d85ab07ce1",
      "value": 466062
     }
    },
    "d2eca679c7ac4bb7acb8a8950a83cbff": {
     "model_module": "@jupyter-widgets/base",
     "model_name": "LayoutModel",
     "state": {
      "_model_module": "@jupyter-widgets/base",
      "_model_module_version": "1.2.0",
      "_model_name": "LayoutModel",
      "_view_count": null,
      "_view_module": "@jupyter-widgets/base",
      "_view_module_version": "1.2.0",
      "_view_name": "LayoutView",
      "align_content": null,
      "align_items": null,
      "align_self": null,
      "border": null,
      "bottom": null,
      "display": null,
      "flex": null,
      "flex_flow": null,
      "grid_area": null,
      "grid_auto_columns": null,
      "grid_auto_flow": null,
      "grid_auto_rows": null,
      "grid_column": null,
      "grid_gap": null,
      "grid_row": null,
      "grid_template_areas": null,
      "grid_template_columns": null,
      "grid_template_rows": null,
      "height": null,
      "justify_content": null,
      "justify_items": null,
      "left": null,
      "margin": null,
      "max_height": null,
      "max_width": null,
      "min_height": null,
      "min_width": null,
      "object_fit": null,
      "object_position": null,
      "order": null,
      "overflow": null,
      "overflow_x": null,
      "overflow_y": null,
      "padding": null,
      "right": null,
      "top": null,
      "visibility": null,
      "width": null
     }
    },
    "d7dbec6e19ec470c9f7289056fc4bfb1": {
     "model_module": "@jupyter-widgets/base",
     "model_name": "LayoutModel",
     "state": {
      "_model_module": "@jupyter-widgets/base",
      "_model_module_version": "1.2.0",
      "_model_name": "LayoutModel",
      "_view_count": null,
      "_view_module": "@jupyter-widgets/base",
      "_view_module_version": "1.2.0",
      "_view_name": "LayoutView",
      "align_content": null,
      "align_items": null,
      "align_self": null,
      "border": null,
      "bottom": null,
      "display": null,
      "flex": null,
      "flex_flow": null,
      "grid_area": null,
      "grid_auto_columns": null,
      "grid_auto_flow": null,
      "grid_auto_rows": null,
      "grid_column": null,
      "grid_gap": null,
      "grid_row": null,
      "grid_template_areas": null,
      "grid_template_columns": null,
      "grid_template_rows": null,
      "height": null,
      "justify_content": null,
      "justify_items": null,
      "left": null,
      "margin": null,
      "max_height": null,
      "max_width": null,
      "min_height": null,
      "min_width": null,
      "object_fit": null,
      "object_position": null,
      "order": null,
      "overflow": null,
      "overflow_x": null,
      "overflow_y": null,
      "padding": null,
      "right": null,
      "top": null,
      "visibility": null,
      "width": null
     }
    },
    "f0b8894c06e5406098b1b70403041316": {
     "model_module": "@jupyter-widgets/controls",
     "model_name": "DescriptionStyleModel",
     "state": {
      "_model_module": "@jupyter-widgets/controls",
      "_model_module_version": "1.5.0",
      "_model_name": "DescriptionStyleModel",
      "_view_count": null,
      "_view_module": "@jupyter-widgets/base",
      "_view_module_version": "1.2.0",
      "_view_name": "StyleView",
      "description_width": ""
     }
    },
    "fa80c969c2c14b478caffc7d37384384": {
     "model_module": "@jupyter-widgets/controls",
     "model_name": "HBoxModel",
     "state": {
      "_dom_classes": [],
      "_model_module": "@jupyter-widgets/controls",
      "_model_module_version": "1.5.0",
      "_model_name": "HBoxModel",
      "_view_count": null,
      "_view_module": "@jupyter-widgets/controls",
      "_view_module_version": "1.5.0",
      "_view_name": "HBoxView",
      "box_style": "",
      "children": [
       "IPY_MODEL_c084b8dc32d442fe9310792cd36e657c",
       "IPY_MODEL_7f14314f8e9947a4bc9f83737f137386"
      ],
      "layout": "IPY_MODEL_b60402a9beae452eb791e6d3caf644ea"
     }
    }
   }
  }
 },
 "nbformat": 4,
 "nbformat_minor": 1
}
